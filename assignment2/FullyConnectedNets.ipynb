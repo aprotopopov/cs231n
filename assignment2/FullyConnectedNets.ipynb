{
 "cells": [
  {
   "cell_type": "markdown",
   "metadata": {},
   "source": [
    "# Fully-Connected Neural Nets\n",
    "In the previous homework you implemented a fully-connected two-layer neural network on CIFAR-10. The implementation was simple but not very modular since the loss and gradient were computed in a single monolithic function. This is manageable for a simple two-layer network, but would become impractical as we move to bigger models. Ideally we want to build networks using a more modular design so that we can implement different layer types in isolation and then snap them together into models with different architectures.\n",
    "\n",
    "In this exercise we will implement fully-connected networks using a more modular approach. For each layer we will implement a `forward` and a `backward` function. The `forward` function will receive inputs, weights, and other parameters and will return both an output and a `cache` object storing data needed for the backward pass, like this:\n",
    "\n",
    "```python\n",
    "def layer_forward(x, w):\n",
    "  \"\"\" Receive inputs x and weights w \"\"\"\n",
    "  # Do some computations ...\n",
    "  z = # ... some intermediate value\n",
    "  # Do some more computations ...\n",
    "  out = # the output\n",
    "   \n",
    "  cache = (x, w, z, out) # Values we need to compute gradients\n",
    "   \n",
    "  return out, cache\n",
    "```\n",
    "\n",
    "The backward pass will receive upstream derivatives and the `cache` object, and will return gradients with respect to the inputs and weights, like this:\n",
    "\n",
    "```python\n",
    "def layer_backward(dout, cache):\n",
    "  \"\"\"\n",
    "  Receive derivative of loss with respect to outputs and cache,\n",
    "  and compute derivative with respect to inputs.\n",
    "  \"\"\"\n",
    "  # Unpack cache values\n",
    "  x, w, z, out = cache\n",
    "  \n",
    "  # Use values in cache to compute derivatives\n",
    "  dx = # Derivative of loss with respect to x\n",
    "  dw = # Derivative of loss with respect to w\n",
    "  \n",
    "  return dx, dw\n",
    "```\n",
    "\n",
    "After implementing a bunch of layers this way, we will be able to easily combine them to build classifiers with different architectures.\n",
    "\n",
    "In addition to implementing fully-connected networks of arbitrary depth, we will also explore different update rules for optimization, and introduce Dropout as a regularizer and Batch Normalization as a tool to more efficiently optimize deep networks.\n",
    "  "
   ]
  },
  {
   "cell_type": "code",
   "execution_count": 1,
   "metadata": {
    "ExecuteTime": {
     "end_time": "2018-01-15T05:42:10.724845Z",
     "start_time": "2018-01-15T05:42:10.367833Z"
    }
   },
   "outputs": [
    {
     "name": "stdout",
     "output_type": "stream",
     "text": [
      "run the following from the cs231n directory and try again:\n",
      "python setup.py build_ext --inplace\n",
      "You may also need to restart your iPython kernel\n",
      "The autoreload extension is already loaded. To reload it, use:\n",
      "  %reload_ext autoreload\n"
     ]
    }
   ],
   "source": [
    "# As usual, a bit of setup\n",
    "from __future__ import print_function\n",
    "import time\n",
    "import numpy as np\n",
    "import matplotlib.pyplot as plt\n",
    "from cs231n.classifiers.fc_net import *\n",
    "from cs231n.data_utils import get_CIFAR10_data\n",
    "from cs231n.gradient_check import eval_numerical_gradient, eval_numerical_gradient_array\n",
    "from cs231n.solver import Solver\n",
    "\n",
    "%matplotlib inline\n",
    "plt.rcParams['figure.figsize'] = (10.0, 8.0) # set default size of plots\n",
    "plt.rcParams['image.interpolation'] = 'nearest'\n",
    "plt.rcParams['image.cmap'] = 'gray'\n",
    "\n",
    "# for auto-reloading external modules\n",
    "# see http://stackoverflow.com/questions/1907993/autoreload-of-modules-in-ipython\n",
    "%load_ext autoreload\n",
    "%autoreload 2\n",
    "\n",
    "def rel_error(x, y):\n",
    "  \"\"\" returns relative error \"\"\"\n",
    "  return np.max(np.abs(x - y) / (np.maximum(1e-8, np.abs(x) + np.abs(y))))"
   ]
  },
  {
   "cell_type": "code",
   "execution_count": 2,
   "metadata": {
    "ExecuteTime": {
     "end_time": "2018-01-15T05:42:18.550610Z",
     "start_time": "2018-01-15T05:42:12.900169Z"
    }
   },
   "outputs": [
    {
     "name": "stdout",
     "output_type": "stream",
     "text": [
      "('X_train: ', (49000, 3, 32, 32))\n",
      "('y_train: ', (49000,))\n",
      "('X_val: ', (1000, 3, 32, 32))\n",
      "('y_val: ', (1000,))\n",
      "('X_test: ', (1000, 3, 32, 32))\n",
      "('y_test: ', (1000,))\n"
     ]
    }
   ],
   "source": [
    "# Load the (preprocessed) CIFAR10 data.\n",
    "\n",
    "data = get_CIFAR10_data()\n",
    "for k, v in list(data.items()):\n",
    "  print(('%s: ' % k, v.shape))"
   ]
  },
  {
   "cell_type": "markdown",
   "metadata": {},
   "source": [
    "# Affine layer: foward\n",
    "Open the file `cs231n/layers.py` and implement the `affine_forward` function.\n",
    "\n",
    "Once you are done you can test your implementaion by running the following:"
   ]
  },
  {
   "cell_type": "code",
   "execution_count": 19,
   "metadata": {
    "ExecuteTime": {
     "end_time": "2018-01-11T11:09:35.059492Z",
     "start_time": "2018-01-11T11:09:35.037058Z"
    }
   },
   "outputs": [
    {
     "name": "stdout",
     "output_type": "stream",
     "text": [
      "Testing affine_forward function:\n",
      "difference:  9.769849468192957e-10\n"
     ]
    }
   ],
   "source": [
    "# Test the affine_forward function\n",
    "\n",
    "num_inputs = 2\n",
    "input_shape = (4, 5, 6)\n",
    "output_dim = 3\n",
    "\n",
    "input_size = num_inputs * np.prod(input_shape)\n",
    "weight_size = output_dim * np.prod(input_shape)\n",
    "\n",
    "x = np.linspace(-0.1, 0.5, num=input_size).reshape(num_inputs, *input_shape)\n",
    "w = np.linspace(-0.2, 0.3, num=weight_size).reshape(np.prod(input_shape), output_dim)\n",
    "b = np.linspace(-0.3, 0.1, num=output_dim)\n",
    "\n",
    "out, _ = affine_forward(x, w, b)\n",
    "correct_out = np.array([[ 1.49834967,  1.70660132,  1.91485297],\n",
    "                        [ 3.25553199,  3.5141327,   3.77273342]])\n",
    "\n",
    "# Compare your output with ours. The error should be around 1e-9.\n",
    "print('Testing affine_forward function:')\n",
    "print('difference: ', rel_error(out, correct_out))"
   ]
  },
  {
   "cell_type": "markdown",
   "metadata": {},
   "source": [
    "# Affine layer: backward\n",
    "Now implement the `affine_backward` function and test your implementation using numeric gradient checking."
   ]
  },
  {
   "cell_type": "code",
   "execution_count": 24,
   "metadata": {
    "ExecuteTime": {
     "end_time": "2018-01-11T11:55:01.542620Z",
     "start_time": "2018-01-11T11:55:01.479368Z"
    }
   },
   "outputs": [
    {
     "name": "stdout",
     "output_type": "stream",
     "text": [
      "Testing affine_backward function:\n",
      "dx error:  5.399100368651805e-11\n",
      "dw error:  9.904211865398145e-11\n",
      "db error:  2.4122867568119087e-11\n"
     ]
    }
   ],
   "source": [
    "# Test the affine_backward function\n",
    "np.random.seed(231)\n",
    "x = np.random.randn(10, 2, 3)\n",
    "w = np.random.randn(6, 5)\n",
    "b = np.random.randn(5)\n",
    "dout = np.random.randn(10, 5)\n",
    "\n",
    "dx_num = eval_numerical_gradient_array(lambda x: affine_forward(x, w, b)[0], x, dout)\n",
    "dw_num = eval_numerical_gradient_array(lambda w: affine_forward(x, w, b)[0], w, dout)\n",
    "db_num = eval_numerical_gradient_array(lambda b: affine_forward(x, w, b)[0], b, dout)\n",
    "\n",
    "_, cache = affine_forward(x, w, b)\n",
    "dx, dw, db = affine_backward(dout, cache)\n",
    "\n",
    "# The error should be around 1e-10\n",
    "print('Testing affine_backward function:')\n",
    "print('dx error: ', rel_error(dx_num, dx))\n",
    "print('dw error: ', rel_error(dw_num, dw))\n",
    "print('db error: ', rel_error(db_num, db))"
   ]
  },
  {
   "cell_type": "markdown",
   "metadata": {},
   "source": [
    "# ReLU layer: forward\n",
    "Implement the forward pass for the ReLU activation function in the `relu_forward` function and test your implementation using the following:"
   ]
  },
  {
   "cell_type": "code",
   "execution_count": 25,
   "metadata": {
    "ExecuteTime": {
     "end_time": "2018-01-12T04:51:27.494461Z",
     "start_time": "2018-01-12T04:51:27.468768Z"
    }
   },
   "outputs": [
    {
     "name": "stdout",
     "output_type": "stream",
     "text": [
      "Testing relu_forward function:\n",
      "difference:  4.999999798022158e-08\n"
     ]
    }
   ],
   "source": [
    "# Test the relu_forward function\n",
    "\n",
    "x = np.linspace(-0.5, 0.5, num=12).reshape(3, 4)\n",
    "\n",
    "out, _ = relu_forward(x)\n",
    "correct_out = np.array([[ 0.,          0.,          0.,          0.,        ],\n",
    "                        [ 0.,          0.,          0.04545455,  0.13636364,],\n",
    "                        [ 0.22727273,  0.31818182,  0.40909091,  0.5,       ]])\n",
    "\n",
    "# Compare your output with ours. The error should be around 5e-8\n",
    "print('Testing relu_forward function:')\n",
    "print('difference: ', rel_error(out, correct_out))"
   ]
  },
  {
   "cell_type": "markdown",
   "metadata": {},
   "source": [
    "# ReLU layer: backward\n",
    "Now implement the backward pass for the ReLU activation function in the `relu_backward` function and test your implementation using numeric gradient checking:"
   ]
  },
  {
   "cell_type": "code",
   "execution_count": 27,
   "metadata": {
    "ExecuteTime": {
     "end_time": "2018-01-12T04:52:34.305014Z",
     "start_time": "2018-01-12T04:52:34.264088Z"
    }
   },
   "outputs": [
    {
     "name": "stdout",
     "output_type": "stream",
     "text": [
      "Testing relu_backward function:\n",
      "dx error:  3.2756349136310288e-12\n"
     ]
    }
   ],
   "source": [
    "np.random.seed(231)\n",
    "x = np.random.randn(10, 10)\n",
    "dout = np.random.randn(*x.shape)\n",
    "\n",
    "dx_num = eval_numerical_gradient_array(lambda x: relu_forward(x)[0], x, dout)\n",
    "\n",
    "_, cache = relu_forward(x)\n",
    "dx = relu_backward(dout, cache)\n",
    "\n",
    "# The error should be around 3e-12\n",
    "print('Testing relu_backward function:')\n",
    "print('dx error: ', rel_error(dx_num, dx))"
   ]
  },
  {
   "cell_type": "markdown",
   "metadata": {},
   "source": [
    "# \"Sandwich\" layers\n",
    "There are some common patterns of layers that are frequently used in neural nets. For example, affine layers are frequently followed by a ReLU nonlinearity. To make these common patterns easy, we define several convenience layers in the file `cs231n/layer_utils.py`.\n",
    "\n",
    "For now take a look at the `affine_relu_forward` and `affine_relu_backward` functions, and run the following to numerically gradient check the backward pass:"
   ]
  },
  {
   "cell_type": "code",
   "execution_count": 28,
   "metadata": {
    "ExecuteTime": {
     "end_time": "2018-01-12T04:54:51.923633Z",
     "start_time": "2018-01-12T04:54:51.856837Z"
    }
   },
   "outputs": [
    {
     "name": "stdout",
     "output_type": "stream",
     "text": [
      "Testing affine_relu_forward:\n",
      "dx error:  2.299579177309368e-11\n",
      "dw error:  8.162011105764925e-11\n",
      "db error:  7.826724021458994e-12\n"
     ]
    }
   ],
   "source": [
    "from cs231n.layer_utils import affine_relu_forward, affine_relu_backward\n",
    "np.random.seed(231)\n",
    "x = np.random.randn(2, 3, 4)\n",
    "w = np.random.randn(12, 10)\n",
    "b = np.random.randn(10)\n",
    "dout = np.random.randn(2, 10)\n",
    "\n",
    "out, cache = affine_relu_forward(x, w, b)\n",
    "dx, dw, db = affine_relu_backward(dout, cache)\n",
    "\n",
    "dx_num = eval_numerical_gradient_array(lambda x: affine_relu_forward(x, w, b)[0], x, dout)\n",
    "dw_num = eval_numerical_gradient_array(lambda w: affine_relu_forward(x, w, b)[0], w, dout)\n",
    "db_num = eval_numerical_gradient_array(lambda b: affine_relu_forward(x, w, b)[0], b, dout)\n",
    "\n",
    "print('Testing affine_relu_forward:')\n",
    "print('dx error: ', rel_error(dx_num, dx))\n",
    "print('dw error: ', rel_error(dw_num, dw))\n",
    "print('db error: ', rel_error(db_num, db))"
   ]
  },
  {
   "cell_type": "markdown",
   "metadata": {},
   "source": [
    "# Loss layers: Softmax and SVM\n",
    "You implemented these loss functions in the last assignment, so we'll give them to you for free here. You should still make sure you understand how they work by looking at the implementations in `cs231n/layers.py`.\n",
    "\n",
    "You can make sure that the implementations are correct by running the following:"
   ]
  },
  {
   "cell_type": "code",
   "execution_count": 29,
   "metadata": {
    "ExecuteTime": {
     "end_time": "2018-01-12T05:06:31.958929Z",
     "start_time": "2018-01-12T05:06:31.720285Z"
    }
   },
   "outputs": [
    {
     "name": "stdout",
     "output_type": "stream",
     "text": [
      "Testing svm_loss:\n",
      "loss:  8.999602749096233\n",
      "dx error:  1.4021566006651672e-09\n",
      "\n",
      "Testing softmax_loss:\n",
      "loss:  2.302545844500738\n",
      "dx error:  9.384673161989355e-09\n"
     ]
    }
   ],
   "source": [
    "np.random.seed(231)\n",
    "num_classes, num_inputs = 10, 50\n",
    "x = 0.001 * np.random.randn(num_inputs, num_classes)\n",
    "y = np.random.randint(num_classes, size=num_inputs)\n",
    "\n",
    "dx_num = eval_numerical_gradient(lambda x: svm_loss(x, y)[0], x, verbose=False)\n",
    "loss, dx = svm_loss(x, y)\n",
    "\n",
    "# Test svm_loss function. Loss should be around 9 and dx error should be 1e-9\n",
    "print('Testing svm_loss:')\n",
    "print('loss: ', loss)\n",
    "print('dx error: ', rel_error(dx_num, dx))\n",
    "\n",
    "dx_num = eval_numerical_gradient(lambda x: softmax_loss(x, y)[0], x, verbose=False)\n",
    "loss, dx = softmax_loss(x, y)\n",
    "\n",
    "# Test softmax_loss function. Loss should be 2.3 and dx error should be 1e-8\n",
    "print('\\nTesting softmax_loss:')\n",
    "print('loss: ', loss)\n",
    "print('dx error: ', rel_error(dx_num, dx))"
   ]
  },
  {
   "cell_type": "markdown",
   "metadata": {},
   "source": [
    "# Two-layer network\n",
    "In the previous assignment you implemented a two-layer neural network in a single monolithic class. Now that you have implemented modular versions of the necessary layers, you will reimplement the two layer network using these modular implementations.\n",
    "\n",
    "Open the file `cs231n/classifiers/fc_net.py` and complete the implementation of the `TwoLayerNet` class. This class will serve as a model for the other networks you will implement in this assignment, so read through it to make sure you understand the API. You can run the cell below to test your implementation."
   ]
  },
  {
   "cell_type": "code",
   "execution_count": null,
   "metadata": {},
   "outputs": [],
   "source": [
    "np.random.normal()"
   ]
  },
  {
   "cell_type": "code",
   "execution_count": null,
   "metadata": {},
   "outputs": [],
   "source": [
    "np.random.randn()"
   ]
  },
  {
   "cell_type": "code",
   "execution_count": 27,
   "metadata": {
    "ExecuteTime": {
     "end_time": "2018-01-15T05:49:30.895058Z",
     "start_time": "2018-01-15T05:49:30.382759Z"
    }
   },
   "outputs": [
    {
     "name": "stdout",
     "output_type": "stream",
     "text": [
      "Testing initialization ... \n",
      "Testing test-time forward pass ... \n",
      "Testing training loss (no regularization)\n",
      "Running numeric gradient check with reg =  0.0\n",
      "W1 relative error: 1.83e-08\n",
      "W2 relative error: 3.12e-10\n",
      "b1 relative error: 9.83e-09\n",
      "b2 relative error: 4.33e-10\n",
      "Running numeric gradient check with reg =  0.7\n",
      "W1 relative error: 2.53e-07\n",
      "W2 relative error: 2.85e-08\n",
      "b1 relative error: 1.56e-08\n",
      "b2 relative error: 7.76e-10\n"
     ]
    }
   ],
   "source": [
    "np.random.seed(231)\n",
    "N, D, H, C = 3, 5, 50, 7\n",
    "X = np.random.randn(N, D)\n",
    "y = np.random.randint(C, size=N)\n",
    "\n",
    "std = 1e-3\n",
    "model = TwoLayerNet(input_dim=D, hidden_dim=H, num_classes=C, weight_scale=std)\n",
    "\n",
    "print('Testing initialization ... ')\n",
    "W1_std = abs(model.params['W1'].std() - std)\n",
    "b1 = model.params['b1']\n",
    "W2_std = abs(model.params['W2'].std() - std)\n",
    "b2 = model.params['b2']\n",
    "assert W1_std < std / 10, 'First layer weights do not seem right'\n",
    "assert np.all(b1 == 0), 'First layer biases do not seem right'\n",
    "assert W2_std < std / 10, 'Second layer weights do not seem right'\n",
    "assert np.all(b2 == 0), 'Second layer biases do not seem right'\n",
    "\n",
    "print('Testing test-time forward pass ... ')\n",
    "model.params['W1'] = np.linspace(-0.7, 0.3, num=D*H).reshape(D, H)\n",
    "model.params['b1'] = np.linspace(-0.1, 0.9, num=H)\n",
    "model.params['W2'] = np.linspace(-0.3, 0.4, num=H*C).reshape(H, C)\n",
    "model.params['b2'] = np.linspace(-0.9, 0.1, num=C)\n",
    "X = np.linspace(-5.5, 4.5, num=N*D).reshape(D, N).T\n",
    "scores = model.loss(X)\n",
    "correct_scores = np.asarray(\n",
    "  [[11.53165108,  12.2917344,   13.05181771,  13.81190102,  14.57198434, 15.33206765,  16.09215096],\n",
    "   [12.05769098,  12.74614105,  13.43459113,  14.1230412,   14.81149128, 15.49994135,  16.18839143],\n",
    "   [12.58373087,  13.20054771,  13.81736455,  14.43418138,  15.05099822, 15.66781506,  16.2846319 ]])\n",
    "scores_diff = np.abs(scores - correct_scores).sum()\n",
    "assert scores_diff < 1e-6, 'Problem with test-time forward pass'\n",
    "\n",
    "print('Testing training loss (no regularization)')\n",
    "y = np.asarray([0, 5, 1])\n",
    "loss, grads = model.loss(X, y)\n",
    "correct_loss = 3.4702243556\n",
    "assert abs(loss - correct_loss) < 1e-10, 'Problem with training-time loss'\n",
    "\n",
    "model.reg = 1.0\n",
    "loss, grads = model.loss(X, y)\n",
    "correct_loss = 26.5948426952\n",
    "assert abs(loss - correct_loss) < 1e-10, 'Problem with regularization loss'\n",
    "\n",
    "for reg in [0.0, 0.7]:\n",
    "  print('Running numeric gradient check with reg = ', reg)\n",
    "  model.reg = reg\n",
    "  loss, grads = model.loss(X, y)\n",
    "\n",
    "  for name in sorted(grads):\n",
    "    f = lambda _: model.loss(X, y)[0]\n",
    "    grad_num = eval_numerical_gradient(f, model.params[name], verbose=False)\n",
    "    print('%s relative error: %.2e' % (name, rel_error(grad_num, grads[name])))"
   ]
  },
  {
   "cell_type": "markdown",
   "metadata": {},
   "source": [
    "# Solver\n",
    "In the previous assignment, the logic for training models was coupled to the models themselves. Following a more modular design, for this assignment we have split the logic for training models into a separate class.\n",
    "\n",
    "Open the file `cs231n/solver.py` and read through it to familiarize yourself with the API. After doing so, use a `Solver` instance to train a `TwoLayerNet` that achieves at least `50%` accuracy on the validation set."
   ]
  },
  {
   "cell_type": "code",
   "execution_count": 58,
   "metadata": {
    "ExecuteTime": {
     "end_time": "2018-01-15T05:40:06.084632Z",
     "start_time": "2018-01-15T05:40:06.066666Z"
    }
   },
   "outputs": [
    {
     "data": {
      "text/plain": [
       "dict_keys(['X_train', 'y_train', 'X_val', 'y_val'])"
      ]
     },
     "execution_count": 58,
     "metadata": {},
     "output_type": "execute_result"
    }
   ],
   "source": [
    "data.keys()"
   ]
  },
  {
   "cell_type": "code",
   "execution_count": 60,
   "metadata": {
    "ExecuteTime": {
     "end_time": "2018-01-15T05:40:28.762061Z",
     "start_time": "2018-01-15T05:40:28.744950Z"
    }
   },
   "outputs": [
    {
     "data": {
      "text/plain": [
       "(49000, 3, 32, 32)"
      ]
     },
     "execution_count": 60,
     "metadata": {},
     "output_type": "execute_result"
    }
   ],
   "source": [
    "data['X_train'].shape"
   ]
  },
  {
   "cell_type": "code",
   "execution_count": 57,
   "metadata": {
    "ExecuteTime": {
     "end_time": "2018-01-15T05:40:05.466370Z",
     "start_time": "2018-01-15T05:40:05.447137Z"
    }
   },
   "outputs": [],
   "source": [
    "del data['y_test']"
   ]
  },
  {
   "cell_type": "code",
   "execution_count": 48,
   "metadata": {
    "ExecuteTime": {
     "end_time": "2018-01-15T05:33:35.132388Z",
     "start_time": "2018-01-15T05:33:35.112726Z"
    }
   },
   "outputs": [
    {
     "data": {
      "text/plain": [
       "dict_keys(['W1', 'b1', 'W2', 'b2'])"
      ]
     },
     "execution_count": 48,
     "metadata": {},
     "output_type": "execute_result"
    }
   ],
   "source": [
    "model.params.keys()"
   ]
  },
  {
   "cell_type": "code",
   "execution_count": 49,
   "metadata": {
    "ExecuteTime": {
     "end_time": "2018-01-15T05:33:42.848448Z",
     "start_time": "2018-01-15T05:33:42.829120Z"
    }
   },
   "outputs": [
    {
     "data": {
      "text/plain": [
       "(3072, 100)"
      ]
     },
     "execution_count": 49,
     "metadata": {},
     "output_type": "execute_result"
    }
   ],
   "source": [
    "model.params['W1'].shape"
   ]
  },
  {
   "cell_type": "code",
   "execution_count": 50,
   "metadata": {
    "ExecuteTime": {
     "end_time": "2018-01-15T05:33:48.308003Z",
     "start_time": "2018-01-15T05:33:48.289345Z"
    }
   },
   "outputs": [
    {
     "data": {
      "text/plain": [
       "(100, 10)"
      ]
     },
     "execution_count": 50,
     "metadata": {},
     "output_type": "execute_result"
    }
   ],
   "source": [
    "model.params['W2'].shape"
   ]
  },
  {
   "cell_type": "code",
   "execution_count": 73,
   "metadata": {
    "ExecuteTime": {
     "end_time": "2018-01-15T05:56:29.390755Z",
     "start_time": "2018-01-15T05:56:29.357741Z"
    }
   },
   "outputs": [],
   "source": [
    "model = TwoLayerNet()\n",
    "solver = None\n",
    "\n",
    "##############################################################################\n",
    "# TODO: Use a Solver instance to train a TwoLayerNet that achieves at least  #\n",
    "# 50% accuracy on the validation set.                                        #\n",
    "##############################################################################\n",
    "solver = Solver(model, data,\n",
    "                update_rule='sgd',\n",
    "                optim_config={\n",
    "                  'learning_rate': 1e-3,\n",
    "                },\n",
    "                lr_decay=0.95,\n",
    "                num_epochs=100, batch_size=200,\n",
    "                print_every=100)\n",
    "\n",
    "##############################################################################\n",
    "#                             END OF YOUR CODE                               #\n",
    "##############################################################################"
   ]
  },
  {
   "cell_type": "code",
   "execution_count": 74,
   "metadata": {
    "ExecuteTime": {
     "end_time": "2018-01-15T06:02:19.055396Z",
     "start_time": "2018-01-15T05:56:30.672295Z"
    }
   },
   "outputs": [
    {
     "name": "stdout",
     "output_type": "stream",
     "text": [
      "(Iteration 1 / 24500) loss: 2.301587\n",
      "(Epoch 0 / 100) train acc: 0.097000; val_acc: 0.114000\n",
      "(Iteration 101 / 24500) loss: 1.734465\n",
      "(Iteration 201 / 24500) loss: 1.579956\n",
      "(Epoch 1 / 100) train acc: 0.444000; val_acc: 0.451000\n",
      "(Iteration 301 / 24500) loss: 1.485718\n",
      "(Iteration 401 / 24500) loss: 1.474070\n",
      "(Epoch 2 / 100) train acc: 0.452000; val_acc: 0.462000\n",
      "(Iteration 501 / 24500) loss: 1.496473\n",
      "(Iteration 601 / 24500) loss: 1.431615\n",
      "(Iteration 701 / 24500) loss: 1.390880\n",
      "(Epoch 3 / 100) train acc: 0.513000; val_acc: 0.484000\n",
      "(Iteration 801 / 24500) loss: 1.396433\n",
      "(Iteration 901 / 24500) loss: 1.344871\n",
      "(Epoch 4 / 100) train acc: 0.514000; val_acc: 0.498000\n",
      "(Iteration 1001 / 24500) loss: 1.313311\n",
      "(Iteration 1101 / 24500) loss: 1.302321\n",
      "(Iteration 1201 / 24500) loss: 1.265339\n",
      "(Epoch 5 / 100) train acc: 0.539000; val_acc: 0.518000\n",
      "(Iteration 1301 / 24500) loss: 1.318333\n",
      "(Iteration 1401 / 24500) loss: 1.368026\n",
      "(Epoch 6 / 100) train acc: 0.549000; val_acc: 0.505000\n",
      "(Iteration 1501 / 24500) loss: 1.256580\n",
      "(Iteration 1601 / 24500) loss: 1.201657\n",
      "(Iteration 1701 / 24500) loss: 1.416044\n",
      "(Epoch 7 / 100) train acc: 0.557000; val_acc: 0.496000\n",
      "(Iteration 1801 / 24500) loss: 1.215349\n",
      "(Iteration 1901 / 24500) loss: 1.354972\n",
      "(Epoch 8 / 100) train acc: 0.578000; val_acc: 0.504000\n",
      "(Iteration 2001 / 24500) loss: 1.127864\n",
      "(Iteration 2101 / 24500) loss: 1.362908\n",
      "(Iteration 2201 / 24500) loss: 1.219752\n",
      "(Epoch 9 / 100) train acc: 0.550000; val_acc: 0.490000\n",
      "(Iteration 2301 / 24500) loss: 1.263357\n",
      "(Iteration 2401 / 24500) loss: 1.162624\n",
      "(Epoch 10 / 100) train acc: 0.581000; val_acc: 0.519000\n",
      "(Iteration 2501 / 24500) loss: 1.193167\n",
      "(Iteration 2601 / 24500) loss: 1.210960\n",
      "(Epoch 11 / 100) train acc: 0.601000; val_acc: 0.520000\n",
      "(Iteration 2701 / 24500) loss: 1.018960\n",
      "(Iteration 2801 / 24500) loss: 1.140075\n",
      "(Iteration 2901 / 24500) loss: 1.240512\n",
      "(Epoch 12 / 100) train acc: 0.631000; val_acc: 0.532000\n",
      "(Iteration 3001 / 24500) loss: 0.982324\n",
      "(Iteration 3101 / 24500) loss: 1.044519\n",
      "(Epoch 13 / 100) train acc: 0.621000; val_acc: 0.510000\n",
      "(Iteration 3201 / 24500) loss: 1.352759\n",
      "(Iteration 3301 / 24500) loss: 1.081789\n",
      "(Iteration 3401 / 24500) loss: 1.095013\n",
      "(Epoch 14 / 100) train acc: 0.646000; val_acc: 0.513000\n",
      "(Iteration 3501 / 24500) loss: 1.086854\n",
      "(Iteration 3601 / 24500) loss: 1.101445\n",
      "(Epoch 15 / 100) train acc: 0.627000; val_acc: 0.522000\n",
      "(Iteration 3701 / 24500) loss: 1.099994\n",
      "(Iteration 3801 / 24500) loss: 0.981160\n",
      "(Iteration 3901 / 24500) loss: 1.080778\n",
      "(Epoch 16 / 100) train acc: 0.620000; val_acc: 0.525000\n",
      "(Iteration 4001 / 24500) loss: 1.030682\n",
      "(Iteration 4101 / 24500) loss: 1.024323\n",
      "(Epoch 17 / 100) train acc: 0.640000; val_acc: 0.522000\n",
      "(Iteration 4201 / 24500) loss: 0.982516\n",
      "(Iteration 4301 / 24500) loss: 0.954045\n",
      "(Iteration 4401 / 24500) loss: 1.091875\n",
      "(Epoch 18 / 100) train acc: 0.627000; val_acc: 0.518000\n",
      "(Iteration 4501 / 24500) loss: 0.988595\n",
      "(Iteration 4601 / 24500) loss: 0.860162\n",
      "(Epoch 19 / 100) train acc: 0.636000; val_acc: 0.521000\n",
      "(Iteration 4701 / 24500) loss: 1.046687\n",
      "(Iteration 4801 / 24500) loss: 0.995244\n",
      "(Epoch 20 / 100) train acc: 0.667000; val_acc: 0.515000\n",
      "(Iteration 4901 / 24500) loss: 1.005394\n",
      "(Iteration 5001 / 24500) loss: 1.166510\n",
      "(Iteration 5101 / 24500) loss: 1.021598\n",
      "(Epoch 21 / 100) train acc: 0.672000; val_acc: 0.526000\n",
      "(Iteration 5201 / 24500) loss: 0.978394\n",
      "(Iteration 5301 / 24500) loss: 0.988311\n",
      "(Epoch 22 / 100) train acc: 0.655000; val_acc: 0.513000\n",
      "(Iteration 5401 / 24500) loss: 1.067747\n",
      "(Iteration 5501 / 24500) loss: 0.813620\n",
      "(Iteration 5601 / 24500) loss: 1.041240\n",
      "(Epoch 23 / 100) train acc: 0.669000; val_acc: 0.509000\n",
      "(Iteration 5701 / 24500) loss: 0.965227\n",
      "(Iteration 5801 / 24500) loss: 0.845918\n",
      "(Epoch 24 / 100) train acc: 0.708000; val_acc: 0.525000\n",
      "(Iteration 5901 / 24500) loss: 0.930631\n",
      "(Iteration 6001 / 24500) loss: 0.956191\n",
      "(Iteration 6101 / 24500) loss: 1.043208\n",
      "(Epoch 25 / 100) train acc: 0.677000; val_acc: 0.519000\n",
      "(Iteration 6201 / 24500) loss: 0.947750\n",
      "(Iteration 6301 / 24500) loss: 0.935059\n",
      "(Epoch 26 / 100) train acc: 0.710000; val_acc: 0.510000\n",
      "(Iteration 6401 / 24500) loss: 1.011576\n",
      "(Iteration 6501 / 24500) loss: 0.901768\n",
      "(Iteration 6601 / 24500) loss: 0.930287\n",
      "(Epoch 27 / 100) train acc: 0.689000; val_acc: 0.527000\n",
      "(Iteration 6701 / 24500) loss: 0.965786\n",
      "(Iteration 6801 / 24500) loss: 1.004029\n",
      "(Epoch 28 / 100) train acc: 0.681000; val_acc: 0.523000\n",
      "(Iteration 6901 / 24500) loss: 1.003260\n",
      "(Iteration 7001 / 24500) loss: 0.827625\n",
      "(Iteration 7101 / 24500) loss: 0.937695\n",
      "(Epoch 29 / 100) train acc: 0.675000; val_acc: 0.518000\n",
      "(Iteration 7201 / 24500) loss: 0.817396\n",
      "(Iteration 7301 / 24500) loss: 0.758988\n",
      "(Epoch 30 / 100) train acc: 0.688000; val_acc: 0.526000\n",
      "(Iteration 7401 / 24500) loss: 0.906978\n",
      "(Iteration 7501 / 24500) loss: 0.864702\n",
      "(Epoch 31 / 100) train acc: 0.703000; val_acc: 0.528000\n",
      "(Iteration 7601 / 24500) loss: 0.820269\n",
      "(Iteration 7701 / 24500) loss: 0.907777\n",
      "(Iteration 7801 / 24500) loss: 0.758610\n",
      "(Epoch 32 / 100) train acc: 0.720000; val_acc: 0.517000\n",
      "(Iteration 7901 / 24500) loss: 0.882685\n",
      "(Iteration 8001 / 24500) loss: 1.066181\n",
      "(Epoch 33 / 100) train acc: 0.704000; val_acc: 0.520000\n",
      "(Iteration 8101 / 24500) loss: 0.922549\n",
      "(Iteration 8201 / 24500) loss: 0.897310\n",
      "(Iteration 8301 / 24500) loss: 0.800731\n",
      "(Epoch 34 / 100) train acc: 0.726000; val_acc: 0.515000\n",
      "(Iteration 8401 / 24500) loss: 0.857058\n",
      "(Iteration 8501 / 24500) loss: 0.811303\n",
      "(Epoch 35 / 100) train acc: 0.723000; val_acc: 0.526000\n",
      "(Iteration 8601 / 24500) loss: 0.821360\n",
      "(Iteration 8701 / 24500) loss: 0.899114\n",
      "(Iteration 8801 / 24500) loss: 0.783640\n",
      "(Epoch 36 / 100) train acc: 0.700000; val_acc: 0.514000\n",
      "(Iteration 8901 / 24500) loss: 0.810378\n",
      "(Iteration 9001 / 24500) loss: 0.823577\n",
      "(Epoch 37 / 100) train acc: 0.728000; val_acc: 0.522000\n",
      "(Iteration 9101 / 24500) loss: 0.882389\n",
      "(Iteration 9201 / 24500) loss: 0.817789\n",
      "(Iteration 9301 / 24500) loss: 0.752136\n",
      "(Epoch 38 / 100) train acc: 0.721000; val_acc: 0.509000\n",
      "(Iteration 9401 / 24500) loss: 0.893950\n",
      "(Iteration 9501 / 24500) loss: 0.867704\n",
      "(Epoch 39 / 100) train acc: 0.737000; val_acc: 0.519000\n",
      "(Iteration 9601 / 24500) loss: 0.802583\n",
      "(Iteration 9701 / 24500) loss: 0.872936\n",
      "(Epoch 40 / 100) train acc: 0.726000; val_acc: 0.519000\n",
      "(Iteration 9801 / 24500) loss: 0.730723\n",
      "(Iteration 9901 / 24500) loss: 0.855234\n",
      "(Iteration 10001 / 24500) loss: 0.904144\n",
      "(Epoch 41 / 100) train acc: 0.737000; val_acc: 0.521000\n",
      "(Iteration 10101 / 24500) loss: 0.780633\n",
      "(Iteration 10201 / 24500) loss: 0.730834\n",
      "(Epoch 42 / 100) train acc: 0.680000; val_acc: 0.522000\n",
      "(Iteration 10301 / 24500) loss: 0.956337\n",
      "(Iteration 10401 / 24500) loss: 0.778904\n",
      "(Iteration 10501 / 24500) loss: 0.785001\n",
      "(Epoch 43 / 100) train acc: 0.722000; val_acc: 0.529000\n",
      "(Iteration 10601 / 24500) loss: 0.842862\n",
      "(Iteration 10701 / 24500) loss: 0.717115\n",
      "(Epoch 44 / 100) train acc: 0.750000; val_acc: 0.510000\n",
      "(Iteration 10801 / 24500) loss: 0.820518\n",
      "(Iteration 10901 / 24500) loss: 0.734892\n",
      "(Iteration 11001 / 24500) loss: 0.726322\n",
      "(Epoch 45 / 100) train acc: 0.745000; val_acc: 0.510000\n",
      "(Iteration 11101 / 24500) loss: 0.785063\n",
      "(Iteration 11201 / 24500) loss: 0.748374\n",
      "(Epoch 46 / 100) train acc: 0.725000; val_acc: 0.534000\n",
      "(Iteration 11301 / 24500) loss: 0.763841\n",
      "(Iteration 11401 / 24500) loss: 0.858634\n",
      "(Iteration 11501 / 24500) loss: 0.751940\n",
      "(Epoch 47 / 100) train acc: 0.749000; val_acc: 0.521000\n",
      "(Iteration 11601 / 24500) loss: 0.768927\n",
      "(Iteration 11701 / 24500) loss: 0.702145\n",
      "(Epoch 48 / 100) train acc: 0.723000; val_acc: 0.514000\n",
      "(Iteration 11801 / 24500) loss: 0.777937\n",
      "(Iteration 11901 / 24500) loss: 0.915873\n",
      "(Iteration 12001 / 24500) loss: 0.757894\n",
      "(Epoch 49 / 100) train acc: 0.722000; val_acc: 0.520000\n",
      "(Iteration 12101 / 24500) loss: 0.712396\n",
      "(Iteration 12201 / 24500) loss: 0.777146\n",
      "(Epoch 50 / 100) train acc: 0.739000; val_acc: 0.516000\n",
      "(Iteration 12301 / 24500) loss: 0.803513\n",
      "(Iteration 12401 / 24500) loss: 0.857440\n",
      "(Epoch 51 / 100) train acc: 0.749000; val_acc: 0.523000\n",
      "(Iteration 12501 / 24500) loss: 0.744729\n",
      "(Iteration 12601 / 24500) loss: 0.708731\n",
      "(Iteration 12701 / 24500) loss: 0.696777\n",
      "(Epoch 52 / 100) train acc: 0.752000; val_acc: 0.518000\n",
      "(Iteration 12801 / 24500) loss: 0.762809\n",
      "(Iteration 12901 / 24500) loss: 0.806147\n",
      "(Epoch 53 / 100) train acc: 0.743000; val_acc: 0.512000\n"
     ]
    },
    {
     "name": "stdout",
     "output_type": "stream",
     "text": [
      "(Iteration 13001 / 24500) loss: 0.796018\n",
      "(Iteration 13101 / 24500) loss: 0.785968\n",
      "(Iteration 13201 / 24500) loss: 0.736637\n",
      "(Epoch 54 / 100) train acc: 0.761000; val_acc: 0.511000\n",
      "(Iteration 13301 / 24500) loss: 0.707282\n",
      "(Iteration 13401 / 24500) loss: 0.750568\n",
      "(Epoch 55 / 100) train acc: 0.747000; val_acc: 0.524000\n",
      "(Iteration 13501 / 24500) loss: 0.788214\n",
      "(Iteration 13601 / 24500) loss: 0.745967\n",
      "(Iteration 13701 / 24500) loss: 0.783064\n",
      "(Epoch 56 / 100) train acc: 0.747000; val_acc: 0.517000\n",
      "(Iteration 13801 / 24500) loss: 0.788451\n",
      "(Iteration 13901 / 24500) loss: 0.641787\n",
      "(Epoch 57 / 100) train acc: 0.777000; val_acc: 0.516000\n",
      "(Iteration 14001 / 24500) loss: 0.756339\n",
      "(Iteration 14101 / 24500) loss: 0.744848\n",
      "(Iteration 14201 / 24500) loss: 0.812282\n",
      "(Epoch 58 / 100) train acc: 0.730000; val_acc: 0.517000\n",
      "(Iteration 14301 / 24500) loss: 0.812435\n",
      "(Iteration 14401 / 24500) loss: 0.761777\n",
      "(Epoch 59 / 100) train acc: 0.757000; val_acc: 0.517000\n",
      "(Iteration 14501 / 24500) loss: 0.717661\n",
      "(Iteration 14601 / 24500) loss: 0.721242\n",
      "(Epoch 60 / 100) train acc: 0.762000; val_acc: 0.518000\n",
      "(Iteration 14701 / 24500) loss: 0.824738\n",
      "(Iteration 14801 / 24500) loss: 0.791175\n",
      "(Iteration 14901 / 24500) loss: 0.747527\n",
      "(Epoch 61 / 100) train acc: 0.765000; val_acc: 0.517000\n",
      "(Iteration 15001 / 24500) loss: 0.648295\n",
      "(Iteration 15101 / 24500) loss: 0.757222\n",
      "(Epoch 62 / 100) train acc: 0.751000; val_acc: 0.515000\n",
      "(Iteration 15201 / 24500) loss: 0.718124\n",
      "(Iteration 15301 / 24500) loss: 0.727498\n",
      "(Iteration 15401 / 24500) loss: 0.693549\n",
      "(Epoch 63 / 100) train acc: 0.770000; val_acc: 0.520000\n",
      "(Iteration 15501 / 24500) loss: 0.686545\n",
      "(Iteration 15601 / 24500) loss: 0.791777\n",
      "(Epoch 64 / 100) train acc: 0.753000; val_acc: 0.522000\n",
      "(Iteration 15701 / 24500) loss: 0.714896\n",
      "(Iteration 15801 / 24500) loss: 0.726009\n",
      "(Iteration 15901 / 24500) loss: 0.777898\n",
      "(Epoch 65 / 100) train acc: 0.751000; val_acc: 0.511000\n",
      "(Iteration 16001 / 24500) loss: 0.641983\n",
      "(Iteration 16101 / 24500) loss: 0.722661\n",
      "(Epoch 66 / 100) train acc: 0.754000; val_acc: 0.521000\n",
      "(Iteration 16201 / 24500) loss: 0.783179\n",
      "(Iteration 16301 / 24500) loss: 0.661702\n",
      "(Iteration 16401 / 24500) loss: 0.766901\n",
      "(Epoch 67 / 100) train acc: 0.758000; val_acc: 0.514000\n",
      "(Iteration 16501 / 24500) loss: 0.693890\n",
      "(Iteration 16601 / 24500) loss: 0.690715\n",
      "(Epoch 68 / 100) train acc: 0.780000; val_acc: 0.515000\n",
      "(Iteration 16701 / 24500) loss: 0.708810\n",
      "(Iteration 16801 / 24500) loss: 0.709772\n",
      "(Iteration 16901 / 24500) loss: 0.658754\n",
      "(Epoch 69 / 100) train acc: 0.734000; val_acc: 0.520000\n",
      "(Iteration 17001 / 24500) loss: 0.750316\n",
      "(Iteration 17101 / 24500) loss: 0.779634\n",
      "(Epoch 70 / 100) train acc: 0.749000; val_acc: 0.513000\n",
      "(Iteration 17201 / 24500) loss: 0.711979\n",
      "(Iteration 17301 / 24500) loss: 0.748739\n",
      "(Epoch 71 / 100) train acc: 0.764000; val_acc: 0.517000\n",
      "(Iteration 17401 / 24500) loss: 0.664494\n",
      "(Iteration 17501 / 24500) loss: 0.689356\n",
      "(Iteration 17601 / 24500) loss: 0.729146\n",
      "(Epoch 72 / 100) train acc: 0.754000; val_acc: 0.504000\n",
      "(Iteration 17701 / 24500) loss: 0.854985\n",
      "(Iteration 17801 / 24500) loss: 0.732895\n",
      "(Epoch 73 / 100) train acc: 0.767000; val_acc: 0.512000\n",
      "(Iteration 17901 / 24500) loss: 0.686426\n",
      "(Iteration 18001 / 24500) loss: 0.705541\n",
      "(Iteration 18101 / 24500) loss: 0.685167\n",
      "(Epoch 74 / 100) train acc: 0.744000; val_acc: 0.512000\n",
      "(Iteration 18201 / 24500) loss: 0.743594\n",
      "(Iteration 18301 / 24500) loss: 0.719545\n",
      "(Epoch 75 / 100) train acc: 0.737000; val_acc: 0.515000\n",
      "(Iteration 18401 / 24500) loss: 0.682379\n",
      "(Iteration 18501 / 24500) loss: 0.830517\n",
      "(Iteration 18601 / 24500) loss: 0.802947\n",
      "(Epoch 76 / 100) train acc: 0.735000; val_acc: 0.515000\n",
      "(Iteration 18701 / 24500) loss: 0.799284\n",
      "(Iteration 18801 / 24500) loss: 0.766228\n",
      "(Epoch 77 / 100) train acc: 0.777000; val_acc: 0.512000\n",
      "(Iteration 18901 / 24500) loss: 0.809984\n",
      "(Iteration 19001 / 24500) loss: 0.664856\n",
      "(Iteration 19101 / 24500) loss: 0.758701\n",
      "(Epoch 78 / 100) train acc: 0.764000; val_acc: 0.513000\n",
      "(Iteration 19201 / 24500) loss: 0.769546\n",
      "(Iteration 19301 / 24500) loss: 0.763732\n",
      "(Epoch 79 / 100) train acc: 0.771000; val_acc: 0.512000\n",
      "(Iteration 19401 / 24500) loss: 0.644938\n",
      "(Iteration 19501 / 24500) loss: 0.705800\n",
      "(Epoch 80 / 100) train acc: 0.777000; val_acc: 0.512000\n",
      "(Iteration 19601 / 24500) loss: 0.756679\n",
      "(Iteration 19701 / 24500) loss: 0.724775\n",
      "(Iteration 19801 / 24500) loss: 0.712397\n",
      "(Epoch 81 / 100) train acc: 0.767000; val_acc: 0.518000\n",
      "(Iteration 19901 / 24500) loss: 0.710177\n",
      "(Iteration 20001 / 24500) loss: 0.714533\n",
      "(Epoch 82 / 100) train acc: 0.774000; val_acc: 0.518000\n",
      "(Iteration 20101 / 24500) loss: 0.654654\n",
      "(Iteration 20201 / 24500) loss: 0.678263\n",
      "(Iteration 20301 / 24500) loss: 0.694579\n",
      "(Epoch 83 / 100) train acc: 0.774000; val_acc: 0.519000\n",
      "(Iteration 20401 / 24500) loss: 0.809644\n",
      "(Iteration 20501 / 24500) loss: 0.697538\n",
      "(Epoch 84 / 100) train acc: 0.769000; val_acc: 0.512000\n",
      "(Iteration 20601 / 24500) loss: 0.677241\n",
      "(Iteration 20701 / 24500) loss: 0.701448\n",
      "(Iteration 20801 / 24500) loss: 0.788111\n",
      "(Epoch 85 / 100) train acc: 0.772000; val_acc: 0.509000\n",
      "(Iteration 20901 / 24500) loss: 0.668593\n",
      "(Iteration 21001 / 24500) loss: 0.724582\n",
      "(Epoch 86 / 100) train acc: 0.739000; val_acc: 0.517000\n",
      "(Iteration 21101 / 24500) loss: 0.717122\n",
      "(Iteration 21201 / 24500) loss: 0.693312\n",
      "(Iteration 21301 / 24500) loss: 0.818455\n",
      "(Epoch 87 / 100) train acc: 0.761000; val_acc: 0.508000\n",
      "(Iteration 21401 / 24500) loss: 0.830526\n",
      "(Iteration 21501 / 24500) loss: 0.708406\n",
      "(Epoch 88 / 100) train acc: 0.741000; val_acc: 0.510000\n",
      "(Iteration 21601 / 24500) loss: 0.590646\n",
      "(Iteration 21701 / 24500) loss: 0.819877\n",
      "(Iteration 21801 / 24500) loss: 0.706716\n",
      "(Epoch 89 / 100) train acc: 0.781000; val_acc: 0.515000\n",
      "(Iteration 21901 / 24500) loss: 0.661125\n",
      "(Iteration 22001 / 24500) loss: 0.773847\n",
      "(Epoch 90 / 100) train acc: 0.756000; val_acc: 0.514000\n",
      "(Iteration 22101 / 24500) loss: 0.619130\n",
      "(Iteration 22201 / 24500) loss: 0.727612\n",
      "(Epoch 91 / 100) train acc: 0.756000; val_acc: 0.511000\n",
      "(Iteration 22301 / 24500) loss: 0.722941\n",
      "(Iteration 22401 / 24500) loss: 0.719092\n",
      "(Iteration 22501 / 24500) loss: 0.783453\n",
      "(Epoch 92 / 100) train acc: 0.759000; val_acc: 0.517000\n",
      "(Iteration 22601 / 24500) loss: 0.567615\n",
      "(Iteration 22701 / 24500) loss: 0.809102\n",
      "(Epoch 93 / 100) train acc: 0.770000; val_acc: 0.518000\n",
      "(Iteration 22801 / 24500) loss: 0.632964\n",
      "(Iteration 22901 / 24500) loss: 0.631675\n",
      "(Iteration 23001 / 24500) loss: 0.708395\n",
      "(Epoch 94 / 100) train acc: 0.748000; val_acc: 0.517000\n",
      "(Iteration 23101 / 24500) loss: 0.692054\n",
      "(Iteration 23201 / 24500) loss: 0.682486\n",
      "(Epoch 95 / 100) train acc: 0.791000; val_acc: 0.517000\n",
      "(Iteration 23301 / 24500) loss: 0.748897\n",
      "(Iteration 23401 / 24500) loss: 0.787271\n",
      "(Iteration 23501 / 24500) loss: 0.749371\n",
      "(Epoch 96 / 100) train acc: 0.745000; val_acc: 0.515000\n",
      "(Iteration 23601 / 24500) loss: 0.809286\n",
      "(Iteration 23701 / 24500) loss: 0.583561\n",
      "(Epoch 97 / 100) train acc: 0.757000; val_acc: 0.517000\n",
      "(Iteration 23801 / 24500) loss: 0.576871\n",
      "(Iteration 23901 / 24500) loss: 0.702366\n",
      "(Iteration 24001 / 24500) loss: 0.693769\n",
      "(Epoch 98 / 100) train acc: 0.761000; val_acc: 0.516000\n",
      "(Iteration 24101 / 24500) loss: 0.638677\n",
      "(Iteration 24201 / 24500) loss: 0.682031\n",
      "(Epoch 99 / 100) train acc: 0.768000; val_acc: 0.511000\n",
      "(Iteration 24301 / 24500) loss: 0.765510\n",
      "(Iteration 24401 / 24500) loss: 0.641886\n",
      "(Epoch 100 / 100) train acc: 0.769000; val_acc: 0.517000\n"
     ]
    }
   ],
   "source": [
    "qq = solver.train()"
   ]
  },
  {
   "cell_type": "code",
   "execution_count": 75,
   "metadata": {
    "ExecuteTime": {
     "end_time": "2018-01-15T06:08:17.935605Z",
     "start_time": "2018-01-15T06:08:17.556422Z"
    }
   },
   "outputs": [
    {
     "data": {
      "image/png": "[encoded data removed]",
      "text/plain": [
       "<matplotlib.figure.Figure at 0x7fe7afc4bcc0>"
      ]
     },
     "metadata": {},
     "output_type": "display_data"
    }
   ],
   "source": [
    "# Run this cell to visualize training loss and train / val accuracy\n",
    "\n",
    "plt.subplot(2, 1, 1)\n",
    "plt.title('Training loss')\n",
    "plt.plot(solver.loss_history, 'o')\n",
    "plt.xlabel('Iteration')\n",
    "\n",
    "plt.subplot(2, 1, 2)\n",
    "plt.title('Accuracy')\n",
    "plt.plot(solver.train_acc_history, '-o', label='train')\n",
    "plt.plot(solver.val_acc_history, '-o', label='val')\n",
    "plt.plot([0.5] * len(solver.val_acc_history), 'k--')\n",
    "plt.xlabel('Epoch')\n",
    "plt.legend(loc='lower right')\n",
    "plt.gcf().set_size_inches(15, 12)\n",
    "plt.show()"
   ]
  },
  {
   "cell_type": "markdown",
   "metadata": {},
   "source": [
    "# Multilayer network\n",
    "Next you will implement a fully-connected network with an arbitrary number of hidden layers.\n",
    "\n",
    "Read through the `FullyConnectedNet` class in the file `cs231n/classifiers/fc_net.py`.\n",
    "\n",
    "Implement the initialization, the forward pass, and the backward pass. For the moment don't worry about implementing dropout or batch normalization; we will add those features soon."
   ]
  },
  {
   "cell_type": "markdown",
   "metadata": {},
   "source": [
    "## Initial loss and gradient check"
   ]
  },
  {
   "cell_type": "markdown",
   "metadata": {},
   "source": [
    "As a sanity check, run the following to check the initial loss and to gradient check the network both with and without regularization. Do the initial losses seem reasonable?\n",
    "\n",
    "For gradient checking, you should expect to see errors around 1e-6 or less."
   ]
  },
  {
   "cell_type": "code",
   "execution_count": 174,
   "metadata": {
    "ExecuteTime": {
     "end_time": "2018-01-18T10:25:40.040392Z",
     "start_time": "2018-01-18T10:25:38.915002Z"
    }
   },
   "outputs": [
    {
     "name": "stdout",
     "output_type": "stream",
     "text": [
      "Running check with reg =  0\n",
      "Initial loss:  2.3004790897684924\n",
      "W1 relative error: 1.48e-07\n",
      "W2 relative error: 2.21e-05\n",
      "W3 relative error: 3.53e-07\n",
      "b1 relative error: 5.38e-09\n",
      "b2 relative error: 2.09e-09\n",
      "b3 relative error: 5.80e-11\n",
      "Running check with reg =  3.14\n",
      "Initial loss:  7.052114776533016\n",
      "W1 relative error: 3.90e-09\n",
      "W2 relative error: 6.87e-08\n",
      "W3 relative error: 2.13e-08\n",
      "b1 relative error: 1.48e-08\n",
      "b2 relative error: 1.72e-09\n",
      "b3 relative error: 1.57e-10\n"
     ]
    }
   ],
   "source": [
    "np.random.seed(231)\n",
    "N, D, H1, H2, C = 2, 15, 20, 30, 10\n",
    "X = np.random.randn(N, D)\n",
    "y = np.random.randint(C, size=(N,))\n",
    "\n",
    "for reg in [0, 3.14]:\n",
    "  print('Running check with reg = ', reg)\n",
    "  model = FullyConnectedNet([H1, H2], input_dim=D, num_classes=C,\n",
    "                            reg=reg, weight_scale=5e-2, dtype=np.float64)\n",
    "\n",
    "  loss, grads = model.loss(X, y)\n",
    "  print('Initial loss: ', loss)\n",
    "\n",
    "  for name in sorted(grads):\n",
    "    f = lambda _: model.loss(X, y)[0]\n",
    "    grad_num = eval_numerical_gradient(f, model.params[name], verbose=False, h=1e-5)\n",
    "    print('%s relative error: %.2e' % (name, rel_error(grad_num, grads[name])))"
   ]
  },
  {
   "cell_type": "markdown",
   "metadata": {},
   "source": [
    "As another sanity check, make sure you can overfit a small dataset of 50 images. First we will try a three-layer network with 100 units in each hidden layer. You will need to tweak the learning rate and initialization scale, but you should be able to overfit and achieve 100% training accuracy within 20 epochs."
   ]
  },
  {
   "cell_type": "code",
   "execution_count": 145,
   "metadata": {
    "ExecuteTime": {
     "end_time": "2018-01-15T11:49:07.520898Z",
     "start_time": "2018-01-15T11:49:06.323743Z"
    },
    "scrolled": false
   },
   "outputs": [
    {
     "name": "stdout",
     "output_type": "stream",
     "text": [
      "(Iteration 1 / 40) loss: 228.468533\n",
      "(Epoch 0 / 20) train acc: 0.240000; val_acc: 0.097000\n",
      "(Epoch 1 / 20) train acc: 0.420000; val_acc: 0.108000\n",
      "(Epoch 2 / 20) train acc: 0.340000; val_acc: 0.130000\n",
      "(Epoch 3 / 20) train acc: 0.660000; val_acc: 0.137000\n",
      "(Epoch 4 / 20) train acc: 0.780000; val_acc: 0.135000\n",
      "(Epoch 5 / 20) train acc: 0.740000; val_acc: 0.139000\n",
      "(Iteration 11 / 40) loss: 58.807493\n",
      "(Epoch 6 / 20) train acc: 0.940000; val_acc: 0.150000\n",
      "(Epoch 7 / 20) train acc: 1.000000; val_acc: 0.147000\n",
      "(Epoch 8 / 20) train acc: 1.000000; val_acc: 0.147000\n",
      "(Epoch 9 / 20) train acc: 1.000000; val_acc: 0.147000\n",
      "(Epoch 10 / 20) train acc: 1.000000; val_acc: 0.147000\n",
      "(Iteration 21 / 40) loss: 0.000000\n",
      "(Epoch 11 / 20) train acc: 1.000000; val_acc: 0.147000\n",
      "(Epoch 12 / 20) train acc: 1.000000; val_acc: 0.147000\n",
      "(Epoch 13 / 20) train acc: 1.000000; val_acc: 0.147000\n",
      "(Epoch 14 / 20) train acc: 1.000000; val_acc: 0.147000\n",
      "(Epoch 15 / 20) train acc: 1.000000; val_acc: 0.147000\n",
      "(Iteration 31 / 40) loss: 0.000000\n",
      "(Epoch 16 / 20) train acc: 1.000000; val_acc: 0.147000\n",
      "(Epoch 17 / 20) train acc: 1.000000; val_acc: 0.147000\n",
      "(Epoch 18 / 20) train acc: 1.000000; val_acc: 0.147000\n",
      "(Epoch 19 / 20) train acc: 1.000000; val_acc: 0.147000\n",
      "(Epoch 20 / 20) train acc: 1.000000; val_acc: 0.147000\n"
     ]
    },
    {
     "data": {
      "image/png": "[encoded data removed]",
      "text/plain": [
       "<matplotlib.figure.Figure at 0x7fe7afa7bef0>"
      ]
     },
     "metadata": {},
     "output_type": "display_data"
    }
   ],
   "source": [
    "# TODO: Use a three-layer Net to overfit 50 training examples.\n",
    "\n",
    "num_train = 50\n",
    "small_data = {\n",
    "  'X_train': data['X_train'][:num_train],\n",
    "  'y_train': data['y_train'][:num_train],\n",
    "  'X_val': data['X_val'],\n",
    "  'y_val': data['y_val'],\n",
    "}\n",
    "\n",
    "weight_scale = 1e-1\n",
    "learning_rate = 1e-3\n",
    "model = FullyConnectedNet([100, 100],\n",
    "              weight_scale=weight_scale, dtype=np.float64)\n",
    "solver = Solver(model, small_data,\n",
    "                print_every=10, num_epochs=20, batch_size=25,\n",
    "                update_rule='sgd',\n",
    "                optim_config={\n",
    "                  'learning_rate': learning_rate,\n",
    "                }\n",
    "         )\n",
    "solver.train()\n",
    "\n",
    "plt.plot(solver.loss_history, 'o')\n",
    "plt.title('Training loss history')\n",
    "plt.xlabel('Iteration')\n",
    "plt.ylabel('Training loss')\n",
    "plt.show()"
   ]
  },
  {
   "cell_type": "markdown",
   "metadata": {},
   "source": [
    "Now try to use a five-layer network with 100 units on each layer to overfit 50 training examples. Again you will have to adjust the learning rate and weight initialization, but you should be able to achieve 100% training accuracy within 20 epochs."
   ]
  },
  {
   "cell_type": "code",
   "execution_count": 148,
   "metadata": {
    "ExecuteTime": {
     "end_time": "2018-01-15T11:49:43.853786Z",
     "start_time": "2018-01-15T11:49:42.560933Z"
    }
   },
   "outputs": [
    {
     "name": "stdout",
     "output_type": "stream",
     "text": [
      "(Iteration 1 / 40) loss: 72.279123\n",
      "(Epoch 0 / 20) train acc: 0.320000; val_acc: 0.113000\n",
      "(Epoch 1 / 20) train acc: 0.260000; val_acc: 0.115000\n",
      "(Epoch 2 / 20) train acc: 0.400000; val_acc: 0.123000\n",
      "(Epoch 3 / 20) train acc: 0.580000; val_acc: 0.130000\n",
      "(Epoch 4 / 20) train acc: 0.720000; val_acc: 0.121000\n",
      "(Epoch 5 / 20) train acc: 0.860000; val_acc: 0.123000\n",
      "(Iteration 11 / 40) loss: 0.107431\n",
      "(Epoch 6 / 20) train acc: 0.900000; val_acc: 0.122000\n",
      "(Epoch 7 / 20) train acc: 0.960000; val_acc: 0.134000\n",
      "(Epoch 8 / 20) train acc: 0.980000; val_acc: 0.136000\n",
      "(Epoch 9 / 20) train acc: 1.000000; val_acc: 0.134000\n",
      "(Epoch 10 / 20) train acc: 1.000000; val_acc: 0.134000\n",
      "(Iteration 21 / 40) loss: 0.000655\n",
      "(Epoch 11 / 20) train acc: 1.000000; val_acc: 0.134000\n",
      "(Epoch 12 / 20) train acc: 1.000000; val_acc: 0.134000\n",
      "(Epoch 13 / 20) train acc: 1.000000; val_acc: 0.134000\n",
      "(Epoch 14 / 20) train acc: 1.000000; val_acc: 0.134000\n",
      "(Epoch 15 / 20) train acc: 1.000000; val_acc: 0.134000\n",
      "(Iteration 31 / 40) loss: 0.000802\n",
      "(Epoch 16 / 20) train acc: 1.000000; val_acc: 0.134000\n",
      "(Epoch 17 / 20) train acc: 1.000000; val_acc: 0.134000\n",
      "(Epoch 18 / 20) train acc: 1.000000; val_acc: 0.134000\n",
      "(Epoch 19 / 20) train acc: 1.000000; val_acc: 0.134000\n",
      "(Epoch 20 / 20) train acc: 1.000000; val_acc: 0.134000\n"
     ]
    },
    {
     "data": {
      "image/png": "[encoded data removed]",
      "text/plain": [
       "<matplotlib.figure.Figure at 0x7fe7af9aaf28>"
      ]
     },
     "metadata": {},
     "output_type": "display_data"
    }
   ],
   "source": [
    "# TODO: Use a five-layer Net to overfit 50 training examples.\n",
    "\n",
    "num_train = 50\n",
    "small_data = {\n",
    "  'X_train': data['X_train'][:num_train],\n",
    "  'y_train': data['y_train'][:num_train],\n",
    "  'X_val': data['X_val'],\n",
    "  'y_val': data['y_val'],\n",
    "}\n",
    "\n",
    "learning_rate = 1e-3\n",
    "weight_scale = 1e-1\n",
    "model = FullyConnectedNet([100, 100, 100, 100],\n",
    "                weight_scale=weight_scale, dtype=np.float64)\n",
    "solver = Solver(model, small_data,\n",
    "                print_every=10, num_epochs=20, batch_size=25,\n",
    "                update_rule='sgd',\n",
    "                optim_config={\n",
    "                  'learning_rate': learning_rate,\n",
    "                }\n",
    "         )\n",
    "solver.train()\n",
    "\n",
    "plt.plot(solver.loss_history, 'o')\n",
    "plt.title('Training loss history')\n",
    "plt.xlabel('Iteration')\n",
    "plt.ylabel('Training loss')\n",
    "plt.show()"
   ]
  },
  {
   "cell_type": "markdown",
   "metadata": {},
   "source": [
    "# Inline question: \n",
    "Did you notice anything about the comparative difficulty of training the three-layer net vs training the five layer net?\n",
    "\n",
    "# Answer:\n",
    "- No, it's very simple, just some changes in num hidden layers\n"
   ]
  },
  {
   "cell_type": "markdown",
   "metadata": {},
   "source": [
    "# Update rules\n",
    "So far we have used vanilla stochastic gradient descent (SGD) as our update rule. More sophisticated update rules can make it easier to train deep networks. We will implement a few of the most commonly used update rules and compare them to vanilla SGD."
   ]
  },
  {
   "cell_type": "markdown",
   "metadata": {},
   "source": [
    "# SGD+Momentum\n",
    "Stochastic gradient descent with momentum is a widely used update rule that tends to make deep networks converge faster than vanilla stochstic gradient descent.\n",
    "\n",
    "Open the file `cs231n/optim.py` and read the documentation at the top of the file to make sure you understand the API. Implement the SGD+momentum update rule in the function `sgd_momentum` and run the following to check your implementation. You should see errors less than 1e-8."
   ]
  },
  {
   "cell_type": "code",
   "execution_count": 202,
   "metadata": {
    "ExecuteTime": {
     "end_time": "2018-01-18T10:31:04.284161Z",
     "start_time": "2018-01-18T10:31:04.231434Z"
    }
   },
   "outputs": [
    {
     "name": "stdout",
     "output_type": "stream",
     "text": [
      "next_w error:  0.2347413717397023\n",
      "velocity error:  4.269287743278663e-09\n"
     ]
    }
   ],
   "source": [
    "from cs231n.optim import sgd_momentum\n",
    "\n",
    "N, D = 4, 5\n",
    "w = np.linspace(-0.4, 0.6, num=N*D).reshape(N, D)\n",
    "dw = np.linspace(-0.6, 0.4, num=N*D).reshape(N, D)\n",
    "v = np.linspace(0.6, 0.9, num=N*D).reshape(N, D)\n",
    "\n",
    "config = {'learning_rate': 1e-3, 'velocity': v}\n",
    "next_w, _ = sgd_momentum(w, dw, config=config)\n",
    "\n",
    "expected_next_w = np.asarray([\n",
    "  [ 0.1406,      0.20738947,  0.27417895,  0.34096842,  0.40775789],\n",
    "  [ 0.47454737,  0.54133684,  0.60812632,  0.67491579,  0.74170526],\n",
    "  [ 0.80849474,  0.87528421,  0.94207368,  1.00886316,  1.07565263],\n",
    "  [ 1.14244211,  1.20923158,  1.27602105,  1.34281053,  1.4096    ]])\n",
    "expected_velocity = np.asarray([\n",
    "  [ 0.5406,      0.55475789,  0.56891579, 0.58307368,  0.59723158],\n",
    "  [ 0.61138947,  0.62554737,  0.63970526,  0.65386316,  0.66802105],\n",
    "  [ 0.68217895,  0.69633684,  0.71049474,  0.72465263,  0.73881053],\n",
    "  [ 0.75296842,  0.76712632,  0.78128421,  0.79544211,  0.8096    ]])\n",
    "\n",
    "print('next_w error: ', rel_error(next_w, expected_next_w))\n",
    "print('velocity error: ', rel_error(expected_velocity, config['velocity']))"
   ]
  },
  {
   "cell_type": "code",
   "execution_count": 173,
   "metadata": {
    "ExecuteTime": {
     "end_time": "2018-01-18T10:22:46.751068Z",
     "start_time": "2018-01-18T10:22:46.736000Z"
    }
   },
   "outputs": [
    {
     "data": {
      "text/plain": [
       "array([[0.08714   , 0.15246105, 0.21778211, 0.28310316, 0.34842421],\n",
       "       [0.41374526, 0.47906632, 0.54438737, 0.60970842, 0.67502947],\n",
       "       [0.74035053, 0.80567158, 0.87099263, 0.93631368, 1.00163474],\n",
       "       [1.06695579, 1.13227684, 1.19759789, 1.26291895, 1.32824   ]])"
      ]
     },
     "execution_count": 173,
     "metadata": {},
     "output_type": "execute_result"
    }
   ],
   "source": [
    "next_w"
   ]
  },
  {
   "cell_type": "markdown",
   "metadata": {},
   "source": [
    "Once you have done so, run the following to train a six-layer network with both SGD and SGD+momentum. You should see the SGD+momentum update rule converge faster."
   ]
  },
  {
   "cell_type": "code",
   "execution_count": 171,
   "metadata": {
    "ExecuteTime": {
     "end_time": "2018-01-18T10:21:55.376616Z",
     "start_time": "2018-01-18T10:21:49.023669Z"
    },
    "scrolled": false
   },
   "outputs": [
    {
     "name": "stdout",
     "output_type": "stream",
     "text": [
      "running with  sgd\n",
      "(Iteration 1 / 200) loss: 2.773333\n",
      "(Epoch 0 / 5) train acc: 0.116000; val_acc: 0.108000\n",
      "(Iteration 11 / 200) loss: 2.204967\n",
      "(Iteration 21 / 200) loss: 2.101455\n",
      "(Iteration 31 / 200) loss: 2.166509\n",
      "(Epoch 1 / 5) train acc: 0.287000; val_acc: 0.239000\n",
      "(Iteration 41 / 200) loss: 2.014782\n",
      "(Iteration 51 / 200) loss: 2.069423\n",
      "(Iteration 61 / 200) loss: 1.929754\n",
      "(Iteration 71 / 200) loss: 1.901085\n",
      "(Epoch 2 / 5) train acc: 0.334000; val_acc: 0.260000\n",
      "(Iteration 81 / 200) loss: 1.808482\n",
      "(Iteration 91 / 200) loss: 1.798602\n",
      "(Iteration 101 / 200) loss: 1.849044\n",
      "(Iteration 111 / 200) loss: 1.808090\n",
      "(Epoch 3 / 5) train acc: 0.344000; val_acc: 0.279000\n",
      "(Iteration 121 / 200) loss: 1.842626\n",
      "(Iteration 131 / 200) loss: 1.695583\n",
      "(Iteration 141 / 200) loss: 1.701535\n",
      "(Iteration 151 / 200) loss: 1.934257\n",
      "(Epoch 4 / 5) train acc: 0.426000; val_acc: 0.322000\n",
      "(Iteration 161 / 200) loss: 1.621719\n",
      "(Iteration 171 / 200) loss: 1.659865\n",
      "(Iteration 181 / 200) loss: 1.573711\n",
      "(Iteration 191 / 200) loss: 1.644515\n",
      "(Epoch 5 / 5) train acc: 0.433000; val_acc: 0.320000\n",
      "\n",
      "running with  sgd_momentum\n",
      "(Iteration 1 / 200) loss: 2.560921\n",
      "(Epoch 0 / 5) train acc: 0.129000; val_acc: 0.107000\n",
      "(Iteration 11 / 200) loss: 2.101300\n",
      "(Iteration 21 / 200) loss: 2.090900\n",
      "(Iteration 31 / 200) loss: 1.835846\n",
      "(Epoch 1 / 5) train acc: 0.351000; val_acc: 0.311000\n",
      "(Iteration 41 / 200) loss: 1.905057\n",
      "(Iteration 51 / 200) loss: 1.656891\n",
      "(Iteration 61 / 200) loss: 1.508813\n",
      "(Iteration 71 / 200) loss: 1.686245\n",
      "(Epoch 2 / 5) train acc: 0.410000; val_acc: 0.350000\n",
      "(Iteration 81 / 200) loss: 1.739952\n",
      "(Iteration 91 / 200) loss: 1.602903\n",
      "(Iteration 101 / 200) loss: 1.550411\n",
      "(Iteration 111 / 200) loss: 1.683326\n",
      "(Epoch 3 / 5) train acc: 0.507000; val_acc: 0.353000\n",
      "(Iteration 121 / 200) loss: 1.501785\n",
      "(Iteration 131 / 200) loss: 1.565168\n",
      "(Iteration 141 / 200) loss: 1.550231\n",
      "(Iteration 151 / 200) loss: 1.702531\n",
      "(Epoch 4 / 5) train acc: 0.528000; val_acc: 0.346000\n",
      "(Iteration 161 / 200) loss: 1.306875\n",
      "(Iteration 171 / 200) loss: 1.230127\n",
      "(Iteration 181 / 200) loss: 1.177621\n",
      "(Iteration 191 / 200) loss: 1.311606\n",
      "(Epoch 5 / 5) train acc: 0.559000; val_acc: 0.365000\n",
      "\n"
     ]
    },
    {
     "name": "stderr",
     "output_type": "stream",
     "text": [
      "/home/prot/anaconda3/lib/python3.6/site-packages/matplotlib/cbook/deprecation.py:106: MatplotlibDeprecationWarning: Adding an axes using the same arguments as a previous axes currently reuses the earlier instance.  In a future version, a new instance will always be created and returned.  Meanwhile, this warning can be suppressed, and the future behavior ensured, by passing a unique label to each axes instance.\n",
      "  warnings.warn(message, mplDeprecation, stacklevel=1)\n"
     ]
    },
    {
     "data": {
      "image/png": "[encoded data removed]",
      "text/plain": [
       "<matplotlib.figure.Figure at 0x7fe7afb186d8>"
      ]
     },
     "metadata": {},
     "output_type": "display_data"
    }
   ],
   "source": [
    "num_train = 4000\n",
    "small_data = {\n",
    "  'X_train': data['X_train'][:num_train],\n",
    "  'y_train': data['y_train'][:num_train],\n",
    "  'X_val': data['X_val'],\n",
    "  'y_val': data['y_val'],\n",
    "}\n",
    "\n",
    "solvers = {}\n",
    "\n",
    "for update_rule in ['sgd', 'sgd_momentum']:\n",
    "  print('running with ', update_rule)\n",
    "  model = FullyConnectedNet([100, 100, 100, 100, 100], weight_scale=5e-2)\n",
    "\n",
    "  solver = Solver(model, small_data,\n",
    "                  num_epochs=5, batch_size=100,\n",
    "                  update_rule=update_rule,\n",
    "                  optim_config={\n",
    "                    'learning_rate': 1e-2,\n",
    "                  },\n",
    "                  verbose=True)\n",
    "  solvers[update_rule] = solver\n",
    "  solver.train()\n",
    "  print()\n",
    "\n",
    "plt.subplot(3, 1, 1)\n",
    "plt.title('Training loss')\n",
    "plt.xlabel('Iteration')\n",
    "\n",
    "plt.subplot(3, 1, 2)\n",
    "plt.title('Training accuracy')\n",
    "plt.xlabel('Epoch')\n",
    "\n",
    "plt.subplot(3, 1, 3)\n",
    "plt.title('Validation accuracy')\n",
    "plt.xlabel('Epoch')\n",
    "\n",
    "for update_rule, solver in list(solvers.items()):\n",
    "  plt.subplot(3, 1, 1)\n",
    "  plt.plot(solver.loss_history, 'o', label=update_rule)\n",
    "  \n",
    "  plt.subplot(3, 1, 2)\n",
    "  plt.plot(solver.train_acc_history, '-o', label=update_rule)\n",
    "\n",
    "  plt.subplot(3, 1, 3)\n",
    "  plt.plot(solver.val_acc_history, '-o', label=update_rule)\n",
    "  \n",
    "for i in [1, 2, 3]:\n",
    "  plt.subplot(3, 1, i)\n",
    "  plt.legend(loc='upper center', ncol=4)\n",
    "plt.gcf().set_size_inches(15, 15)\n",
    "plt.show()"
   ]
  },
  {
   "cell_type": "markdown",
   "metadata": {},
   "source": [
    "# RMSProp and Adam\n",
    "RMSProp [1] and Adam [2] are update rules that set per-parameter learning rates by using a running average of the second moments of gradients.\n",
    "\n",
    "In the file `cs231n/optim.py`, implement the RMSProp update rule in the `rmsprop` function and implement the Adam update rule in the `adam` function, and check your implementations using the tests below.\n",
    "\n",
    "[1] Tijmen Tieleman and Geoffrey Hinton. \"Lecture 6.5-rmsprop: Divide the gradient by a running average of its recent magnitude.\" COURSERA: Neural Networks for Machine Learning 4 (2012).\n",
    "\n",
    "[2] Diederik Kingma and Jimmy Ba, \"Adam: A Method for Stochastic Optimization\", ICLR 2015."
   ]
  },
  {
   "cell_type": "code",
   "execution_count": null,
   "metadata": {},
   "outputs": [],
   "source": [
    "# Test RMSProp implementation; you should see errors less than 1e-7\n",
    "from cs231n.optim import rmsprop\n",
    "\n",
    "N, D = 4, 5\n",
    "w = np.linspace(-0.4, 0.6, num=N*D).reshape(N, D)\n",
    "dw = np.linspace(-0.6, 0.4, num=N*D).reshape(N, D)\n",
    "cache = np.linspace(0.6, 0.9, num=N*D).reshape(N, D)\n",
    "\n",
    "config = {'learning_rate': 1e-2, 'cache': cache}\n",
    "next_w, _ = rmsprop(w, dw, config=config)\n",
    "\n",
    "expected_next_w = np.asarray([\n",
    "  [-0.39223849, -0.34037513, -0.28849239, -0.23659121, -0.18467247],\n",
    "  [-0.132737,   -0.08078555, -0.02881884,  0.02316247,  0.07515774],\n",
    "  [ 0.12716641,  0.17918792,  0.23122175,  0.28326742,  0.33532447],\n",
    "  [ 0.38739248,  0.43947102,  0.49155973,  0.54365823,  0.59576619]])\n",
    "expected_cache = np.asarray([\n",
    "  [ 0.5976,      0.6126277,   0.6277108,   0.64284931,  0.65804321],\n",
    "  [ 0.67329252,  0.68859723,  0.70395734,  0.71937285,  0.73484377],\n",
    "  [ 0.75037008,  0.7659518,   0.78158892,  0.79728144,  0.81302936],\n",
    "  [ 0.82883269,  0.84469141,  0.86060554,  0.87657507,  0.8926    ]])\n",
    "\n",
    "print('next_w error: ', rel_error(expected_next_w, next_w))\n",
    "print('cache error: ', rel_error(expected_cache, config['cache']))"
   ]
  },
  {
   "cell_type": "code",
   "execution_count": null,
   "metadata": {},
   "outputs": [],
   "source": [
    "# Test Adam implementation; you should see errors around 1e-7 or less\n",
    "from cs231n.optim import adam\n",
    "\n",
    "N, D = 4, 5\n",
    "w = np.linspace(-0.4, 0.6, num=N*D).reshape(N, D)\n",
    "dw = np.linspace(-0.6, 0.4, num=N*D).reshape(N, D)\n",
    "m = np.linspace(0.6, 0.9, num=N*D).reshape(N, D)\n",
    "v = np.linspace(0.7, 0.5, num=N*D).reshape(N, D)\n",
    "\n",
    "config = {'learning_rate': 1e-2, 'm': m, 'v': v, 't': 5}\n",
    "next_w, _ = adam(w, dw, config=config)\n",
    "\n",
    "expected_next_w = np.asarray([\n",
    "  [-0.40094747, -0.34836187, -0.29577703, -0.24319299, -0.19060977],\n",
    "  [-0.1380274,  -0.08544591, -0.03286534,  0.01971428,  0.0722929],\n",
    "  [ 0.1248705,   0.17744702,  0.23002243,  0.28259667,  0.33516969],\n",
    "  [ 0.38774145,  0.44031188,  0.49288093,  0.54544852,  0.59801459]])\n",
    "expected_v = np.asarray([\n",
    "  [ 0.69966,     0.68908382,  0.67851319,  0.66794809,  0.65738853,],\n",
    "  [ 0.64683452,  0.63628604,  0.6257431,   0.61520571,  0.60467385,],\n",
    "  [ 0.59414753,  0.58362676,  0.57311152,  0.56260183,  0.55209767,],\n",
    "  [ 0.54159906,  0.53110598,  0.52061845,  0.51013645,  0.49966,   ]])\n",
    "expected_m = np.asarray([\n",
    "  [ 0.48,        0.49947368,  0.51894737,  0.53842105,  0.55789474],\n",
    "  [ 0.57736842,  0.59684211,  0.61631579,  0.63578947,  0.65526316],\n",
    "  [ 0.67473684,  0.69421053,  0.71368421,  0.73315789,  0.75263158],\n",
    "  [ 0.77210526,  0.79157895,  0.81105263,  0.83052632,  0.85      ]])\n",
    "\n",
    "print('next_w error: ', rel_error(expected_next_w, next_w))\n",
    "print('v error: ', rel_error(expected_v, config['v']))\n",
    "print('m error: ', rel_error(expected_m, config['m']))"
   ]
  },
  {
   "cell_type": "markdown",
   "metadata": {},
   "source": [
    "Once you have debugged your RMSProp and Adam implementations, run the following to train a pair of deep networks using these new update rules:"
   ]
  },
  {
   "cell_type": "code",
   "execution_count": null,
   "metadata": {},
   "outputs": [],
   "source": [
    "learning_rates = {'rmsprop': 1e-4, 'adam': 1e-3}\n",
    "for update_rule in ['adam', 'rmsprop']:\n",
    "  print('running with ', update_rule)\n",
    "  model = FullyConnectedNet([100, 100, 100, 100, 100], weight_scale=5e-2)\n",
    "\n",
    "  solver = Solver(model, small_data,\n",
    "                  num_epochs=5, batch_size=100,\n",
    "                  update_rule=update_rule,\n",
    "                  optim_config={\n",
    "                    'learning_rate': learning_rates[update_rule]\n",
    "                  },\n",
    "                  verbose=True)\n",
    "  solvers[update_rule] = solver\n",
    "  solver.train()\n",
    "  print()\n",
    "\n",
    "plt.subplot(3, 1, 1)\n",
    "plt.title('Training loss')\n",
    "plt.xlabel('Iteration')\n",
    "\n",
    "plt.subplot(3, 1, 2)\n",
    "plt.title('Training accuracy')\n",
    "plt.xlabel('Epoch')\n",
    "\n",
    "plt.subplot(3, 1, 3)\n",
    "plt.title('Validation accuracy')\n",
    "plt.xlabel('Epoch')\n",
    "\n",
    "for update_rule, solver in list(solvers.items()):\n",
    "  plt.subplot(3, 1, 1)\n",
    "  plt.plot(solver.loss_history, 'o', label=update_rule)\n",
    "  \n",
    "  plt.subplot(3, 1, 2)\n",
    "  plt.plot(solver.train_acc_history, '-o', label=update_rule)\n",
    "\n",
    "  plt.subplot(3, 1, 3)\n",
    "  plt.plot(solver.val_acc_history, '-o', label=update_rule)\n",
    "  \n",
    "for i in [1, 2, 3]:\n",
    "  plt.subplot(3, 1, i)\n",
    "  plt.legend(loc='upper center', ncol=4)\n",
    "plt.gcf().set_size_inches(15, 15)\n",
    "plt.show()"
   ]
  },
  {
   "cell_type": "markdown",
   "metadata": {},
   "source": [
    "# Train a good model!\n",
    "Train the best fully-connected model that you can on CIFAR-10, storing your best model in the `best_model` variable. We require you to get at least 50% accuracy on the validation set using a fully-connected net.\n",
    "\n",
    "If you are careful it should be possible to get accuracies above 55%, but we don't require it for this part and won't assign extra credit for doing so. Later in the assignment we will ask you to train the best convolutional network that you can on CIFAR-10, and we would prefer that you spend your effort working on convolutional nets rather than fully-connected nets.\n",
    "\n",
    "You might find it useful to complete the `BatchNormalization.ipynb` and `Dropout.ipynb` notebooks before completing this part, since those techniques can help you train powerful models."
   ]
  },
  {
   "cell_type": "code",
   "execution_count": null,
   "metadata": {
    "scrolled": false
   },
   "outputs": [],
   "source": [
    "best_model = None\n",
    "################################################################################\n",
    "# TODO: Train the best FullyConnectedNet that you can on CIFAR-10. You might   #\n",
    "# batch normalization and dropout useful. Store your best model in the         #\n",
    "# best_model variable.                                                         #\n",
    "################################################################################\n",
    "pass\n",
    "################################################################################\n",
    "#                              END OF YOUR CODE                                #\n",
    "################################################################################"
   ]
  },
  {
   "cell_type": "markdown",
   "metadata": {},
   "source": [
    "# Test you model\n",
    "Run your best model on the validation and test sets. You should achieve above 50% accuracy on the validation set."
   ]
  },
  {
   "cell_type": "code",
   "execution_count": null,
   "metadata": {},
   "outputs": [],
   "source": [
    "y_test_pred = np.argmax(best_model.loss(data['X_test']), axis=1)\n",
    "y_val_pred = np.argmax(best_model.loss(data['X_val']), axis=1)\n",
    "print('Validation set accuracy: ', (y_val_pred == data['y_val']).mean())\n",
    "print('Test set accuracy: ', (y_test_pred == data['y_test']).mean())"
   ]
  }
 ],
 "metadata": {
  "kernelspec": {
   "display_name": "Python 3",
   "language": "python",
   "name": "python3"
  },
  "language_info": {
   "codemirror_mode": {
    "name": "ipython",
    "version": 3
   },
   "file_extension": ".py",
   "mimetype": "text/x-python",
   "name": "python",
   "nbconvert_exporter": "python",
   "pygments_lexer": "ipython3",
   "version": "3.6.3"
  }
 },
 "nbformat": 4,
 "nbformat_minor": 1
}
