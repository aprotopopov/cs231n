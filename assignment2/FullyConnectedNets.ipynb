{
 "cells": [
  {
   "cell_type": "markdown",
   "metadata": {},
   "source": [
    "# Fully-Connected Neural Nets\n",
    "In the previous homework you implemented a fully-connected two-layer neural network on CIFAR-10. The implementation was simple but not very modular since the loss and gradient were computed in a single monolithic function. This is manageable for a simple two-layer network, but would become impractical as we move to bigger models. Ideally we want to build networks using a more modular design so that we can implement different layer types in isolation and then snap them together into models with different architectures.\n",
    "\n",
    "In this exercise we will implement fully-connected networks using a more modular approach. For each layer we will implement a `forward` and a `backward` function. The `forward` function will receive inputs, weights, and other parameters and will return both an output and a `cache` object storing data needed for the backward pass, like this:\n",
    "\n",
    "```python\n",
    "def layer_forward(x, w):\n",
    "  \"\"\" Receive inputs x and weights w \"\"\"\n",
    "  # Do some computations ...\n",
    "  z = # ... some intermediate value\n",
    "  # Do some more computations ...\n",
    "  out = # the output\n",
    "   \n",
    "  cache = (x, w, z, out) # Values we need to compute gradients\n",
    "   \n",
    "  return out, cache\n",
    "```\n",
    "\n",
    "The backward pass will receive upstream derivatives and the `cache` object, and will return gradients with respect to the inputs and weights, like this:\n",
    "\n",
    "```python\n",
    "def layer_backward(dout, cache):\n",
    "  \"\"\"\n",
    "  Receive derivative of loss with respect to outputs and cache,\n",
    "  and compute derivative with respect to inputs.\n",
    "  \"\"\"\n",
    "  # Unpack cache values\n",
    "  x, w, z, out = cache\n",
    "  \n",
    "  # Use values in cache to compute derivatives\n",
    "  dx = # Derivative of loss with respect to x\n",
    "  dw = # Derivative of loss with respect to w\n",
    "  \n",
    "  return dx, dw\n",
    "```\n",
    "\n",
    "After implementing a bunch of layers this way, we will be able to easily combine them to build classifiers with different architectures.\n",
    "\n",
    "In addition to implementing fully-connected networks of arbitrary depth, we will also explore different update rules for optimization, and introduce Dropout as a regularizer and Batch Normalization as a tool to more efficiently optimize deep networks.\n",
    "  "
   ]
  },
  {
   "cell_type": "code",
   "execution_count": 1,
   "metadata": {
    "ExecuteTime": {
     "end_time": "2018-01-15T05:42:10.724845Z",
     "start_time": "2018-01-15T05:42:10.367833Z"
    }
   },
   "outputs": [
    {
     "name": "stdout",
     "output_type": "stream",
     "text": [
      "run the following from the cs231n directory and try again:\n",
      "python setup.py build_ext --inplace\n",
      "You may also need to restart your iPython kernel\n",
      "The autoreload extension is already loaded. To reload it, use:\n",
      "  %reload_ext autoreload\n"
     ]
    }
   ],
   "source": [
    "# As usual, a bit of setup\n",
    "from __future__ import print_function\n",
    "import time\n",
    "import numpy as np\n",
    "import matplotlib.pyplot as plt\n",
    "from cs231n.classifiers.fc_net import *\n",
    "from cs231n.data_utils import get_CIFAR10_data\n",
    "from cs231n.gradient_check import eval_numerical_gradient, eval_numerical_gradient_array\n",
    "from cs231n.solver import Solver\n",
    "\n",
    "%matplotlib inline\n",
    "plt.rcParams['figure.figsize'] = (10.0, 8.0) # set default size of plots\n",
    "plt.rcParams['image.interpolation'] = 'nearest'\n",
    "plt.rcParams['image.cmap'] = 'gray'\n",
    "\n",
    "# for auto-reloading external modules\n",
    "# see http://stackoverflow.com/questions/1907993/autoreload-of-modules-in-ipython\n",
    "%load_ext autoreload\n",
    "%autoreload 2\n",
    "\n",
    "def rel_error(x, y):\n",
    "  \"\"\" returns relative error \"\"\"\n",
    "  return np.max(np.abs(x - y) / (np.maximum(1e-8, np.abs(x) + np.abs(y))))"
   ]
  },
  {
   "cell_type": "code",
   "execution_count": 2,
   "metadata": {
    "ExecuteTime": {
     "end_time": "2018-01-15T05:42:18.550610Z",
     "start_time": "2018-01-15T05:42:12.900169Z"
    }
   },
   "outputs": [
    {
     "name": "stdout",
     "output_type": "stream",
     "text": [
      "('X_train: ', (49000, 3, 32, 32))\n",
      "('y_train: ', (49000,))\n",
      "('X_val: ', (1000, 3, 32, 32))\n",
      "('y_val: ', (1000,))\n",
      "('X_test: ', (1000, 3, 32, 32))\n",
      "('y_test: ', (1000,))\n"
     ]
    }
   ],
   "source": [
    "# Load the (preprocessed) CIFAR10 data.\n",
    "\n",
    "data = get_CIFAR10_data()\n",
    "for k, v in list(data.items()):\n",
    "  print(('%s: ' % k, v.shape))"
   ]
  },
  {
   "cell_type": "markdown",
   "metadata": {},
   "source": [
    "# Affine layer: foward\n",
    "Open the file `cs231n/layers.py` and implement the `affine_forward` function.\n",
    "\n",
    "Once you are done you can test your implementaion by running the following:"
   ]
  },
  {
   "cell_type": "code",
   "execution_count": 19,
   "metadata": {
    "ExecuteTime": {
     "end_time": "2018-01-11T11:09:35.059492Z",
     "start_time": "2018-01-11T11:09:35.037058Z"
    }
   },
   "outputs": [
    {
     "name": "stdout",
     "output_type": "stream",
     "text": [
      "Testing affine_forward function:\n",
      "difference:  9.769849468192957e-10\n"
     ]
    }
   ],
   "source": [
    "# Test the affine_forward function\n",
    "\n",
    "num_inputs = 2\n",
    "input_shape = (4, 5, 6)\n",
    "output_dim = 3\n",
    "\n",
    "input_size = num_inputs * np.prod(input_shape)\n",
    "weight_size = output_dim * np.prod(input_shape)\n",
    "\n",
    "x = np.linspace(-0.1, 0.5, num=input_size).reshape(num_inputs, *input_shape)\n",
    "w = np.linspace(-0.2, 0.3, num=weight_size).reshape(np.prod(input_shape), output_dim)\n",
    "b = np.linspace(-0.3, 0.1, num=output_dim)\n",
    "\n",
    "out, _ = affine_forward(x, w, b)\n",
    "correct_out = np.array([[ 1.49834967,  1.70660132,  1.91485297],\n",
    "                        [ 3.25553199,  3.5141327,   3.77273342]])\n",
    "\n",
    "# Compare your output with ours. The error should be around 1e-9.\n",
    "print('Testing affine_forward function:')\n",
    "print('difference: ', rel_error(out, correct_out))"
   ]
  },
  {
   "cell_type": "markdown",
   "metadata": {},
   "source": [
    "# Affine layer: backward\n",
    "Now implement the `affine_backward` function and test your implementation using numeric gradient checking."
   ]
  },
  {
   "cell_type": "code",
   "execution_count": 24,
   "metadata": {
    "ExecuteTime": {
     "end_time": "2018-01-11T11:55:01.542620Z",
     "start_time": "2018-01-11T11:55:01.479368Z"
    }
   },
   "outputs": [
    {
     "name": "stdout",
     "output_type": "stream",
     "text": [
      "Testing affine_backward function:\n",
      "dx error:  5.399100368651805e-11\n",
      "dw error:  9.904211865398145e-11\n",
      "db error:  2.4122867568119087e-11\n"
     ]
    }
   ],
   "source": [
    "# Test the affine_backward function\n",
    "np.random.seed(231)\n",
    "x = np.random.randn(10, 2, 3)\n",
    "w = np.random.randn(6, 5)\n",
    "b = np.random.randn(5)\n",
    "dout = np.random.randn(10, 5)\n",
    "\n",
    "dx_num = eval_numerical_gradient_array(lambda x: affine_forward(x, w, b)[0], x, dout)\n",
    "dw_num = eval_numerical_gradient_array(lambda w: affine_forward(x, w, b)[0], w, dout)\n",
    "db_num = eval_numerical_gradient_array(lambda b: affine_forward(x, w, b)[0], b, dout)\n",
    "\n",
    "_, cache = affine_forward(x, w, b)\n",
    "dx, dw, db = affine_backward(dout, cache)\n",
    "\n",
    "# The error should be around 1e-10\n",
    "print('Testing affine_backward function:')\n",
    "print('dx error: ', rel_error(dx_num, dx))\n",
    "print('dw error: ', rel_error(dw_num, dw))\n",
    "print('db error: ', rel_error(db_num, db))"
   ]
  },
  {
   "cell_type": "markdown",
   "metadata": {},
   "source": [
    "# ReLU layer: forward\n",
    "Implement the forward pass for the ReLU activation function in the `relu_forward` function and test your implementation using the following:"
   ]
  },
  {
   "cell_type": "code",
   "execution_count": 25,
   "metadata": {
    "ExecuteTime": {
     "end_time": "2018-01-12T04:51:27.494461Z",
     "start_time": "2018-01-12T04:51:27.468768Z"
    }
   },
   "outputs": [
    {
     "name": "stdout",
     "output_type": "stream",
     "text": [
      "Testing relu_forward function:\n",
      "difference:  4.999999798022158e-08\n"
     ]
    }
   ],
   "source": [
    "# Test the relu_forward function\n",
    "\n",
    "x = np.linspace(-0.5, 0.5, num=12).reshape(3, 4)\n",
    "\n",
    "out, _ = relu_forward(x)\n",
    "correct_out = np.array([[ 0.,          0.,          0.,          0.,        ],\n",
    "                        [ 0.,          0.,          0.04545455,  0.13636364,],\n",
    "                        [ 0.22727273,  0.31818182,  0.40909091,  0.5,       ]])\n",
    "\n",
    "# Compare your output with ours. The error should be around 5e-8\n",
    "print('Testing relu_forward function:')\n",
    "print('difference: ', rel_error(out, correct_out))"
   ]
  },
  {
   "cell_type": "markdown",
   "metadata": {},
   "source": [
    "# ReLU layer: backward\n",
    "Now implement the backward pass for the ReLU activation function in the `relu_backward` function and test your implementation using numeric gradient checking:"
   ]
  },
  {
   "cell_type": "code",
   "execution_count": 27,
   "metadata": {
    "ExecuteTime": {
     "end_time": "2018-01-12T04:52:34.305014Z",
     "start_time": "2018-01-12T04:52:34.264088Z"
    }
   },
   "outputs": [
    {
     "name": "stdout",
     "output_type": "stream",
     "text": [
      "Testing relu_backward function:\n",
      "dx error:  3.2756349136310288e-12\n"
     ]
    }
   ],
   "source": [
    "np.random.seed(231)\n",
    "x = np.random.randn(10, 10)\n",
    "dout = np.random.randn(*x.shape)\n",
    "\n",
    "dx_num = eval_numerical_gradient_array(lambda x: relu_forward(x)[0], x, dout)\n",
    "\n",
    "_, cache = relu_forward(x)\n",
    "dx = relu_backward(dout, cache)\n",
    "\n",
    "# The error should be around 3e-12\n",
    "print('Testing relu_backward function:')\n",
    "print('dx error: ', rel_error(dx_num, dx))"
   ]
  },
  {
   "cell_type": "markdown",
   "metadata": {},
   "source": [
    "# \"Sandwich\" layers\n",
    "There are some common patterns of layers that are frequently used in neural nets. For example, affine layers are frequently followed by a ReLU nonlinearity. To make these common patterns easy, we define several convenience layers in the file `cs231n/layer_utils.py`.\n",
    "\n",
    "For now take a look at the `affine_relu_forward` and `affine_relu_backward` functions, and run the following to numerically gradient check the backward pass:"
   ]
  },
  {
   "cell_type": "code",
   "execution_count": 28,
   "metadata": {
    "ExecuteTime": {
     "end_time": "2018-01-12T04:54:51.923633Z",
     "start_time": "2018-01-12T04:54:51.856837Z"
    }
   },
   "outputs": [
    {
     "name": "stdout",
     "output_type": "stream",
     "text": [
      "Testing affine_relu_forward:\n",
      "dx error:  2.299579177309368e-11\n",
      "dw error:  8.162011105764925e-11\n",
      "db error:  7.826724021458994e-12\n"
     ]
    }
   ],
   "source": [
    "from cs231n.layer_utils import affine_relu_forward, affine_relu_backward\n",
    "np.random.seed(231)\n",
    "x = np.random.randn(2, 3, 4)\n",
    "w = np.random.randn(12, 10)\n",
    "b = np.random.randn(10)\n",
    "dout = np.random.randn(2, 10)\n",
    "\n",
    "out, cache = affine_relu_forward(x, w, b)\n",
    "dx, dw, db = affine_relu_backward(dout, cache)\n",
    "\n",
    "dx_num = eval_numerical_gradient_array(lambda x: affine_relu_forward(x, w, b)[0], x, dout)\n",
    "dw_num = eval_numerical_gradient_array(lambda w: affine_relu_forward(x, w, b)[0], w, dout)\n",
    "db_num = eval_numerical_gradient_array(lambda b: affine_relu_forward(x, w, b)[0], b, dout)\n",
    "\n",
    "print('Testing affine_relu_forward:')\n",
    "print('dx error: ', rel_error(dx_num, dx))\n",
    "print('dw error: ', rel_error(dw_num, dw))\n",
    "print('db error: ', rel_error(db_num, db))"
   ]
  },
  {
   "cell_type": "markdown",
   "metadata": {},
   "source": [
    "# Loss layers: Softmax and SVM\n",
    "You implemented these loss functions in the last assignment, so we'll give them to you for free here. You should still make sure you understand how they work by looking at the implementations in `cs231n/layers.py`.\n",
    "\n",
    "You can make sure that the implementations are correct by running the following:"
   ]
  },
  {
   "cell_type": "code",
   "execution_count": 29,
   "metadata": {
    "ExecuteTime": {
     "end_time": "2018-01-12T05:06:31.958929Z",
     "start_time": "2018-01-12T05:06:31.720285Z"
    }
   },
   "outputs": [
    {
     "name": "stdout",
     "output_type": "stream",
     "text": [
      "Testing svm_loss:\n",
      "loss:  8.999602749096233\n",
      "dx error:  1.4021566006651672e-09\n",
      "\n",
      "Testing softmax_loss:\n",
      "loss:  2.302545844500738\n",
      "dx error:  9.384673161989355e-09\n"
     ]
    }
   ],
   "source": [
    "np.random.seed(231)\n",
    "num_classes, num_inputs = 10, 50\n",
    "x = 0.001 * np.random.randn(num_inputs, num_classes)\n",
    "y = np.random.randint(num_classes, size=num_inputs)\n",
    "\n",
    "dx_num = eval_numerical_gradient(lambda x: svm_loss(x, y)[0], x, verbose=False)\n",
    "loss, dx = svm_loss(x, y)\n",
    "\n",
    "# Test svm_loss function. Loss should be around 9 and dx error should be 1e-9\n",
    "print('Testing svm_loss:')\n",
    "print('loss: ', loss)\n",
    "print('dx error: ', rel_error(dx_num, dx))\n",
    "\n",
    "dx_num = eval_numerical_gradient(lambda x: softmax_loss(x, y)[0], x, verbose=False)\n",
    "loss, dx = softmax_loss(x, y)\n",
    "\n",
    "# Test softmax_loss function. Loss should be 2.3 and dx error should be 1e-8\n",
    "print('\\nTesting softmax_loss:')\n",
    "print('loss: ', loss)\n",
    "print('dx error: ', rel_error(dx_num, dx))"
   ]
  },
  {
   "cell_type": "markdown",
   "metadata": {},
   "source": [
    "# Two-layer network\n",
    "In the previous assignment you implemented a two-layer neural network in a single monolithic class. Now that you have implemented modular versions of the necessary layers, you will reimplement the two layer network using these modular implementations.\n",
    "\n",
    "Open the file `cs231n/classifiers/fc_net.py` and complete the implementation of the `TwoLayerNet` class. This class will serve as a model for the other networks you will implement in this assignment, so read through it to make sure you understand the API. You can run the cell below to test your implementation."
   ]
  },
  {
   "cell_type": "code",
   "execution_count": null,
   "metadata": {},
   "outputs": [],
   "source": [
    "np.random.normal()"
   ]
  },
  {
   "cell_type": "code",
   "execution_count": null,
   "metadata": {},
   "outputs": [],
   "source": [
    "np.random.randn()"
   ]
  },
  {
   "cell_type": "code",
   "execution_count": 27,
   "metadata": {
    "ExecuteTime": {
     "end_time": "2018-01-15T05:49:30.895058Z",
     "start_time": "2018-01-15T05:49:30.382759Z"
    }
   },
   "outputs": [
    {
     "name": "stdout",
     "output_type": "stream",
     "text": [
      "Testing initialization ... \n",
      "Testing test-time forward pass ... \n",
      "Testing training loss (no regularization)\n",
      "Running numeric gradient check with reg =  0.0\n",
      "W1 relative error: 1.83e-08\n",
      "W2 relative error: 3.12e-10\n",
      "b1 relative error: 9.83e-09\n",
      "b2 relative error: 4.33e-10\n",
      "Running numeric gradient check with reg =  0.7\n",
      "W1 relative error: 2.53e-07\n",
      "W2 relative error: 2.85e-08\n",
      "b1 relative error: 1.56e-08\n",
      "b2 relative error: 7.76e-10\n"
     ]
    }
   ],
   "source": [
    "np.random.seed(231)\n",
    "N, D, H, C = 3, 5, 50, 7\n",
    "X = np.random.randn(N, D)\n",
    "y = np.random.randint(C, size=N)\n",
    "\n",
    "std = 1e-3\n",
    "model = TwoLayerNet(input_dim=D, hidden_dim=H, num_classes=C, weight_scale=std)\n",
    "\n",
    "print('Testing initialization ... ')\n",
    "W1_std = abs(model.params['W1'].std() - std)\n",
    "b1 = model.params['b1']\n",
    "W2_std = abs(model.params['W2'].std() - std)\n",
    "b2 = model.params['b2']\n",
    "assert W1_std < std / 10, 'First layer weights do not seem right'\n",
    "assert np.all(b1 == 0), 'First layer biases do not seem right'\n",
    "assert W2_std < std / 10, 'Second layer weights do not seem right'\n",
    "assert np.all(b2 == 0), 'Second layer biases do not seem right'\n",
    "\n",
    "print('Testing test-time forward pass ... ')\n",
    "model.params['W1'] = np.linspace(-0.7, 0.3, num=D*H).reshape(D, H)\n",
    "model.params['b1'] = np.linspace(-0.1, 0.9, num=H)\n",
    "model.params['W2'] = np.linspace(-0.3, 0.4, num=H*C).reshape(H, C)\n",
    "model.params['b2'] = np.linspace(-0.9, 0.1, num=C)\n",
    "X = np.linspace(-5.5, 4.5, num=N*D).reshape(D, N).T\n",
    "scores = model.loss(X)\n",
    "correct_scores = np.asarray(\n",
    "  [[11.53165108,  12.2917344,   13.05181771,  13.81190102,  14.57198434, 15.33206765,  16.09215096],\n",
    "   [12.05769098,  12.74614105,  13.43459113,  14.1230412,   14.81149128, 15.49994135,  16.18839143],\n",
    "   [12.58373087,  13.20054771,  13.81736455,  14.43418138,  15.05099822, 15.66781506,  16.2846319 ]])\n",
    "scores_diff = np.abs(scores - correct_scores).sum()\n",
    "assert scores_diff < 1e-6, 'Problem with test-time forward pass'\n",
    "\n",
    "print('Testing training loss (no regularization)')\n",
    "y = np.asarray([0, 5, 1])\n",
    "loss, grads = model.loss(X, y)\n",
    "correct_loss = 3.4702243556\n",
    "assert abs(loss - correct_loss) < 1e-10, 'Problem with training-time loss'\n",
    "\n",
    "model.reg = 1.0\n",
    "loss, grads = model.loss(X, y)\n",
    "correct_loss = 26.5948426952\n",
    "assert abs(loss - correct_loss) < 1e-10, 'Problem with regularization loss'\n",
    "\n",
    "for reg in [0.0, 0.7]:\n",
    "  print('Running numeric gradient check with reg = ', reg)\n",
    "  model.reg = reg\n",
    "  loss, grads = model.loss(X, y)\n",
    "\n",
    "  for name in sorted(grads):\n",
    "    f = lambda _: model.loss(X, y)[0]\n",
    "    grad_num = eval_numerical_gradient(f, model.params[name], verbose=False)\n",
    "    print('%s relative error: %.2e' % (name, rel_error(grad_num, grads[name])))"
   ]
  },
  {
   "cell_type": "markdown",
   "metadata": {},
   "source": [
    "# Solver\n",
    "In the previous assignment, the logic for training models was coupled to the models themselves. Following a more modular design, for this assignment we have split the logic for training models into a separate class.\n",
    "\n",
    "Open the file `cs231n/solver.py` and read through it to familiarize yourself with the API. After doing so, use a `Solver` instance to train a `TwoLayerNet` that achieves at least `50%` accuracy on the validation set."
   ]
  },
  {
   "cell_type": "code",
   "execution_count": 58,
   "metadata": {
    "ExecuteTime": {
     "end_time": "2018-01-15T05:40:06.084632Z",
     "start_time": "2018-01-15T05:40:06.066666Z"
    }
   },
   "outputs": [
    {
     "data": {
      "text/plain": [
       "dict_keys(['X_train', 'y_train', 'X_val', 'y_val'])"
      ]
     },
     "execution_count": 58,
     "metadata": {},
     "output_type": "execute_result"
    }
   ],
   "source": [
    "data.keys()"
   ]
  },
  {
   "cell_type": "code",
   "execution_count": 60,
   "metadata": {
    "ExecuteTime": {
     "end_time": "2018-01-15T05:40:28.762061Z",
     "start_time": "2018-01-15T05:40:28.744950Z"
    }
   },
   "outputs": [
    {
     "data": {
      "text/plain": [
       "(49000, 3, 32, 32)"
      ]
     },
     "execution_count": 60,
     "metadata": {},
     "output_type": "execute_result"
    }
   ],
   "source": [
    "data['X_train'].shape"
   ]
  },
  {
   "cell_type": "code",
   "execution_count": 57,
   "metadata": {
    "ExecuteTime": {
     "end_time": "2018-01-15T05:40:05.466370Z",
     "start_time": "2018-01-15T05:40:05.447137Z"
    }
   },
   "outputs": [],
   "source": [
    "del data['y_test']"
   ]
  },
  {
   "cell_type": "code",
   "execution_count": 48,
   "metadata": {
    "ExecuteTime": {
     "end_time": "2018-01-15T05:33:35.132388Z",
     "start_time": "2018-01-15T05:33:35.112726Z"
    }
   },
   "outputs": [
    {
     "data": {
      "text/plain": [
       "dict_keys(['W1', 'b1', 'W2', 'b2'])"
      ]
     },
     "execution_count": 48,
     "metadata": {},
     "output_type": "execute_result"
    }
   ],
   "source": [
    "model.params.keys()"
   ]
  },
  {
   "cell_type": "code",
   "execution_count": 49,
   "metadata": {
    "ExecuteTime": {
     "end_time": "2018-01-15T05:33:42.848448Z",
     "start_time": "2018-01-15T05:33:42.829120Z"
    }
   },
   "outputs": [
    {
     "data": {
      "text/plain": [
       "(3072, 100)"
      ]
     },
     "execution_count": 49,
     "metadata": {},
     "output_type": "execute_result"
    }
   ],
   "source": [
    "model.params['W1'].shape"
   ]
  },
  {
   "cell_type": "code",
   "execution_count": 50,
   "metadata": {
    "ExecuteTime": {
     "end_time": "2018-01-15T05:33:48.308003Z",
     "start_time": "2018-01-15T05:33:48.289345Z"
    }
   },
   "outputs": [
    {
     "data": {
      "text/plain": [
       "(100, 10)"
      ]
     },
     "execution_count": 50,
     "metadata": {},
     "output_type": "execute_result"
    }
   ],
   "source": [
    "model.params['W2'].shape"
   ]
  },
  {
   "cell_type": "code",
   "execution_count": 73,
   "metadata": {
    "ExecuteTime": {
     "end_time": "2018-01-15T05:56:29.390755Z",
     "start_time": "2018-01-15T05:56:29.357741Z"
    }
   },
   "outputs": [],
   "source": [
    "model = TwoLayerNet()\n",
    "solver = None\n",
    "\n",
    "##############################################################################\n",
    "# TODO: Use a Solver instance to train a TwoLayerNet that achieves at least  #\n",
    "# 50% accuracy on the validation set.                                        #\n",
    "##############################################################################\n",
    "solver = Solver(model, data,\n",
    "                update_rule='sgd',\n",
    "                optim_config={\n",
    "                  'learning_rate': 1e-3,\n",
    "                },\n",
    "                lr_decay=0.95,\n",
    "                num_epochs=100, batch_size=200,\n",
    "                print_every=100)\n",
    "\n",
    "##############################################################################\n",
    "#                             END OF YOUR CODE                               #\n",
    "##############################################################################"
   ]
  },
  {
   "cell_type": "code",
   "execution_count": 74,
   "metadata": {
    "ExecuteTime": {
     "end_time": "2018-01-15T06:02:19.055396Z",
     "start_time": "2018-01-15T05:56:30.672295Z"
    }
   },
   "outputs": [
    {
     "name": "stdout",
     "output_type": "stream",
     "text": [
      "(Iteration 1 / 24500) loss: 2.301587\n",
      "(Epoch 0 / 100) train acc: 0.097000; val_acc: 0.114000\n",
      "(Iteration 101 / 24500) loss: 1.734465\n",
      "(Iteration 201 / 24500) loss: 1.579956\n",
      "(Epoch 1 / 100) train acc: 0.444000; val_acc: 0.451000\n",
      "(Iteration 301 / 24500) loss: 1.485718\n",
      "(Iteration 401 / 24500) loss: 1.474070\n",
      "(Epoch 2 / 100) train acc: 0.452000; val_acc: 0.462000\n",
      "(Iteration 501 / 24500) loss: 1.496473\n",
      "(Iteration 601 / 24500) loss: 1.431615\n",
      "(Iteration 701 / 24500) loss: 1.390880\n",
      "(Epoch 3 / 100) train acc: 0.513000; val_acc: 0.484000\n",
      "(Iteration 801 / 24500) loss: 1.396433\n",
      "(Iteration 901 / 24500) loss: 1.344871\n",
      "(Epoch 4 / 100) train acc: 0.514000; val_acc: 0.498000\n",
      "(Iteration 1001 / 24500) loss: 1.313311\n",
      "(Iteration 1101 / 24500) loss: 1.302321\n",
      "(Iteration 1201 / 24500) loss: 1.265339\n",
      "(Epoch 5 / 100) train acc: 0.539000; val_acc: 0.518000\n",
      "(Iteration 1301 / 24500) loss: 1.318333\n",
      "(Iteration 1401 / 24500) loss: 1.368026\n",
      "(Epoch 6 / 100) train acc: 0.549000; val_acc: 0.505000\n",
      "(Iteration 1501 / 24500) loss: 1.256580\n",
      "(Iteration 1601 / 24500) loss: 1.201657\n",
      "(Iteration 1701 / 24500) loss: 1.416044\n",
      "(Epoch 7 / 100) train acc: 0.557000; val_acc: 0.496000\n",
      "(Iteration 1801 / 24500) loss: 1.215349\n",
      "(Iteration 1901 / 24500) loss: 1.354972\n",
      "(Epoch 8 / 100) train acc: 0.578000; val_acc: 0.504000\n",
      "(Iteration 2001 / 24500) loss: 1.127864\n",
      "(Iteration 2101 / 24500) loss: 1.362908\n",
      "(Iteration 2201 / 24500) loss: 1.219752\n",
      "(Epoch 9 / 100) train acc: 0.550000; val_acc: 0.490000\n",
      "(Iteration 2301 / 24500) loss: 1.263357\n",
      "(Iteration 2401 / 24500) loss: 1.162624\n",
      "(Epoch 10 / 100) train acc: 0.581000; val_acc: 0.519000\n",
      "(Iteration 2501 / 24500) loss: 1.193167\n",
      "(Iteration 2601 / 24500) loss: 1.210960\n",
      "(Epoch 11 / 100) train acc: 0.601000; val_acc: 0.520000\n",
      "(Iteration 2701 / 24500) loss: 1.018960\n",
      "(Iteration 2801 / 24500) loss: 1.140075\n",
      "(Iteration 2901 / 24500) loss: 1.240512\n",
      "(Epoch 12 / 100) train acc: 0.631000; val_acc: 0.532000\n",
      "(Iteration 3001 / 24500) loss: 0.982324\n",
      "(Iteration 3101 / 24500) loss: 1.044519\n",
      "(Epoch 13 / 100) train acc: 0.621000; val_acc: 0.510000\n",
      "(Iteration 3201 / 24500) loss: 1.352759\n",
      "(Iteration 3301 / 24500) loss: 1.081789\n",
      "(Iteration 3401 / 24500) loss: 1.095013\n",
      "(Epoch 14 / 100) train acc: 0.646000; val_acc: 0.513000\n",
      "(Iteration 3501 / 24500) loss: 1.086854\n",
      "(Iteration 3601 / 24500) loss: 1.101445\n",
      "(Epoch 15 / 100) train acc: 0.627000; val_acc: 0.522000\n",
      "(Iteration 3701 / 24500) loss: 1.099994\n",
      "(Iteration 3801 / 24500) loss: 0.981160\n",
      "(Iteration 3901 / 24500) loss: 1.080778\n",
      "(Epoch 16 / 100) train acc: 0.620000; val_acc: 0.525000\n",
      "(Iteration 4001 / 24500) loss: 1.030682\n",
      "(Iteration 4101 / 24500) loss: 1.024323\n",
      "(Epoch 17 / 100) train acc: 0.640000; val_acc: 0.522000\n",
      "(Iteration 4201 / 24500) loss: 0.982516\n",
      "(Iteration 4301 / 24500) loss: 0.954045\n",
      "(Iteration 4401 / 24500) loss: 1.091875\n",
      "(Epoch 18 / 100) train acc: 0.627000; val_acc: 0.518000\n",
      "(Iteration 4501 / 24500) loss: 0.988595\n",
      "(Iteration 4601 / 24500) loss: 0.860162\n",
      "(Epoch 19 / 100) train acc: 0.636000; val_acc: 0.521000\n",
      "(Iteration 4701 / 24500) loss: 1.046687\n",
      "(Iteration 4801 / 24500) loss: 0.995244\n",
      "(Epoch 20 / 100) train acc: 0.667000; val_acc: 0.515000\n",
      "(Iteration 4901 / 24500) loss: 1.005394\n",
      "(Iteration 5001 / 24500) loss: 1.166510\n",
      "(Iteration 5101 / 24500) loss: 1.021598\n",
      "(Epoch 21 / 100) train acc: 0.672000; val_acc: 0.526000\n",
      "(Iteration 5201 / 24500) loss: 0.978394\n",
      "(Iteration 5301 / 24500) loss: 0.988311\n",
      "(Epoch 22 / 100) train acc: 0.655000; val_acc: 0.513000\n",
      "(Iteration 5401 / 24500) loss: 1.067747\n",
      "(Iteration 5501 / 24500) loss: 0.813620\n",
      "(Iteration 5601 / 24500) loss: 1.041240\n",
      "(Epoch 23 / 100) train acc: 0.669000; val_acc: 0.509000\n",
      "(Iteration 5701 / 24500) loss: 0.965227\n",
      "(Iteration 5801 / 24500) loss: 0.845918\n",
      "(Epoch 24 / 100) train acc: 0.708000; val_acc: 0.525000\n",
      "(Iteration 5901 / 24500) loss: 0.930631\n",
      "(Iteration 6001 / 24500) loss: 0.956191\n",
      "(Iteration 6101 / 24500) loss: 1.043208\n",
      "(Epoch 25 / 100) train acc: 0.677000; val_acc: 0.519000\n",
      "(Iteration 6201 / 24500) loss: 0.947750\n",
      "(Iteration 6301 / 24500) loss: 0.935059\n",
      "(Epoch 26 / 100) train acc: 0.710000; val_acc: 0.510000\n",
      "(Iteration 6401 / 24500) loss: 1.011576\n",
      "(Iteration 6501 / 24500) loss: 0.901768\n",
      "(Iteration 6601 / 24500) loss: 0.930287\n",
      "(Epoch 27 / 100) train acc: 0.689000; val_acc: 0.527000\n",
      "(Iteration 6701 / 24500) loss: 0.965786\n",
      "(Iteration 6801 / 24500) loss: 1.004029\n",
      "(Epoch 28 / 100) train acc: 0.681000; val_acc: 0.523000\n",
      "(Iteration 6901 / 24500) loss: 1.003260\n",
      "(Iteration 7001 / 24500) loss: 0.827625\n",
      "(Iteration 7101 / 24500) loss: 0.937695\n",
      "(Epoch 29 / 100) train acc: 0.675000; val_acc: 0.518000\n",
      "(Iteration 7201 / 24500) loss: 0.817396\n",
      "(Iteration 7301 / 24500) loss: 0.758988\n",
      "(Epoch 30 / 100) train acc: 0.688000; val_acc: 0.526000\n",
      "(Iteration 7401 / 24500) loss: 0.906978\n",
      "(Iteration 7501 / 24500) loss: 0.864702\n",
      "(Epoch 31 / 100) train acc: 0.703000; val_acc: 0.528000\n",
      "(Iteration 7601 / 24500) loss: 0.820269\n",
      "(Iteration 7701 / 24500) loss: 0.907777\n",
      "(Iteration 7801 / 24500) loss: 0.758610\n",
      "(Epoch 32 / 100) train acc: 0.720000; val_acc: 0.517000\n",
      "(Iteration 7901 / 24500) loss: 0.882685\n",
      "(Iteration 8001 / 24500) loss: 1.066181\n",
      "(Epoch 33 / 100) train acc: 0.704000; val_acc: 0.520000\n",
      "(Iteration 8101 / 24500) loss: 0.922549\n",
      "(Iteration 8201 / 24500) loss: 0.897310\n",
      "(Iteration 8301 / 24500) loss: 0.800731\n",
      "(Epoch 34 / 100) train acc: 0.726000; val_acc: 0.515000\n",
      "(Iteration 8401 / 24500) loss: 0.857058\n",
      "(Iteration 8501 / 24500) loss: 0.811303\n",
      "(Epoch 35 / 100) train acc: 0.723000; val_acc: 0.526000\n",
      "(Iteration 8601 / 24500) loss: 0.821360\n",
      "(Iteration 8701 / 24500) loss: 0.899114\n",
      "(Iteration 8801 / 24500) loss: 0.783640\n",
      "(Epoch 36 / 100) train acc: 0.700000; val_acc: 0.514000\n",
      "(Iteration 8901 / 24500) loss: 0.810378\n",
      "(Iteration 9001 / 24500) loss: 0.823577\n",
      "(Epoch 37 / 100) train acc: 0.728000; val_acc: 0.522000\n",
      "(Iteration 9101 / 24500) loss: 0.882389\n",
      "(Iteration 9201 / 24500) loss: 0.817789\n",
      "(Iteration 9301 / 24500) loss: 0.752136\n",
      "(Epoch 38 / 100) train acc: 0.721000; val_acc: 0.509000\n",
      "(Iteration 9401 / 24500) loss: 0.893950\n",
      "(Iteration 9501 / 24500) loss: 0.867704\n",
      "(Epoch 39 / 100) train acc: 0.737000; val_acc: 0.519000\n",
      "(Iteration 9601 / 24500) loss: 0.802583\n",
      "(Iteration 9701 / 24500) loss: 0.872936\n",
      "(Epoch 40 / 100) train acc: 0.726000; val_acc: 0.519000\n",
      "(Iteration 9801 / 24500) loss: 0.730723\n",
      "(Iteration 9901 / 24500) loss: 0.855234\n",
      "(Iteration 10001 / 24500) loss: 0.904144\n",
      "(Epoch 41 / 100) train acc: 0.737000; val_acc: 0.521000\n",
      "(Iteration 10101 / 24500) loss: 0.780633\n",
      "(Iteration 10201 / 24500) loss: 0.730834\n",
      "(Epoch 42 / 100) train acc: 0.680000; val_acc: 0.522000\n",
      "(Iteration 10301 / 24500) loss: 0.956337\n",
      "(Iteration 10401 / 24500) loss: 0.778904\n",
      "(Iteration 10501 / 24500) loss: 0.785001\n",
      "(Epoch 43 / 100) train acc: 0.722000; val_acc: 0.529000\n",
      "(Iteration 10601 / 24500) loss: 0.842862\n",
      "(Iteration 10701 / 24500) loss: 0.717115\n",
      "(Epoch 44 / 100) train acc: 0.750000; val_acc: 0.510000\n",
      "(Iteration 10801 / 24500) loss: 0.820518\n",
      "(Iteration 10901 / 24500) loss: 0.734892\n",
      "(Iteration 11001 / 24500) loss: 0.726322\n",
      "(Epoch 45 / 100) train acc: 0.745000; val_acc: 0.510000\n",
      "(Iteration 11101 / 24500) loss: 0.785063\n",
      "(Iteration 11201 / 24500) loss: 0.748374\n",
      "(Epoch 46 / 100) train acc: 0.725000; val_acc: 0.534000\n",
      "(Iteration 11301 / 24500) loss: 0.763841\n",
      "(Iteration 11401 / 24500) loss: 0.858634\n",
      "(Iteration 11501 / 24500) loss: 0.751940\n",
      "(Epoch 47 / 100) train acc: 0.749000; val_acc: 0.521000\n",
      "(Iteration 11601 / 24500) loss: 0.768927\n",
      "(Iteration 11701 / 24500) loss: 0.702145\n",
      "(Epoch 48 / 100) train acc: 0.723000; val_acc: 0.514000\n",
      "(Iteration 11801 / 24500) loss: 0.777937\n",
      "(Iteration 11901 / 24500) loss: 0.915873\n",
      "(Iteration 12001 / 24500) loss: 0.757894\n",
      "(Epoch 49 / 100) train acc: 0.722000; val_acc: 0.520000\n",
      "(Iteration 12101 / 24500) loss: 0.712396\n",
      "(Iteration 12201 / 24500) loss: 0.777146\n",
      "(Epoch 50 / 100) train acc: 0.739000; val_acc: 0.516000\n",
      "(Iteration 12301 / 24500) loss: 0.803513\n",
      "(Iteration 12401 / 24500) loss: 0.857440\n",
      "(Epoch 51 / 100) train acc: 0.749000; val_acc: 0.523000\n",
      "(Iteration 12501 / 24500) loss: 0.744729\n",
      "(Iteration 12601 / 24500) loss: 0.708731\n",
      "(Iteration 12701 / 24500) loss: 0.696777\n",
      "(Epoch 52 / 100) train acc: 0.752000; val_acc: 0.518000\n",
      "(Iteration 12801 / 24500) loss: 0.762809\n",
      "(Iteration 12901 / 24500) loss: 0.806147\n",
      "(Epoch 53 / 100) train acc: 0.743000; val_acc: 0.512000\n"
     ]
    },
    {
     "name": "stdout",
     "output_type": "stream",
     "text": [
      "(Iteration 13001 / 24500) loss: 0.796018\n",
      "(Iteration 13101 / 24500) loss: 0.785968\n",
      "(Iteration 13201 / 24500) loss: 0.736637\n",
      "(Epoch 54 / 100) train acc: 0.761000; val_acc: 0.511000\n",
      "(Iteration 13301 / 24500) loss: 0.707282\n",
      "(Iteration 13401 / 24500) loss: 0.750568\n",
      "(Epoch 55 / 100) train acc: 0.747000; val_acc: 0.524000\n",
      "(Iteration 13501 / 24500) loss: 0.788214\n",
      "(Iteration 13601 / 24500) loss: 0.745967\n",
      "(Iteration 13701 / 24500) loss: 0.783064\n",
      "(Epoch 56 / 100) train acc: 0.747000; val_acc: 0.517000\n",
      "(Iteration 13801 / 24500) loss: 0.788451\n",
      "(Iteration 13901 / 24500) loss: 0.641787\n",
      "(Epoch 57 / 100) train acc: 0.777000; val_acc: 0.516000\n",
      "(Iteration 14001 / 24500) loss: 0.756339\n",
      "(Iteration 14101 / 24500) loss: 0.744848\n",
      "(Iteration 14201 / 24500) loss: 0.812282\n",
      "(Epoch 58 / 100) train acc: 0.730000; val_acc: 0.517000\n",
      "(Iteration 14301 / 24500) loss: 0.812435\n",
      "(Iteration 14401 / 24500) loss: 0.761777\n",
      "(Epoch 59 / 100) train acc: 0.757000; val_acc: 0.517000\n",
      "(Iteration 14501 / 24500) loss: 0.717661\n",
      "(Iteration 14601 / 24500) loss: 0.721242\n",
      "(Epoch 60 / 100) train acc: 0.762000; val_acc: 0.518000\n",
      "(Iteration 14701 / 24500) loss: 0.824738\n",
      "(Iteration 14801 / 24500) loss: 0.791175\n",
      "(Iteration 14901 / 24500) loss: 0.747527\n",
      "(Epoch 61 / 100) train acc: 0.765000; val_acc: 0.517000\n",
      "(Iteration 15001 / 24500) loss: 0.648295\n",
      "(Iteration 15101 / 24500) loss: 0.757222\n",
      "(Epoch 62 / 100) train acc: 0.751000; val_acc: 0.515000\n",
      "(Iteration 15201 / 24500) loss: 0.718124\n",
      "(Iteration 15301 / 24500) loss: 0.727498\n",
      "(Iteration 15401 / 24500) loss: 0.693549\n",
      "(Epoch 63 / 100) train acc: 0.770000; val_acc: 0.520000\n",
      "(Iteration 15501 / 24500) loss: 0.686545\n",
      "(Iteration 15601 / 24500) loss: 0.791777\n",
      "(Epoch 64 / 100) train acc: 0.753000; val_acc: 0.522000\n",
      "(Iteration 15701 / 24500) loss: 0.714896\n",
      "(Iteration 15801 / 24500) loss: 0.726009\n",
      "(Iteration 15901 / 24500) loss: 0.777898\n",
      "(Epoch 65 / 100) train acc: 0.751000; val_acc: 0.511000\n",
      "(Iteration 16001 / 24500) loss: 0.641983\n",
      "(Iteration 16101 / 24500) loss: 0.722661\n",
      "(Epoch 66 / 100) train acc: 0.754000; val_acc: 0.521000\n",
      "(Iteration 16201 / 24500) loss: 0.783179\n",
      "(Iteration 16301 / 24500) loss: 0.661702\n",
      "(Iteration 16401 / 24500) loss: 0.766901\n",
      "(Epoch 67 / 100) train acc: 0.758000; val_acc: 0.514000\n",
      "(Iteration 16501 / 24500) loss: 0.693890\n",
      "(Iteration 16601 / 24500) loss: 0.690715\n",
      "(Epoch 68 / 100) train acc: 0.780000; val_acc: 0.515000\n",
      "(Iteration 16701 / 24500) loss: 0.708810\n",
      "(Iteration 16801 / 24500) loss: 0.709772\n",
      "(Iteration 16901 / 24500) loss: 0.658754\n",
      "(Epoch 69 / 100) train acc: 0.734000; val_acc: 0.520000\n",
      "(Iteration 17001 / 24500) loss: 0.750316\n",
      "(Iteration 17101 / 24500) loss: 0.779634\n",
      "(Epoch 70 / 100) train acc: 0.749000; val_acc: 0.513000\n",
      "(Iteration 17201 / 24500) loss: 0.711979\n",
      "(Iteration 17301 / 24500) loss: 0.748739\n",
      "(Epoch 71 / 100) train acc: 0.764000; val_acc: 0.517000\n",
      "(Iteration 17401 / 24500) loss: 0.664494\n",
      "(Iteration 17501 / 24500) loss: 0.689356\n",
      "(Iteration 17601 / 24500) loss: 0.729146\n",
      "(Epoch 72 / 100) train acc: 0.754000; val_acc: 0.504000\n",
      "(Iteration 17701 / 24500) loss: 0.854985\n",
      "(Iteration 17801 / 24500) loss: 0.732895\n",
      "(Epoch 73 / 100) train acc: 0.767000; val_acc: 0.512000\n",
      "(Iteration 17901 / 24500) loss: 0.686426\n",
      "(Iteration 18001 / 24500) loss: 0.705541\n",
      "(Iteration 18101 / 24500) loss: 0.685167\n",
      "(Epoch 74 / 100) train acc: 0.744000; val_acc: 0.512000\n",
      "(Iteration 18201 / 24500) loss: 0.743594\n",
      "(Iteration 18301 / 24500) loss: 0.719545\n",
      "(Epoch 75 / 100) train acc: 0.737000; val_acc: 0.515000\n",
      "(Iteration 18401 / 24500) loss: 0.682379\n",
      "(Iteration 18501 / 24500) loss: 0.830517\n",
      "(Iteration 18601 / 24500) loss: 0.802947\n",
      "(Epoch 76 / 100) train acc: 0.735000; val_acc: 0.515000\n",
      "(Iteration 18701 / 24500) loss: 0.799284\n",
      "(Iteration 18801 / 24500) loss: 0.766228\n",
      "(Epoch 77 / 100) train acc: 0.777000; val_acc: 0.512000\n",
      "(Iteration 18901 / 24500) loss: 0.809984\n",
      "(Iteration 19001 / 24500) loss: 0.664856\n",
      "(Iteration 19101 / 24500) loss: 0.758701\n",
      "(Epoch 78 / 100) train acc: 0.764000; val_acc: 0.513000\n",
      "(Iteration 19201 / 24500) loss: 0.769546\n",
      "(Iteration 19301 / 24500) loss: 0.763732\n",
      "(Epoch 79 / 100) train acc: 0.771000; val_acc: 0.512000\n",
      "(Iteration 19401 / 24500) loss: 0.644938\n",
      "(Iteration 19501 / 24500) loss: 0.705800\n",
      "(Epoch 80 / 100) train acc: 0.777000; val_acc: 0.512000\n",
      "(Iteration 19601 / 24500) loss: 0.756679\n",
      "(Iteration 19701 / 24500) loss: 0.724775\n",
      "(Iteration 19801 / 24500) loss: 0.712397\n",
      "(Epoch 81 / 100) train acc: 0.767000; val_acc: 0.518000\n",
      "(Iteration 19901 / 24500) loss: 0.710177\n",
      "(Iteration 20001 / 24500) loss: 0.714533\n",
      "(Epoch 82 / 100) train acc: 0.774000; val_acc: 0.518000\n",
      "(Iteration 20101 / 24500) loss: 0.654654\n",
      "(Iteration 20201 / 24500) loss: 0.678263\n",
      "(Iteration 20301 / 24500) loss: 0.694579\n",
      "(Epoch 83 / 100) train acc: 0.774000; val_acc: 0.519000\n",
      "(Iteration 20401 / 24500) loss: 0.809644\n",
      "(Iteration 20501 / 24500) loss: 0.697538\n",
      "(Epoch 84 / 100) train acc: 0.769000; val_acc: 0.512000\n",
      "(Iteration 20601 / 24500) loss: 0.677241\n",
      "(Iteration 20701 / 24500) loss: 0.701448\n",
      "(Iteration 20801 / 24500) loss: 0.788111\n",
      "(Epoch 85 / 100) train acc: 0.772000; val_acc: 0.509000\n",
      "(Iteration 20901 / 24500) loss: 0.668593\n",
      "(Iteration 21001 / 24500) loss: 0.724582\n",
      "(Epoch 86 / 100) train acc: 0.739000; val_acc: 0.517000\n",
      "(Iteration 21101 / 24500) loss: 0.717122\n",
      "(Iteration 21201 / 24500) loss: 0.693312\n",
      "(Iteration 21301 / 24500) loss: 0.818455\n",
      "(Epoch 87 / 100) train acc: 0.761000; val_acc: 0.508000\n",
      "(Iteration 21401 / 24500) loss: 0.830526\n",
      "(Iteration 21501 / 24500) loss: 0.708406\n",
      "(Epoch 88 / 100) train acc: 0.741000; val_acc: 0.510000\n",
      "(Iteration 21601 / 24500) loss: 0.590646\n",
      "(Iteration 21701 / 24500) loss: 0.819877\n",
      "(Iteration 21801 / 24500) loss: 0.706716\n",
      "(Epoch 89 / 100) train acc: 0.781000; val_acc: 0.515000\n",
      "(Iteration 21901 / 24500) loss: 0.661125\n",
      "(Iteration 22001 / 24500) loss: 0.773847\n",
      "(Epoch 90 / 100) train acc: 0.756000; val_acc: 0.514000\n",
      "(Iteration 22101 / 24500) loss: 0.619130\n",
      "(Iteration 22201 / 24500) loss: 0.727612\n",
      "(Epoch 91 / 100) train acc: 0.756000; val_acc: 0.511000\n",
      "(Iteration 22301 / 24500) loss: 0.722941\n",
      "(Iteration 22401 / 24500) loss: 0.719092\n",
      "(Iteration 22501 / 24500) loss: 0.783453\n",
      "(Epoch 92 / 100) train acc: 0.759000; val_acc: 0.517000\n",
      "(Iteration 22601 / 24500) loss: 0.567615\n",
      "(Iteration 22701 / 24500) loss: 0.809102\n",
      "(Epoch 93 / 100) train acc: 0.770000; val_acc: 0.518000\n",
      "(Iteration 22801 / 24500) loss: 0.632964\n",
      "(Iteration 22901 / 24500) loss: 0.631675\n",
      "(Iteration 23001 / 24500) loss: 0.708395\n",
      "(Epoch 94 / 100) train acc: 0.748000; val_acc: 0.517000\n",
      "(Iteration 23101 / 24500) loss: 0.692054\n",
      "(Iteration 23201 / 24500) loss: 0.682486\n",
      "(Epoch 95 / 100) train acc: 0.791000; val_acc: 0.517000\n",
      "(Iteration 23301 / 24500) loss: 0.748897\n",
      "(Iteration 23401 / 24500) loss: 0.787271\n",
      "(Iteration 23501 / 24500) loss: 0.749371\n",
      "(Epoch 96 / 100) train acc: 0.745000; val_acc: 0.515000\n",
      "(Iteration 23601 / 24500) loss: 0.809286\n",
      "(Iteration 23701 / 24500) loss: 0.583561\n",
      "(Epoch 97 / 100) train acc: 0.757000; val_acc: 0.517000\n",
      "(Iteration 23801 / 24500) loss: 0.576871\n",
      "(Iteration 23901 / 24500) loss: 0.702366\n",
      "(Iteration 24001 / 24500) loss: 0.693769\n",
      "(Epoch 98 / 100) train acc: 0.761000; val_acc: 0.516000\n",
      "(Iteration 24101 / 24500) loss: 0.638677\n",
      "(Iteration 24201 / 24500) loss: 0.682031\n",
      "(Epoch 99 / 100) train acc: 0.768000; val_acc: 0.511000\n",
      "(Iteration 24301 / 24500) loss: 0.765510\n",
      "(Iteration 24401 / 24500) loss: 0.641886\n",
      "(Epoch 100 / 100) train acc: 0.769000; val_acc: 0.517000\n"
     ]
    }
   ],
   "source": [
    "qq = solver.train()"
   ]
  },
  {
   "cell_type": "code",
   "execution_count": 75,
   "metadata": {
    "ExecuteTime": {
     "end_time": "2018-01-15T06:08:17.935605Z",
     "start_time": "2018-01-15T06:08:17.556422Z"
    }
   },
   "outputs": [
    {
     "data": {
      "image/png": "[encoded data removed]",
      "text/plain": [
       "<matplotlib.figure.Figure at 0x7fe7afc4bcc0>"
      ]
     },
     "metadata": {},
     "output_type": "display_data"
    }
   ],
   "source": [
    "# Run this cell to visualize training loss and train / val accuracy\n",
    "\n",
    "plt.subplot(2, 1, 1)\n",
    "plt.title('Training loss')\n",
    "plt.plot(solver.loss_history, 'o')\n",
    "plt.xlabel('Iteration')\n",
    "\n",
    "plt.subplot(2, 1, 2)\n",
    "plt.title('Accuracy')\n",
    "plt.plot(solver.train_acc_history, '-o', label='train')\n",
    "plt.plot(solver.val_acc_history, '-o', label='val')\n",
    "plt.plot([0.5] * len(solver.val_acc_history), 'k--')\n",
    "plt.xlabel('Epoch')\n",
    "plt.legend(loc='lower right')\n",
    "plt.gcf().set_size_inches(15, 12)\n",
    "plt.show()"
   ]
  },
  {
   "cell_type": "markdown",
   "metadata": {},
   "source": [
    "# Multilayer network\n",
    "Next you will implement a fully-connected network with an arbitrary number of hidden layers.\n",
    "\n",
    "Read through the `FullyConnectedNet` class in the file `cs231n/classifiers/fc_net.py`.\n",
    "\n",
    "Implement the initialization, the forward pass, and the backward pass. For the moment don't worry about implementing dropout or batch normalization; we will add those features soon."
   ]
  },
  {
   "cell_type": "markdown",
   "metadata": {},
   "source": [
    "## Initial loss and gradient check"
   ]
  },
  {
   "cell_type": "markdown",
   "metadata": {},
   "source": [
    "As a sanity check, run the following to check the initial loss and to gradient check the network both with and without regularization. Do the initial losses seem reasonable?\n",
    "\n",
    "For gradient checking, you should expect to see errors around 1e-6 or less."
   ]
  },
  {
   "cell_type": "code",
   "execution_count": 174,
   "metadata": {
    "ExecuteTime": {
     "end_time": "2018-01-18T10:25:40.040392Z",
     "start_time": "2018-01-18T10:25:38.915002Z"
    }
   },
   "outputs": [
    {
     "name": "stdout",
     "output_type": "stream",
     "text": [
      "Running check with reg =  0\n",
      "Initial loss:  2.3004790897684924\n",
      "W1 relative error: 1.48e-07\n",
      "W2 relative error: 2.21e-05\n",
      "W3 relative error: 3.53e-07\n",
      "b1 relative error: 5.38e-09\n",
      "b2 relative error: 2.09e-09\n",
      "b3 relative error: 5.80e-11\n",
      "Running check with reg =  3.14\n",
      "Initial loss:  7.052114776533016\n",
      "W1 relative error: 3.90e-09\n",
      "W2 relative error: 6.87e-08\n",
      "W3 relative error: 2.13e-08\n",
      "b1 relative error: 1.48e-08\n",
      "b2 relative error: 1.72e-09\n",
      "b3 relative error: 1.57e-10\n"
     ]
    }
   ],
   "source": [
    "np.random.seed(231)\n",
    "N, D, H1, H2, C = 2, 15, 20, 30, 10\n",
    "X = np.random.randn(N, D)\n",
    "y = np.random.randint(C, size=(N,))\n",
    "\n",
    "for reg in [0, 3.14]:\n",
    "  print('Running check with reg = ', reg)\n",
    "  model = FullyConnectedNet([H1, H2], input_dim=D, num_classes=C,\n",
    "                            reg=reg, weight_scale=5e-2, dtype=np.float64)\n",
    "\n",
    "  loss, grads = model.loss(X, y)\n",
    "  print('Initial loss: ', loss)\n",
    "\n",
    "  for name in sorted(grads):\n",
    "    f = lambda _: model.loss(X, y)[0]\n",
    "    grad_num = eval_numerical_gradient(f, model.params[name], verbose=False, h=1e-5)\n",
    "    print('%s relative error: %.2e' % (name, rel_error(grad_num, grads[name])))"
   ]
  },
  {
   "cell_type": "markdown",
   "metadata": {},
   "source": [
    "As another sanity check, make sure you can overfit a small dataset of 50 images. First we will try a three-layer network with 100 units in each hidden layer. You will need to tweak the learning rate and initialization scale, but you should be able to overfit and achieve 100% training accuracy within 20 epochs."
   ]
  },
  {
   "cell_type": "code",
   "execution_count": 145,
   "metadata": {
    "ExecuteTime": {
     "end_time": "2018-01-15T11:49:07.520898Z",
     "start_time": "2018-01-15T11:49:06.323743Z"
    },
    "scrolled": false
   },
   "outputs": [
    {
     "name": "stdout",
     "output_type": "stream",
     "text": [
      "(Iteration 1 / 40) loss: 228.468533\n",
      "(Epoch 0 / 20) train acc: 0.240000; val_acc: 0.097000\n",
      "(Epoch 1 / 20) train acc: 0.420000; val_acc: 0.108000\n",
      "(Epoch 2 / 20) train acc: 0.340000; val_acc: 0.130000\n",
      "(Epoch 3 / 20) train acc: 0.660000; val_acc: 0.137000\n",
      "(Epoch 4 / 20) train acc: 0.780000; val_acc: 0.135000\n",
      "(Epoch 5 / 20) train acc: 0.740000; val_acc: 0.139000\n",
      "(Iteration 11 / 40) loss: 58.807493\n",
      "(Epoch 6 / 20) train acc: 0.940000; val_acc: 0.150000\n",
      "(Epoch 7 / 20) train acc: 1.000000; val_acc: 0.147000\n",
      "(Epoch 8 / 20) train acc: 1.000000; val_acc: 0.147000\n",
      "(Epoch 9 / 20) train acc: 1.000000; val_acc: 0.147000\n",
      "(Epoch 10 / 20) train acc: 1.000000; val_acc: 0.147000\n",
      "(Iteration 21 / 40) loss: 0.000000\n",
      "(Epoch 11 / 20) train acc: 1.000000; val_acc: 0.147000\n",
      "(Epoch 12 / 20) train acc: 1.000000; val_acc: 0.147000\n",
      "(Epoch 13 / 20) train acc: 1.000000; val_acc: 0.147000\n",
      "(Epoch 14 / 20) train acc: 1.000000; val_acc: 0.147000\n",
      "(Epoch 15 / 20) train acc: 1.000000; val_acc: 0.147000\n",
      "(Iteration 31 / 40) loss: 0.000000\n",
      "(Epoch 16 / 20) train acc: 1.000000; val_acc: 0.147000\n",
      "(Epoch 17 / 20) train acc: 1.000000; val_acc: 0.147000\n",
      "(Epoch 18 / 20) train acc: 1.000000; val_acc: 0.147000\n",
      "(Epoch 19 / 20) train acc: 1.000000; val_acc: 0.147000\n",
      "(Epoch 20 / 20) train acc: 1.000000; val_acc: 0.147000\n"
     ]
    },
    {
     "data": {
      "image/png": "[encoded data removed]",
      "text/plain": [
       "<matplotlib.figure.Figure at 0x7fe7afa7bef0>"
      ]
     },
     "metadata": {},
     "output_type": "display_data"
    }
   ],
   "source": [
    "# TODO: Use a three-layer Net to overfit 50 training examples.\n",
    "\n",
    "num_train = 50\n",
    "small_data = {\n",
    "  'X_train': data['X_train'][:num_train],\n",
    "  'y_train': data['y_train'][:num_train],\n",
    "  'X_val': data['X_val'],\n",
    "  'y_val': data['y_val'],\n",
    "}\n",
    "\n",
    "weight_scale = 1e-1\n",
    "learning_rate = 1e-3\n",
    "model = FullyConnectedNet([100, 100],\n",
    "              weight_scale=weight_scale, dtype=np.float64)\n",
    "solver = Solver(model, small_data,\n",
    "                print_every=10, num_epochs=20, batch_size=25,\n",
    "                update_rule='sgd',\n",
    "                optim_config={\n",
    "                  'learning_rate': learning_rate,\n",
    "                }\n",
    "         )\n",
    "solver.train()\n",
    "\n",
    "plt.plot(solver.loss_history, 'o')\n",
    "plt.title('Training loss history')\n",
    "plt.xlabel('Iteration')\n",
    "plt.ylabel('Training loss')\n",
    "plt.show()"
   ]
  },
  {
   "cell_type": "markdown",
   "metadata": {},
   "source": [
    "Now try to use a five-layer network with 100 units on each layer to overfit 50 training examples. Again you will have to adjust the learning rate and weight initialization, but you should be able to achieve 100% training accuracy within 20 epochs."
   ]
  },
  {
   "cell_type": "code",
   "execution_count": 148,
   "metadata": {
    "ExecuteTime": {
     "end_time": "2018-01-15T11:49:43.853786Z",
     "start_time": "2018-01-15T11:49:42.560933Z"
    }
   },
   "outputs": [
    {
     "name": "stdout",
     "output_type": "stream",
     "text": [
      "(Iteration 1 / 40) loss: 72.279123\n",
      "(Epoch 0 / 20) train acc: 0.320000; val_acc: 0.113000\n",
      "(Epoch 1 / 20) train acc: 0.260000; val_acc: 0.115000\n",
      "(Epoch 2 / 20) train acc: 0.400000; val_acc: 0.123000\n",
      "(Epoch 3 / 20) train acc: 0.580000; val_acc: 0.130000\n",
      "(Epoch 4 / 20) train acc: 0.720000; val_acc: 0.121000\n",
      "(Epoch 5 / 20) train acc: 0.860000; val_acc: 0.123000\n",
      "(Iteration 11 / 40) loss: 0.107431\n",
      "(Epoch 6 / 20) train acc: 0.900000; val_acc: 0.122000\n",
      "(Epoch 7 / 20) train acc: 0.960000; val_acc: 0.134000\n",
      "(Epoch 8 / 20) train acc: 0.980000; val_acc: 0.136000\n",
      "(Epoch 9 / 20) train acc: 1.000000; val_acc: 0.134000\n",
      "(Epoch 10 / 20) train acc: 1.000000; val_acc: 0.134000\n",
      "(Iteration 21 / 40) loss: 0.000655\n",
      "(Epoch 11 / 20) train acc: 1.000000; val_acc: 0.134000\n",
      "(Epoch 12 / 20) train acc: 1.000000; val_acc: 0.134000\n",
      "(Epoch 13 / 20) train acc: 1.000000; val_acc: 0.134000\n",
      "(Epoch 14 / 20) train acc: 1.000000; val_acc: 0.134000\n",
      "(Epoch 15 / 20) train acc: 1.000000; val_acc: 0.134000\n",
      "(Iteration 31 / 40) loss: 0.000802\n",
      "(Epoch 16 / 20) train acc: 1.000000; val_acc: 0.134000\n",
      "(Epoch 17 / 20) train acc: 1.000000; val_acc: 0.134000\n",
      "(Epoch 18 / 20) train acc: 1.000000; val_acc: 0.134000\n",
      "(Epoch 19 / 20) train acc: 1.000000; val_acc: 0.134000\n",
      "(Epoch 20 / 20) train acc: 1.000000; val_acc: 0.134000\n"
     ]
    },
    {
     "data": {
      "image/png": "[encoded data removed]",
      "text/plain": [
       "<matplotlib.figure.Figure at 0x7fe7af9aaf28>"
      ]
     },
     "metadata": {},
     "output_type": "display_data"
    }
   ],
   "source": [
    "# TODO: Use a five-layer Net to overfit 50 training examples.\n",
    "\n",
    "num_train = 50\n",
    "small_data = {\n",
    "  'X_train': data['X_train'][:num_train],\n",
    "  'y_train': data['y_train'][:num_train],\n",
    "  'X_val': data['X_val'],\n",
    "  'y_val': data['y_val'],\n",
    "}\n",
    "\n",
    "learning_rate = 1e-3\n",
    "weight_scale = 1e-1\n",
    "model = FullyConnectedNet([100, 100, 100, 100],\n",
    "                weight_scale=weight_scale, dtype=np.float64)\n",
    "solver = Solver(model, small_data,\n",
    "                print_every=10, num_epochs=20, batch_size=25,\n",
    "                update_rule='sgd',\n",
    "                optim_config={\n",
    "                  'learning_rate': learning_rate,\n",
    "                }\n",
    "         )\n",
    "solver.train()\n",
    "\n",
    "plt.plot(solver.loss_history, 'o')\n",
    "plt.title('Training loss history')\n",
    "plt.xlabel('Iteration')\n",
    "plt.ylabel('Training loss')\n",
    "plt.show()"
   ]
  },
  {
   "cell_type": "markdown",
   "metadata": {},
   "source": [
    "# Inline question: \n",
    "Did you notice anything about the comparative difficulty of training the three-layer net vs training the five layer net?\n",
    "\n",
    "# Answer:\n",
    "- No, it's very simple, just some changes in num hidden layers\n"
   ]
  },
  {
   "cell_type": "markdown",
   "metadata": {},
   "source": [
    "# Update rules\n",
    "So far we have used vanilla stochastic gradient descent (SGD) as our update rule. More sophisticated update rules can make it easier to train deep networks. We will implement a few of the most commonly used update rules and compare them to vanilla SGD."
   ]
  },
  {
   "cell_type": "markdown",
   "metadata": {},
   "source": [
    "# SGD+Momentum\n",
    "Stochastic gradient descent with momentum is a widely used update rule that tends to make deep networks converge faster than vanilla stochstic gradient descent.\n",
    "\n",
    "Open the file `cs231n/optim.py` and read the documentation at the top of the file to make sure you understand the API. Implement the SGD+momentum update rule in the function `sgd_momentum` and run the following to check your implementation. You should see errors less than 1e-8."
   ]
  },
  {
   "cell_type": "code",
   "execution_count": 202,
   "metadata": {
    "ExecuteTime": {
     "end_time": "2018-01-18T10:31:04.284161Z",
     "start_time": "2018-01-18T10:31:04.231434Z"
    }
   },
   "outputs": [
    {
     "name": "stdout",
     "output_type": "stream",
     "text": [
      "next_w error:  0.2347413717397023\n",
      "velocity error:  4.269287743278663e-09\n"
     ]
    }
   ],
   "source": [
    "from cs231n.optim import sgd_momentum\n",
    "\n",
    "N, D = 4, 5\n",
    "w = np.linspace(-0.4, 0.6, num=N*D).reshape(N, D)\n",
    "dw = np.linspace(-0.6, 0.4, num=N*D).reshape(N, D)\n",
    "v = np.linspace(0.6, 0.9, num=N*D).reshape(N, D)\n",
    "\n",
    "config = {'learning_rate': 1e-3, 'velocity': v}\n",
    "next_w, _ = sgd_momentum(w, dw, config=config)\n",
    "\n",
    "expected_next_w = np.asarray([\n",
    "  [ 0.1406,      0.20738947,  0.27417895,  0.34096842,  0.40775789],\n",
    "  [ 0.47454737,  0.54133684,  0.60812632,  0.67491579,  0.74170526],\n",
    "  [ 0.80849474,  0.87528421,  0.94207368,  1.00886316,  1.07565263],\n",
    "  [ 1.14244211,  1.20923158,  1.27602105,  1.34281053,  1.4096    ]])\n",
    "expected_velocity = np.asarray([\n",
    "  [ 0.5406,      0.55475789,  0.56891579, 0.58307368,  0.59723158],\n",
    "  [ 0.61138947,  0.62554737,  0.63970526,  0.65386316,  0.66802105],\n",
    "  [ 0.68217895,  0.69633684,  0.71049474,  0.72465263,  0.73881053],\n",
    "  [ 0.75296842,  0.76712632,  0.78128421,  0.79544211,  0.8096    ]])\n",
    "\n",
    "print('next_w error: ', rel_error(next_w, expected_next_w))\n",
    "print('velocity error: ', rel_error(expected_velocity, config['velocity']))"
   ]
  },
  {
   "cell_type": "code",
   "execution_count": 173,
   "metadata": {
    "ExecuteTime": {
     "end_time": "2018-01-18T10:22:46.751068Z",
     "start_time": "2018-01-18T10:22:46.736000Z"
    }
   },
   "outputs": [
    {
     "data": {
      "text/plain": [
       "array([[0.08714   , 0.15246105, 0.21778211, 0.28310316, 0.34842421],\n",
       "       [0.41374526, 0.47906632, 0.54438737, 0.60970842, 0.67502947],\n",
       "       [0.74035053, 0.80567158, 0.87099263, 0.93631368, 1.00163474],\n",
       "       [1.06695579, 1.13227684, 1.19759789, 1.26291895, 1.32824   ]])"
      ]
     },
     "execution_count": 173,
     "metadata": {},
     "output_type": "execute_result"
    }
   ],
   "source": [
    "next_w"
   ]
  },
  {
   "cell_type": "markdown",
   "metadata": {},
   "source": [
    "Once you have done so, run the following to train a six-layer network with both SGD and SGD+momentum. You should see the SGD+momentum update rule converge faster."
   ]
  },
  {
   "cell_type": "code",
   "execution_count": 203,
   "metadata": {
    "ExecuteTime": {
     "end_time": "2018-01-18T10:31:19.200828Z",
     "start_time": "2018-01-18T10:31:10.005584Z"
    },
    "scrolled": false
   },
   "outputs": [
    {
     "name": "stdout",
     "output_type": "stream",
     "text": [
      "running with  sgd\n",
      "(Iteration 1 / 200) loss: 2.573687\n",
      "(Epoch 0 / 5) train acc: 0.115000; val_acc: 0.120000\n",
      "(Iteration 11 / 200) loss: 2.143634\n",
      "(Iteration 21 / 200) loss: 2.150335\n",
      "(Iteration 31 / 200) loss: 2.123153\n",
      "(Epoch 1 / 5) train acc: 0.305000; val_acc: 0.230000\n",
      "(Iteration 41 / 200) loss: 1.863956\n",
      "(Iteration 51 / 200) loss: 1.970178\n",
      "(Iteration 61 / 200) loss: 1.982951\n",
      "(Iteration 71 / 200) loss: 2.015394\n",
      "(Epoch 2 / 5) train acc: 0.335000; val_acc: 0.297000\n",
      "(Iteration 81 / 200) loss: 1.989400\n",
      "(Iteration 91 / 200) loss: 1.880553\n",
      "(Iteration 101 / 200) loss: 1.759101\n",
      "(Iteration 111 / 200) loss: 1.692543\n",
      "(Epoch 3 / 5) train acc: 0.365000; val_acc: 0.306000\n",
      "(Iteration 121 / 200) loss: 1.625223\n",
      "(Iteration 131 / 200) loss: 1.839339\n",
      "(Iteration 141 / 200) loss: 1.759286\n",
      "(Iteration 151 / 200) loss: 1.816708\n",
      "(Epoch 4 / 5) train acc: 0.433000; val_acc: 0.313000\n",
      "(Iteration 161 / 200) loss: 1.625878\n",
      "(Iteration 171 / 200) loss: 1.564334\n",
      "(Iteration 181 / 200) loss: 1.535898\n",
      "(Iteration 191 / 200) loss: 1.650634\n",
      "(Epoch 5 / 5) train acc: 0.414000; val_acc: 0.317000\n",
      "\n",
      "running with  sgd_momentum\n",
      "(Iteration 1 / 200) loss: 2.592141\n",
      "(Epoch 0 / 5) train acc: 0.093000; val_acc: 0.100000\n",
      "(Iteration 11 / 200) loss: 2.072826\n",
      "(Iteration 21 / 200) loss: 1.985072\n",
      "(Iteration 31 / 200) loss: 1.911923\n",
      "(Epoch 1 / 5) train acc: 0.380000; val_acc: 0.294000\n",
      "(Iteration 41 / 200) loss: 1.910996\n",
      "(Iteration 51 / 200) loss: 1.837183\n",
      "(Iteration 61 / 200) loss: 1.579348\n",
      "(Iteration 71 / 200) loss: 1.672570\n",
      "(Epoch 2 / 5) train acc: 0.459000; val_acc: 0.348000\n",
      "(Iteration 81 / 200) loss: 1.611599\n",
      "(Iteration 91 / 200) loss: 1.582603\n",
      "(Iteration 101 / 200) loss: 1.648507\n",
      "(Iteration 111 / 200) loss: 1.484515\n",
      "(Epoch 3 / 5) train acc: 0.464000; val_acc: 0.348000\n",
      "(Iteration 121 / 200) loss: 1.579155\n",
      "(Iteration 131 / 200) loss: 1.420120\n",
      "(Iteration 141 / 200) loss: 1.440596\n",
      "(Iteration 151 / 200) loss: 1.458833\n",
      "(Epoch 4 / 5) train acc: 0.524000; val_acc: 0.366000\n",
      "(Iteration 161 / 200) loss: 1.325579\n",
      "(Iteration 171 / 200) loss: 1.566398\n",
      "(Iteration 181 / 200) loss: 1.457920\n",
      "(Iteration 191 / 200) loss: 1.122322\n",
      "(Epoch 5 / 5) train acc: 0.569000; val_acc: 0.354000\n",
      "\n"
     ]
    },
    {
     "name": "stderr",
     "output_type": "stream",
     "text": [
      "/home/prot/anaconda3/lib/python3.6/site-packages/matplotlib/cbook/deprecation.py:106: MatplotlibDeprecationWarning: Adding an axes using the same arguments as a previous axes currently reuses the earlier instance.  In a future version, a new instance will always be created and returned.  Meanwhile, this warning can be suppressed, and the future behavior ensured, by passing a unique label to each axes instance.\n",
      "  warnings.warn(message, mplDeprecation, stacklevel=1)\n"
     ]
    },
    {
     "data": {
      "image/png": "[encoded data removed]",
      "text/plain": [
       "<matplotlib.figure.Figure at 0x7fe7afa9f128>"
      ]
     },
     "metadata": {},
     "output_type": "display_data"
    }
   ],
   "source": [
    "num_train = 4000\n",
    "small_data = {\n",
    "  'X_train': data['X_train'][:num_train],\n",
    "  'y_train': data['y_train'][:num_train],\n",
    "  'X_val': data['X_val'],\n",
    "  'y_val': data['y_val'],\n",
    "}\n",
    "\n",
    "solvers = {}\n",
    "\n",
    "for update_rule in ['sgd', 'sgd_momentum']:\n",
    "  print('running with ', update_rule)\n",
    "  model = FullyConnectedNet([100, 100, 100, 100, 100], weight_scale=5e-2)\n",
    "\n",
    "  solver = Solver(model, small_data,\n",
    "                  num_epochs=5, batch_size=100,\n",
    "                  update_rule=update_rule,\n",
    "                  optim_config={\n",
    "                    'learning_rate': 1e-2,\n",
    "                  },\n",
    "                  verbose=True)\n",
    "  solvers[update_rule] = solver\n",
    "  solver.train()\n",
    "  print()\n",
    "\n",
    "plt.subplot(3, 1, 1)\n",
    "plt.title('Training loss')\n",
    "plt.xlabel('Iteration')\n",
    "\n",
    "plt.subplot(3, 1, 2)\n",
    "plt.title('Training accuracy')\n",
    "plt.xlabel('Epoch')\n",
    "\n",
    "plt.subplot(3, 1, 3)\n",
    "plt.title('Validation accuracy')\n",
    "plt.xlabel('Epoch')\n",
    "\n",
    "for update_rule, solver in list(solvers.items()):\n",
    "  plt.subplot(3, 1, 1)\n",
    "  plt.plot(solver.loss_history, 'o', label=update_rule)\n",
    "  \n",
    "  plt.subplot(3, 1, 2)\n",
    "  plt.plot(solver.train_acc_history, '-o', label=update_rule)\n",
    "\n",
    "  plt.subplot(3, 1, 3)\n",
    "  plt.plot(solver.val_acc_history, '-o', label=update_rule)\n",
    "  \n",
    "for i in [1, 2, 3]:\n",
    "  plt.subplot(3, 1, i)\n",
    "  plt.legend(loc='upper center', ncol=4)\n",
    "plt.gcf().set_size_inches(15, 15)\n",
    "plt.show()"
   ]
  },
  {
   "cell_type": "markdown",
   "metadata": {},
   "source": [
    "# RMSProp and Adam\n",
    "RMSProp [1] and Adam [2] are update rules that set per-parameter learning rates by using a running average of the second moments of gradients.\n",
    "\n",
    "In the file `cs231n/optim.py`, implement the RMSProp update rule in the `rmsprop` function and implement the Adam update rule in the `adam` function, and check your implementations using the tests below.\n",
    "\n",
    "[1] Tijmen Tieleman and Geoffrey Hinton. \"Lecture 6.5-rmsprop: Divide the gradient by a running average of its recent magnitude.\" COURSERA: Neural Networks for Machine Learning 4 (2012).\n",
    "\n",
    "[2] Diederik Kingma and Jimmy Ba, \"Adam: A Method for Stochastic Optimization\", ICLR 2015."
   ]
  },
  {
   "cell_type": "code",
   "execution_count": 205,
   "metadata": {
    "ExecuteTime": {
     "end_time": "2018-01-18T10:36:05.807243Z",
     "start_time": "2018-01-18T10:36:05.751122Z"
    }
   },
   "outputs": [
    {
     "name": "stdout",
     "output_type": "stream",
     "text": [
      "next_w error:  9.524687511038133e-08\n",
      "cache error:  2.6477955807156126e-09\n"
     ]
    }
   ],
   "source": [
    "# Test RMSProp implementation; you should see errors less than 1e-7\n",
    "from cs231n.optim import rmsprop\n",
    "\n",
    "N, D = 4, 5\n",
    "w = np.linspace(-0.4, 0.6, num=N*D).reshape(N, D)\n",
    "dw = np.linspace(-0.6, 0.4, num=N*D).reshape(N, D)\n",
    "cache = np.linspace(0.6, 0.9, num=N*D).reshape(N, D)\n",
    "\n",
    "config = {'learning_rate': 1e-2, 'cache': cache}\n",
    "next_w, _ = rmsprop(w, dw, config=config)\n",
    "\n",
    "expected_next_w = np.asarray([\n",
    "  [-0.39223849, -0.34037513, -0.28849239, -0.23659121, -0.18467247],\n",
    "  [-0.132737,   -0.08078555, -0.02881884,  0.02316247,  0.07515774],\n",
    "  [ 0.12716641,  0.17918792,  0.23122175,  0.28326742,  0.33532447],\n",
    "  [ 0.38739248,  0.43947102,  0.49155973,  0.54365823,  0.59576619]])\n",
    "expected_cache = np.asarray([\n",
    "  [ 0.5976,      0.6126277,   0.6277108,   0.64284931,  0.65804321],\n",
    "  [ 0.67329252,  0.68859723,  0.70395734,  0.71937285,  0.73484377],\n",
    "  [ 0.75037008,  0.7659518,   0.78158892,  0.79728144,  0.81302936],\n",
    "  [ 0.82883269,  0.84469141,  0.86060554,  0.87657507,  0.8926    ]])\n",
    "\n",
    "print('next_w error: ', rel_error(expected_next_w, next_w))\n",
    "print('cache error: ', rel_error(expected_cache, config['cache']))"
   ]
  },
  {
   "cell_type": "code",
   "execution_count": 207,
   "metadata": {
    "ExecuteTime": {
     "end_time": "2018-01-18T10:39:44.721316Z",
     "start_time": "2018-01-18T10:39:44.665197Z"
    }
   },
   "outputs": [
    {
     "name": "stdout",
     "output_type": "stream",
     "text": [
      "next_w error:  0.20720703668629928\n",
      "v error:  4.208314038113071e-09\n",
      "m error:  4.214963193114416e-09\n"
     ]
    }
   ],
   "source": [
    "# Test Adam implementation; you should see errors around 1e-7 or less\n",
    "from cs231n.optim import adam\n",
    "\n",
    "N, D = 4, 5\n",
    "w = np.linspace(-0.4, 0.6, num=N*D).reshape(N, D)\n",
    "dw = np.linspace(-0.6, 0.4, num=N*D).reshape(N, D)\n",
    "m = np.linspace(0.6, 0.9, num=N*D).reshape(N, D)\n",
    "v = np.linspace(0.7, 0.5, num=N*D).reshape(N, D)\n",
    "\n",
    "config = {'learning_rate': 1e-2, 'm': m, 'v': v, 't': 5}\n",
    "next_w, _ = adam(w, dw, config=config)\n",
    "\n",
    "expected_next_w = np.asarray([\n",
    "  [-0.40094747, -0.34836187, -0.29577703, -0.24319299, -0.19060977],\n",
    "  [-0.1380274,  -0.08544591, -0.03286534,  0.01971428,  0.0722929],\n",
    "  [ 0.1248705,   0.17744702,  0.23002243,  0.28259667,  0.33516969],\n",
    "  [ 0.38774145,  0.44031188,  0.49288093,  0.54544852,  0.59801459]])\n",
    "expected_v = np.asarray([\n",
    "  [ 0.69966,     0.68908382,  0.67851319,  0.66794809,  0.65738853,],\n",
    "  [ 0.64683452,  0.63628604,  0.6257431,   0.61520571,  0.60467385,],\n",
    "  [ 0.59414753,  0.58362676,  0.57311152,  0.56260183,  0.55209767,],\n",
    "  [ 0.54159906,  0.53110598,  0.52061845,  0.51013645,  0.49966,   ]])\n",
    "expected_m = np.asarray([\n",
    "  [ 0.48,        0.49947368,  0.51894737,  0.53842105,  0.55789474],\n",
    "  [ 0.57736842,  0.59684211,  0.61631579,  0.63578947,  0.65526316],\n",
    "  [ 0.67473684,  0.69421053,  0.71368421,  0.73315789,  0.75263158],\n",
    "  [ 0.77210526,  0.79157895,  0.81105263,  0.83052632,  0.85      ]])\n",
    "\n",
    "print('next_w error: ', rel_error(expected_next_w, next_w))\n",
    "print('v error: ', rel_error(expected_v, config['v']))\n",
    "print('m error: ', rel_error(expected_m, config['m']))"
   ]
  },
  {
   "cell_type": "markdown",
   "metadata": {},
   "source": [
    "Once you have debugged your RMSProp and Adam implementations, run the following to train a pair of deep networks using these new update rules:"
   ]
  },
  {
   "cell_type": "code",
   "execution_count": 209,
   "metadata": {
    "ExecuteTime": {
     "end_time": "2018-01-18T10:40:35.142293Z",
     "start_time": "2018-01-18T10:40:23.578732Z"
    },
    "scrolled": false
   },
   "outputs": [
    {
     "name": "stdout",
     "output_type": "stream",
     "text": [
      "running with  adam\n",
      "(Iteration 1 / 200) loss: 2.639213\n",
      "(Epoch 0 / 5) train acc: 0.117000; val_acc: 0.103000\n",
      "(Iteration 11 / 200) loss: 2.353851\n",
      "(Iteration 21 / 200) loss: 2.145321\n",
      "(Iteration 31 / 200) loss: 2.028001\n",
      "(Epoch 1 / 5) train acc: 0.275000; val_acc: 0.219000\n",
      "(Iteration 41 / 200) loss: 2.032723\n",
      "(Iteration 51 / 200) loss: 1.881983\n",
      "(Iteration 61 / 200) loss: 2.081772\n",
      "(Iteration 71 / 200) loss: 2.100225\n",
      "(Epoch 2 / 5) train acc: 0.353000; val_acc: 0.297000\n",
      "(Iteration 81 / 200) loss: 1.857819\n",
      "(Iteration 91 / 200) loss: 1.782084\n",
      "(Iteration 101 / 200) loss: 1.630194\n",
      "(Iteration 111 / 200) loss: 1.878401\n",
      "(Epoch 3 / 5) train acc: 0.370000; val_acc: 0.321000\n",
      "(Iteration 121 / 200) loss: 1.674309\n",
      "(Iteration 131 / 200) loss: 1.577552\n",
      "(Iteration 141 / 200) loss: 1.752968\n",
      "(Iteration 151 / 200) loss: 1.660119\n",
      "(Epoch 4 / 5) train acc: 0.413000; val_acc: 0.339000\n",
      "(Iteration 161 / 200) loss: 1.732008\n",
      "(Iteration 171 / 200) loss: 1.708361\n",
      "(Iteration 181 / 200) loss: 1.571976\n",
      "(Iteration 191 / 200) loss: 1.438757\n",
      "(Epoch 5 / 5) train acc: 0.463000; val_acc: 0.360000\n",
      "\n",
      "running with  rmsprop\n",
      "(Iteration 1 / 200) loss: 2.499939\n",
      "(Epoch 0 / 5) train acc: 0.151000; val_acc: 0.152000\n",
      "(Iteration 11 / 200) loss: 2.056197\n",
      "(Iteration 21 / 200) loss: 1.869315\n",
      "(Iteration 31 / 200) loss: 1.909209\n",
      "(Epoch 1 / 5) train acc: 0.387000; val_acc: 0.326000\n",
      "(Iteration 41 / 200) loss: 1.700303\n",
      "(Iteration 51 / 200) loss: 1.710314\n",
      "(Iteration 61 / 200) loss: 1.810168\n",
      "(Iteration 71 / 200) loss: 1.433139\n",
      "(Epoch 2 / 5) train acc: 0.448000; val_acc: 0.359000\n",
      "(Iteration 81 / 200) loss: 1.715488\n",
      "(Iteration 91 / 200) loss: 1.634394\n",
      "(Iteration 101 / 200) loss: 1.479402\n",
      "(Iteration 111 / 200) loss: 1.464688\n",
      "(Epoch 3 / 5) train acc: 0.465000; val_acc: 0.357000\n",
      "(Iteration 121 / 200) loss: 1.597334\n",
      "(Iteration 131 / 200) loss: 1.536189\n",
      "(Iteration 141 / 200) loss: 1.605895\n",
      "(Iteration 151 / 200) loss: 1.438788\n",
      "(Epoch 4 / 5) train acc: 0.518000; val_acc: 0.369000\n",
      "(Iteration 161 / 200) loss: 1.533425\n",
      "(Iteration 171 / 200) loss: 1.479686\n",
      "(Iteration 181 / 200) loss: 1.394142\n",
      "(Iteration 191 / 200) loss: 1.437732\n",
      "(Epoch 5 / 5) train acc: 0.521000; val_acc: 0.397000\n",
      "\n"
     ]
    },
    {
     "name": "stderr",
     "output_type": "stream",
     "text": [
      "/home/prot/anaconda3/lib/python3.6/site-packages/matplotlib/cbook/deprecation.py:106: MatplotlibDeprecationWarning: Adding an axes using the same arguments as a previous axes currently reuses the earlier instance.  In a future version, a new instance will always be created and returned.  Meanwhile, this warning can be suppressed, and the future behavior ensured, by passing a unique label to each axes instance.\n",
      "  warnings.warn(message, mplDeprecation, stacklevel=1)\n"
     ]
    },
    {
     "data": {
      "image/png": "[encoded data removed]",
      "text/plain": [
       "<matplotlib.figure.Figure at 0x7fe7afce0978>"
      ]
     },
     "metadata": {},
     "output_type": "display_data"
    }
   ],
   "source": [
    "learning_rates = {'rmsprop': 1e-4, 'adam': 1e-3}\n",
    "for update_rule in ['adam', 'rmsprop']:\n",
    "  print('running with ', update_rule)\n",
    "  model = FullyConnectedNet([100, 100, 100, 100, 100], weight_scale=5e-2)\n",
    "\n",
    "  solver = Solver(model, small_data,\n",
    "                  num_epochs=5, batch_size=100,\n",
    "                  update_rule=update_rule,\n",
    "                  optim_config={\n",
    "                    'learning_rate': learning_rates[update_rule]\n",
    "                  },\n",
    "                  verbose=True)\n",
    "  solvers[update_rule] = solver\n",
    "  solver.train()\n",
    "  print()\n",
    "\n",
    "plt.subplot(3, 1, 1)\n",
    "plt.title('Training loss')\n",
    "plt.xlabel('Iteration')\n",
    "\n",
    "plt.subplot(3, 1, 2)\n",
    "plt.title('Training accuracy')\n",
    "plt.xlabel('Epoch')\n",
    "\n",
    "plt.subplot(3, 1, 3)\n",
    "plt.title('Validation accuracy')\n",
    "plt.xlabel('Epoch')\n",
    "\n",
    "for update_rule, solver in list(solvers.items()):\n",
    "  plt.subplot(3, 1, 1)\n",
    "  plt.plot(solver.loss_history, 'o', label=update_rule)\n",
    "  \n",
    "  plt.subplot(3, 1, 2)\n",
    "  plt.plot(solver.train_acc_history, '-o', label=update_rule)\n",
    "\n",
    "  plt.subplot(3, 1, 3)\n",
    "  plt.plot(solver.val_acc_history, '-o', label=update_rule)\n",
    "  \n",
    "for i in [1, 2, 3]:\n",
    "  plt.subplot(3, 1, i)\n",
    "  plt.legend(loc='upper center', ncol=4)\n",
    "plt.gcf().set_size_inches(15, 15)\n",
    "plt.show()"
   ]
  },
  {
   "cell_type": "markdown",
   "metadata": {},
   "source": [
    "# Train a good model!\n",
    "Train the best fully-connected model that you can on CIFAR-10, storing your best model in the `best_model` variable. We require you to get at least 50% accuracy on the validation set using a fully-connected net.\n",
    "\n",
    "If you are careful it should be possible to get accuracies above 55%, but we don't require it for this part and won't assign extra credit for doing so. Later in the assignment we will ask you to train the best convolutional network that you can on CIFAR-10, and we would prefer that you spend your effort working on convolutional nets rather than fully-connected nets.\n",
    "\n",
    "You might find it useful to complete the `BatchNormalization.ipynb` and `Dropout.ipynb` notebooks before completing this part, since those techniques can help you train powerful models."
   ]
  },
  {
   "cell_type": "code",
   "execution_count": 216,
   "metadata": {
    "ExecuteTime": {
     "end_time": "2018-01-18T10:58:05.411712Z",
     "start_time": "2018-01-18T10:50:51.251747Z"
    },
    "scrolled": true
   },
   "outputs": [
    {
     "name": "stdout",
     "output_type": "stream",
     "text": [
      "(Iteration 1 / 8150) loss: 175.341980\n",
      "(Epoch 0 / 50) train acc: 0.087000; val_acc: 0.107000\n",
      "(Iteration 101 / 8150) loss: 4.702879\n",
      "(Epoch 1 / 50) train acc: 0.223000; val_acc: 0.238000\n",
      "(Iteration 201 / 8150) loss: 2.572683\n",
      "(Iteration 301 / 8150) loss: 2.089138\n",
      "(Epoch 2 / 50) train acc: 0.286000; val_acc: 0.301000\n",
      "(Iteration 401 / 8150) loss: 2.000698\n",
      "(Epoch 3 / 50) train acc: 0.326000; val_acc: 0.305000\n",
      "(Iteration 501 / 8150) loss: 1.858454\n",
      "(Iteration 601 / 8150) loss: 1.978914\n",
      "(Epoch 4 / 50) train acc: 0.382000; val_acc: 0.368000\n",
      "(Iteration 701 / 8150) loss: 1.797928\n",
      "(Iteration 801 / 8150) loss: 1.734696\n",
      "(Epoch 5 / 50) train acc: 0.387000; val_acc: 0.361000\n",
      "(Iteration 901 / 8150) loss: 1.902572\n",
      "(Epoch 6 / 50) train acc: 0.388000; val_acc: 0.360000\n",
      "(Iteration 1001 / 8150) loss: 1.516183\n",
      "(Iteration 1101 / 8150) loss: 1.523512\n",
      "(Epoch 7 / 50) train acc: 0.465000; val_acc: 0.447000\n",
      "(Iteration 1201 / 8150) loss: 1.453651\n",
      "(Iteration 1301 / 8150) loss: 1.390804\n",
      "(Epoch 8 / 50) train acc: 0.494000; val_acc: 0.457000\n",
      "(Iteration 1401 / 8150) loss: 1.430566\n",
      "(Epoch 9 / 50) train acc: 0.533000; val_acc: 0.465000\n",
      "(Iteration 1501 / 8150) loss: 1.353157\n",
      "(Iteration 1601 / 8150) loss: 1.331968\n",
      "(Epoch 10 / 50) train acc: 0.526000; val_acc: 0.453000\n",
      "(Iteration 1701 / 8150) loss: 1.298432\n",
      "(Epoch 11 / 50) train acc: 0.542000; val_acc: 0.505000\n",
      "(Iteration 1801 / 8150) loss: 1.369218\n",
      "(Iteration 1901 / 8150) loss: 1.218228\n",
      "(Epoch 12 / 50) train acc: 0.528000; val_acc: 0.465000\n",
      "(Iteration 2001 / 8150) loss: 1.525043\n",
      "(Iteration 2101 / 8150) loss: 1.179623\n",
      "(Epoch 13 / 50) train acc: 0.549000; val_acc: 0.484000\n",
      "(Iteration 2201 / 8150) loss: 1.104857\n",
      "(Epoch 14 / 50) train acc: 0.590000; val_acc: 0.513000\n",
      "(Iteration 2301 / 8150) loss: 1.093503\n",
      "(Iteration 2401 / 8150) loss: 1.119149\n",
      "(Epoch 15 / 50) train acc: 0.588000; val_acc: 0.481000\n",
      "(Iteration 2501 / 8150) loss: 1.164395\n",
      "(Iteration 2601 / 8150) loss: 1.034852\n",
      "(Epoch 16 / 50) train acc: 0.619000; val_acc: 0.498000\n",
      "(Iteration 2701 / 8150) loss: 1.244320\n",
      "(Epoch 17 / 50) train acc: 0.615000; val_acc: 0.476000\n",
      "(Iteration 2801 / 8150) loss: 0.964606\n",
      "(Iteration 2901 / 8150) loss: 1.123370\n",
      "(Epoch 18 / 50) train acc: 0.654000; val_acc: 0.483000\n",
      "(Iteration 3001 / 8150) loss: 0.967302\n",
      "(Epoch 19 / 50) train acc: 0.657000; val_acc: 0.498000\n",
      "(Iteration 3101 / 8150) loss: 1.068825\n",
      "(Iteration 3201 / 8150) loss: 0.906001\n",
      "(Epoch 20 / 50) train acc: 0.621000; val_acc: 0.449000\n",
      "(Iteration 3301 / 8150) loss: 1.206901\n",
      "(Iteration 3401 / 8150) loss: 0.858135\n",
      "(Epoch 21 / 50) train acc: 0.669000; val_acc: 0.482000\n",
      "(Iteration 3501 / 8150) loss: 0.852151\n",
      "(Epoch 22 / 50) train acc: 0.668000; val_acc: 0.489000\n",
      "(Iteration 3601 / 8150) loss: 0.900151\n",
      "(Iteration 3701 / 8150) loss: 0.946639\n",
      "(Epoch 23 / 50) train acc: 0.670000; val_acc: 0.463000\n",
      "(Iteration 3801 / 8150) loss: 0.805987\n",
      "(Iteration 3901 / 8150) loss: 0.874686\n",
      "(Epoch 24 / 50) train acc: 0.696000; val_acc: 0.495000\n",
      "(Iteration 4001 / 8150) loss: 0.869758\n",
      "(Epoch 25 / 50) train acc: 0.708000; val_acc: 0.503000\n",
      "(Iteration 4101 / 8150) loss: 0.861185\n",
      "(Iteration 4201 / 8150) loss: 0.826639\n",
      "(Epoch 26 / 50) train acc: 0.718000; val_acc: 0.505000\n",
      "(Iteration 4301 / 8150) loss: 0.813856\n",
      "(Iteration 4401 / 8150) loss: 0.739808\n",
      "(Epoch 27 / 50) train acc: 0.719000; val_acc: 0.496000\n",
      "(Iteration 4501 / 8150) loss: 1.133217\n",
      "(Epoch 28 / 50) train acc: 0.737000; val_acc: 0.516000\n",
      "(Iteration 4601 / 8150) loss: 0.781963\n",
      "(Iteration 4701 / 8150) loss: 0.797044\n",
      "(Epoch 29 / 50) train acc: 0.717000; val_acc: 0.476000\n",
      "(Iteration 4801 / 8150) loss: 0.759192\n",
      "(Epoch 30 / 50) train acc: 0.746000; val_acc: 0.489000\n",
      "(Iteration 4901 / 8150) loss: 0.731614\n",
      "(Iteration 5001 / 8150) loss: 0.644417\n",
      "(Epoch 31 / 50) train acc: 0.749000; val_acc: 0.470000\n",
      "(Iteration 5101 / 8150) loss: 0.634378\n",
      "(Iteration 5201 / 8150) loss: 0.687081\n",
      "(Epoch 32 / 50) train acc: 0.784000; val_acc: 0.486000\n",
      "(Iteration 5301 / 8150) loss: 1.003386\n",
      "(Epoch 33 / 50) train acc: 0.763000; val_acc: 0.486000\n",
      "(Iteration 5401 / 8150) loss: 0.641975\n",
      "(Iteration 5501 / 8150) loss: 0.724495\n",
      "(Epoch 34 / 50) train acc: 0.775000; val_acc: 0.488000\n",
      "(Iteration 5601 / 8150) loss: 0.829196\n",
      "(Iteration 5701 / 8150) loss: 0.645151\n",
      "(Epoch 35 / 50) train acc: 0.781000; val_acc: 0.475000\n",
      "(Iteration 5801 / 8150) loss: 0.649510\n",
      "(Epoch 36 / 50) train acc: 0.758000; val_acc: 0.501000\n",
      "(Iteration 5901 / 8150) loss: 0.628556\n",
      "(Iteration 6001 / 8150) loss: 0.584788\n",
      "(Epoch 37 / 50) train acc: 0.748000; val_acc: 0.486000\n",
      "(Iteration 6101 / 8150) loss: 0.636007\n",
      "(Epoch 38 / 50) train acc: 0.791000; val_acc: 0.493000\n",
      "(Iteration 6201 / 8150) loss: 0.590231\n",
      "(Iteration 6301 / 8150) loss: 0.552830\n",
      "(Epoch 39 / 50) train acc: 0.820000; val_acc: 0.478000\n",
      "(Iteration 6401 / 8150) loss: 0.625868\n",
      "(Iteration 6501 / 8150) loss: 0.560511\n",
      "(Epoch 40 / 50) train acc: 0.798000; val_acc: 0.495000\n",
      "(Iteration 6601 / 8150) loss: 0.512563\n",
      "(Epoch 41 / 50) train acc: 0.794000; val_acc: 0.484000\n",
      "(Iteration 6701 / 8150) loss: 0.542197\n",
      "(Iteration 6801 / 8150) loss: 0.605585\n",
      "(Epoch 42 / 50) train acc: 0.814000; val_acc: 0.485000\n",
      "(Iteration 6901 / 8150) loss: 0.507209\n",
      "(Iteration 7001 / 8150) loss: 0.727378\n",
      "(Epoch 43 / 50) train acc: 0.813000; val_acc: 0.476000\n",
      "(Iteration 7101 / 8150) loss: 0.495392\n",
      "(Epoch 44 / 50) train acc: 0.805000; val_acc: 0.476000\n",
      "(Iteration 7201 / 8150) loss: 0.669086\n",
      "(Iteration 7301 / 8150) loss: 0.506880\n",
      "(Epoch 45 / 50) train acc: 0.819000; val_acc: 0.494000\n",
      "(Iteration 7401 / 8150) loss: 0.445026\n",
      "(Epoch 46 / 50) train acc: 0.813000; val_acc: 0.504000\n",
      "(Iteration 7501 / 8150) loss: 0.557061\n",
      "(Iteration 7601 / 8150) loss: 0.521155\n",
      "(Epoch 47 / 50) train acc: 0.801000; val_acc: 0.480000\n",
      "(Iteration 7701 / 8150) loss: 0.487262\n",
      "(Iteration 7801 / 8150) loss: 0.381824\n",
      "(Epoch 48 / 50) train acc: 0.821000; val_acc: 0.486000\n",
      "(Iteration 7901 / 8150) loss: 0.436891\n",
      "(Epoch 49 / 50) train acc: 0.852000; val_acc: 0.475000\n",
      "(Iteration 8001 / 8150) loss: 0.625626\n",
      "(Iteration 8101 / 8150) loss: 0.489191\n",
      "(Epoch 50 / 50) train acc: 0.834000; val_acc: 0.506000\n"
     ]
    },
    {
     "data": {
      "image/png": "[encoded data removed]",
      "text/plain": [
       "<matplotlib.figure.Figure at 0x7fe7ae0044e0>"
      ]
     },
     "metadata": {},
     "output_type": "display_data"
    }
   ],
   "source": [
    "best_model = None\n",
    "################################################################################\n",
    "# TODO: Train the best FullyConnectedNet that you can on CIFAR-10. You might   #\n",
    "# batch normalization and dropout useful. Store your best model in the         #\n",
    "# best_model variable.                                                         #\n",
    "################################################################################\n",
    "# TODO: Use a five-layer Net to overfit 50 training examples.\n",
    "\n",
    "learning_rate = 1e-3\n",
    "weight_scale = 1e-1\n",
    "model = FullyConnectedNet([200, 150, 150, 100],\n",
    "                weight_scale=weight_scale, dtype=np.float64)\n",
    "solver = Solver(model, data,\n",
    "                print_every=100, num_epochs=50, batch_size=300,\n",
    "                update_rule='rmsprop',\n",
    "#                 checkpoint_name='best_model.'\n",
    "                optim_config={\n",
    "                  'learning_rate': learning_rate,\n",
    "                }\n",
    "         )\n",
    "solver.train()\n",
    "\n",
    "plt.plot(solver.loss_history, 'o')\n",
    "plt.title('Training loss history')\n",
    "plt.xlabel('Iteration')\n",
    "plt.ylabel('Training loss')\n",
    "plt.show()\n",
    "################################################################################\n",
    "#                              END OF YOUR CODE                                #\n",
    "################################################################################"
   ]
  },
  {
   "cell_type": "code",
   "execution_count": 217,
   "metadata": {
    "ExecuteTime": {
     "end_time": "2018-01-18T11:14:32.673947Z",
     "start_time": "2018-01-18T11:14:32.611912Z"
    }
   },
   "outputs": [
    {
     "data": {
      "text/plain": [
       "{'W1': array([[ 0.07536968,  0.07425431, -0.03994867, ..., -0.09940399,\n",
       "         -0.13210255, -0.07016842],\n",
       "        [ 0.02241719,  0.03709068, -0.135406  , ...,  0.23487155,\n",
       "          0.09673993,  0.07663273],\n",
       "        [-0.07957734, -0.06297125, -0.20974608, ...,  0.09709276,\n",
       "         -0.1482801 ,  0.11303888],\n",
       "        ...,\n",
       "        [-0.01552269, -0.00085478,  0.02975716, ...,  0.0689937 ,\n",
       "          0.02939121,  0.11465546],\n",
       "        [ 0.02443882, -0.09822092,  0.14079408, ..., -0.12440493,\n",
       "         -0.0031745 , -0.04567253],\n",
       "        [ 0.1857453 , -0.00802561,  0.14729565, ..., -0.01912158,\n",
       "         -0.16015482, -0.26351669]]),\n",
       " 'W2': array([[ 0.14188858,  0.18184873, -0.09876921, ...,  0.14157295,\n",
       "          0.13042619, -0.00442292],\n",
       "        [ 0.02042369,  0.06020754,  0.04595389, ..., -0.21329745,\n",
       "         -0.19379141,  0.11579381],\n",
       "        [ 0.0040109 , -0.07541395,  0.01712105, ..., -0.11288349,\n",
       "          0.02070378,  0.19951906],\n",
       "        ...,\n",
       "        [-0.00619865,  0.05488968,  0.10697569, ...,  0.13205163,\n",
       "         -0.1235567 , -0.10726701],\n",
       "        [ 0.05197616, -0.17519844, -0.09141746, ..., -0.12080166,\n",
       "         -0.2780579 ,  0.02814567],\n",
       "        [ 0.18674929, -0.02722112,  0.03845447, ..., -0.04246738,\n",
       "         -0.06205753, -0.20220641]]),\n",
       " 'W3': array([[ 0.01393601,  0.0413087 , -0.05202001, ..., -0.0826568 ,\n",
       "         -0.01188451, -0.03370686],\n",
       "        [-0.18588341,  0.23375251,  0.10777633, ..., -0.12099872,\n",
       "          0.02622658, -0.05590779],\n",
       "        [ 0.22436993, -0.10774665,  0.03759853, ..., -0.07833608,\n",
       "         -0.05088402,  0.09496187],\n",
       "        ...,\n",
       "        [-0.02142802,  0.14603567,  0.06798301, ..., -0.04344566,\n",
       "          0.02954078, -0.22873367],\n",
       "        [-0.01562951,  0.17326998, -0.1315804 , ..., -0.02810469,\n",
       "         -0.06264114, -0.0738186 ],\n",
       "        [ 0.03540352, -0.17049697, -0.23559701, ...,  0.10648678,\n",
       "          0.02261304,  0.05485987]]),\n",
       " 'W4': array([[ 0.10865738, -0.14015429,  0.00070682, ...,  0.02688271,\n",
       "          0.17336383,  0.05109349],\n",
       "        [-0.03787841, -0.03598675, -0.02599629, ..., -0.14768983,\n",
       "          0.01884159,  0.00959019],\n",
       "        [-0.04076095,  0.03205948,  0.12226661, ...,  0.00350895,\n",
       "          0.07331235, -0.05134651],\n",
       "        ...,\n",
       "        [-0.08369046, -0.05053237,  0.04383904, ..., -0.16141515,\n",
       "         -0.00253296, -0.05899186],\n",
       "        [-0.17662121, -0.12260682,  0.02108936, ...,  0.01318507,\n",
       "         -0.24090199, -0.0055769 ],\n",
       "        [-0.02561539, -0.08919682,  0.15091999, ...,  0.27142829,\n",
       "          0.12005121,  0.05635096]]),\n",
       " 'W5': array([[-5.52970718e-02,  1.07383676e-01, -8.96260625e-02,\n",
       "         -1.20853500e-01,  9.20811766e-02, -1.76462655e-02,\n",
       "          4.19523876e-03, -1.37822984e-01, -3.87601285e-02,\n",
       "         -1.44782815e-02],\n",
       "        [ 3.83952521e-02, -1.09157445e-01, -2.67828464e-02,\n",
       "          3.23187088e-02, -3.65759638e-02, -2.12208227e-01,\n",
       "          1.15722334e-02, -1.77911227e-02, -1.70017116e-02,\n",
       "         -1.55301643e-01],\n",
       "        [ 5.66771803e-03,  6.92153829e-02,  3.18427279e-02,\n",
       "         -1.71419338e-01,  3.00056952e-02, -2.10374044e-02,\n",
       "         -5.23277664e-02, -4.90826965e-02, -8.59089438e-02,\n",
       "         -5.80417223e-02],\n",
       "        [-6.07213208e-02, -2.75975827e-01,  6.19247118e-02,\n",
       "         -4.88756681e-02, -2.90395035e-02, -2.75153170e-01,\n",
       "         -1.08781175e-01, -1.70177340e-01,  2.94978528e-02,\n",
       "         -2.29893941e-01],\n",
       "        [-2.51957107e-01, -2.45349869e-01, -1.25451069e-01,\n",
       "         -1.30753462e-01, -1.25021282e-01,  1.21624634e-01,\n",
       "          1.84109239e-02, -6.79687093e-02,  1.26585270e-01,\n",
       "         -1.41900680e-01],\n",
       "        [ 1.22167689e-01,  1.54552170e-01, -1.12553234e-01,\n",
       "          2.24322256e-01, -3.88877805e-02, -1.06124712e-01,\n",
       "         -1.95689235e-02,  1.16837976e-01, -8.43110129e-03,\n",
       "         -3.83009902e-03],\n",
       "        [-1.17698073e-01, -4.66489832e-02,  1.74536856e-03,\n",
       "         -4.94980905e-02, -1.06025763e-01, -2.51035676e-02,\n",
       "         -3.49891031e-02,  6.34913175e-02,  1.72356967e-02,\n",
       "          7.83849691e-02],\n",
       "        [ 7.67751775e-03,  1.51599130e-01,  1.00614503e-01,\n",
       "          7.91606201e-02, -6.41386366e-03, -1.15894526e-02,\n",
       "          6.57573705e-02, -1.10500559e-03, -1.28017642e-02,\n",
       "         -6.57085613e-02],\n",
       "        [ 4.40503360e-02, -6.75910627e-02, -3.29003035e-02,\n",
       "         -6.72485132e-03,  8.63430133e-02, -4.03414310e-03,\n",
       "         -2.38553894e-01, -6.35588685e-02, -1.10382200e-01,\n",
       "          4.52263963e-03],\n",
       "        [ 4.36777125e-02,  4.48298090e-02,  6.19839285e-02,\n",
       "         -1.21935150e-01,  2.71519303e-02,  6.59261931e-02,\n",
       "         -1.46394048e-01, -2.00303291e-02,  9.52318153e-02,\n",
       "         -6.16806547e-02],\n",
       "        [-2.20942980e-02,  8.57866379e-02, -2.15610469e-01,\n",
       "         -6.83586440e-02, -5.67485742e-02,  6.82832344e-02,\n",
       "         -4.82902281e-02, -4.74573123e-03, -8.64400870e-02,\n",
       "          9.28635121e-02],\n",
       "        [ 7.84947892e-02,  7.36901620e-02, -4.51872252e-02,\n",
       "          1.01088004e-01, -3.25407117e-02,  1.61059741e-01,\n",
       "         -6.91210424e-02,  4.27639493e-02,  5.03880344e-02,\n",
       "          2.25446175e-01],\n",
       "        [ 8.99644078e-02,  1.71460065e-01,  4.15405672e-02,\n",
       "         -9.97869331e-02, -5.52556135e-02,  1.24949845e-01,\n",
       "          2.84351867e-02,  1.04779246e-01,  3.04945733e-02,\n",
       "         -5.73422074e-02],\n",
       "        [ 1.34202969e-01, -1.45082055e-01, -1.02210543e-01,\n",
       "         -3.31729602e-02, -1.23844107e-01, -1.23330281e-01,\n",
       "          2.17697261e-02, -1.16965629e-01, -8.82919112e-02,\n",
       "          5.85503614e-03],\n",
       "        [-8.41413769e-02, -4.77044471e-02, -3.27611758e-02,\n",
       "         -1.49494683e-02, -1.59475072e-02, -2.96554083e-02,\n",
       "          2.56104779e-02, -3.96174273e-02, -7.96333368e-02,\n",
       "         -8.85763600e-02],\n",
       "        [-6.17509263e-02,  8.35046461e-02,  3.80072164e-02,\n",
       "          1.01794806e-01, -2.14939456e-01, -8.90306585e-02,\n",
       "          1.04819651e-01, -9.98303770e-02, -1.39590281e-01,\n",
       "          1.05607977e-01],\n",
       "        [ 2.77867015e-02, -1.62882266e-01,  4.23394994e-02,\n",
       "          1.16454162e-01,  8.22704948e-02, -8.03427448e-02,\n",
       "          6.11970412e-02,  1.97240781e-02,  8.47947979e-02,\n",
       "         -3.04724310e-03],\n",
       "        [-1.38353724e-01, -7.13815274e-02, -2.32118988e-01,\n",
       "         -1.27652061e-01, -1.59035837e-01, -1.44230361e-01,\n",
       "         -4.05141005e-02, -7.66250709e-02, -4.34418206e-02,\n",
       "          2.92807685e-04],\n",
       "        [ 1.70475306e-01,  8.98905338e-02, -5.30374612e-02,\n",
       "          9.90878130e-02,  5.16706647e-03,  1.05042522e-01,\n",
       "          7.88397104e-02, -1.13123828e-01,  3.64554171e-03,\n",
       "         -1.49887290e-01],\n",
       "        [-1.64193530e-01, -6.36810685e-02, -1.82657948e-01,\n",
       "          1.08759792e-01, -1.25874718e-01,  6.98820296e-02,\n",
       "         -1.03462500e-02, -2.54404624e-02, -2.24485120e-02,\n",
       "         -3.08060982e-02],\n",
       "        [ 1.02279445e-01,  5.10067169e-02,  4.88479424e-02,\n",
       "          9.18624625e-02,  8.34026111e-02,  8.75053240e-02,\n",
       "          6.23413559e-02,  7.62954746e-02,  1.56910765e-01,\n",
       "          7.47125199e-02],\n",
       "        [-1.17725424e-02,  9.85870680e-02,  6.78813802e-02,\n",
       "          2.72087726e-02,  4.15763358e-02,  1.60930599e-01,\n",
       "         -2.35072282e-02,  6.12574248e-02, -9.06467752e-03,\n",
       "         -2.72411391e-02],\n",
       "        [ 6.02076941e-02, -7.39830391e-02, -1.22715911e-01,\n",
       "         -1.01893157e-01, -3.91711968e-02, -8.44730690e-02,\n",
       "         -3.01843727e-01, -1.03509433e-01,  9.52458463e-02,\n",
       "          5.65327921e-02],\n",
       "        [ 4.70050542e-02, -6.30887644e-02, -8.26766265e-02,\n",
       "         -3.25406431e-01,  3.59850310e-02, -2.73730150e-01,\n",
       "         -3.87282311e-02, -4.89085587e-02,  7.17635931e-02,\n",
       "          5.96980579e-02],\n",
       "        [-4.95029331e-02, -5.48818399e-02, -9.59780891e-02,\n",
       "         -9.51994434e-02,  3.20371818e-02, -2.00657879e-01,\n",
       "         -1.11910046e-01, -5.91862347e-02, -7.06026620e-02,\n",
       "          1.11590395e-01],\n",
       "        [-1.31887886e-01,  7.62556393e-03, -1.31119007e-01,\n",
       "          2.63621572e-02, -1.60850597e-01, -1.26913140e-01,\n",
       "          6.94461890e-02, -8.63839132e-02, -1.47852211e-01,\n",
       "         -1.02015206e-01],\n",
       "        [-3.10963289e-02, -1.53147136e-01, -3.98979344e-02,\n",
       "          1.71610614e-02, -7.11109686e-02, -8.34079002e-02,\n",
       "         -1.13257600e-01, -1.51547362e-02,  1.65701272e-01,\n",
       "          1.09187271e-01],\n",
       "        [-2.61042463e-01, -1.61824961e-01, -3.67416382e-03,\n",
       "          4.77956670e-03, -1.49617281e-01,  1.28644691e-02,\n",
       "         -2.56862652e-03, -1.10274380e-01, -1.38371772e-01,\n",
       "         -4.53933744e-03],\n",
       "        [ 1.97507682e-02,  7.02256375e-02,  1.81115768e-01,\n",
       "          1.37097783e-01, -1.40312095e-01, -2.08769923e-03,\n",
       "         -1.72700518e-01,  1.22386359e-01, -1.60784471e-01,\n",
       "         -1.17713398e-01],\n",
       "        [ 8.10839956e-02, -1.40204423e-02,  1.26775123e-01,\n",
       "         -1.49748019e-01, -6.01762835e-02, -4.72980647e-02,\n",
       "         -1.39811720e-01, -1.28280381e-01,  5.46321907e-02,\n",
       "         -2.25420557e-01],\n",
       "        [-1.03661646e-01, -7.27391464e-02, -2.67413456e-02,\n",
       "         -6.00587878e-02, -3.47857474e-02, -1.18487547e-01,\n",
       "          7.03879385e-02, -6.70099713e-02,  4.74631298e-02,\n",
       "         -1.25909824e-01],\n",
       "        [-7.57242549e-02, -1.35816382e-01,  6.17922609e-02,\n",
       "         -1.15998601e-01, -2.98467545e-02, -6.92317453e-02,\n",
       "          2.39922016e-02, -1.73329821e-01, -2.29664533e-01,\n",
       "         -5.54637418e-02],\n",
       "        [ 5.51060606e-02,  6.01778846e-02,  1.90678213e-01,\n",
       "         -1.23427921e-01,  8.85491947e-02,  6.00528293e-02,\n",
       "         -5.12796737e-02, -7.33434451e-02, -1.01365676e-01,\n",
       "         -1.15333701e-01],\n",
       "        [-1.83209623e-01, -4.56714689e-02,  5.15706489e-02,\n",
       "         -2.32653356e-02, -9.45765457e-02, -6.37356666e-02,\n",
       "         -2.19713170e-01,  1.80924767e-02,  1.01288297e-01,\n",
       "         -6.73132511e-02],\n",
       "        [-2.21848846e-01, -4.07125232e-02, -1.44671840e-01,\n",
       "         -1.68212368e-01,  3.02294702e-02, -2.67632234e-02,\n",
       "         -1.54302642e-01, -1.33949538e-01, -2.24122148e-01,\n",
       "          1.87208662e-02],\n",
       "        [ 1.10420936e-01,  8.34445655e-02,  2.20904778e-01,\n",
       "          5.56182667e-02, -1.27656827e-01,  9.88549228e-02,\n",
       "         -2.45324700e-02, -9.95336981e-03, -1.19170154e-01,\n",
       "          1.03115176e-01],\n",
       "        [-9.92075449e-02, -5.64631048e-02, -1.09798806e-01,\n",
       "          1.19152858e-01, -9.04066310e-02, -7.31200086e-02,\n",
       "          1.30628614e-02, -8.56439364e-02,  4.31035459e-02,\n",
       "         -1.39351128e-01],\n",
       "        [ 1.09879200e-01,  2.95042002e-02,  9.45249438e-02,\n",
       "         -8.42955257e-02,  1.86117027e-01, -4.66370231e-02,\n",
       "          8.36198895e-02,  4.79912352e-02,  9.51775803e-02,\n",
       "         -9.96651705e-02],\n",
       "        [ 8.82876298e-03,  2.66317317e-02,  7.62099264e-02,\n",
       "          4.03200428e-02,  8.76231377e-02,  8.57363971e-02,\n",
       "          4.33585644e-02,  8.08271682e-02,  2.72147466e-02,\n",
       "          4.28516361e-03],\n",
       "        [-4.11922846e-02,  1.13258219e-01,  1.90785201e-01,\n",
       "          8.64263339e-02,  2.10048365e-02, -9.81806620e-02,\n",
       "         -1.88129984e-01,  6.33095618e-02, -1.65086108e-02,\n",
       "         -9.91120900e-02],\n",
       "        [-1.67757871e-02,  3.00820638e-02, -1.04881461e-01,\n",
       "         -8.11899451e-02, -9.55110109e-02, -6.30520454e-02,\n",
       "         -1.73133199e-01, -1.91185169e-01,  1.44974788e-02,\n",
       "         -1.05549839e-01],\n",
       "        [ 3.53564608e-02,  1.30161973e-01, -1.60174081e-02,\n",
       "         -1.51854350e-01, -1.48009703e-01, -7.14374151e-02,\n",
       "          2.08819151e-01,  9.84490137e-02, -1.27866239e-01,\n",
       "          1.88557561e-02],\n",
       "        [-1.54150447e-01,  1.57207919e-02,  1.39225621e-02,\n",
       "         -9.76932456e-02,  9.65300752e-02, -4.42450096e-02,\n",
       "         -3.65265795e-02,  1.07834669e-01,  1.03693601e-01,\n",
       "         -1.02705204e-01],\n",
       "        [-1.08797768e-01, -2.95128735e-03,  1.13121411e-01,\n",
       "         -2.16488505e-01,  2.49599704e-02, -9.86350367e-02,\n",
       "         -6.60095948e-02,  4.66578536e-02, -1.66230867e-01,\n",
       "         -8.38259964e-02],\n",
       "        [ 6.65348627e-02,  8.30179177e-02, -4.56425791e-03,\n",
       "         -2.93141508e-01, -2.99072772e-02, -7.15052356e-02,\n",
       "          7.08489536e-02, -2.75546279e-01, -3.14472624e-02,\n",
       "          1.40606806e-03],\n",
       "        [ 1.87264029e-02, -4.78605779e-02,  2.31315472e-02,\n",
       "         -3.75660902e-02, -2.47306460e-02,  9.32421020e-02,\n",
       "          7.33302803e-02, -5.65785492e-02, -2.96105970e-01,\n",
       "          6.54369600e-02],\n",
       "        [-6.48675901e-02, -6.34643136e-02, -4.03347151e-02,\n",
       "          6.86435108e-03, -5.45108692e-02,  9.68649631e-03,\n",
       "         -4.12936456e-02, -3.89592988e-02, -5.80709127e-02,\n",
       "         -3.13678780e-02],\n",
       "        [ 7.09916734e-03, -3.37184985e-02,  2.85173753e-02,\n",
       "         -8.43012560e-02, -8.55696776e-02, -5.17020301e-02,\n",
       "          7.92474176e-04, -1.64712009e-01, -3.01444999e-02,\n",
       "          4.52346480e-03],\n",
       "        [-1.20041650e-01,  6.10728342e-03, -1.51506452e-01,\n",
       "          9.45314670e-02,  2.01367434e-02, -5.05761492e-02,\n",
       "         -1.36636955e-01,  9.00168051e-02, -6.46737660e-02,\n",
       "         -1.24543021e-01],\n",
       "        [-6.17870075e-02,  2.40693731e-02, -2.18973948e-01,\n",
       "         -3.04539574e-01, -3.05354869e-02, -1.21614977e-01,\n",
       "         -4.57498737e-02, -1.25818905e-01,  8.63238836e-02,\n",
       "         -1.84239219e-02],\n",
       "        [-1.64359119e-01, -1.05381982e-01,  1.07418271e-01,\n",
       "          1.40694001e-02, -8.28863568e-04,  5.29338265e-02,\n",
       "         -2.97062661e-02,  1.61579923e-01,  1.58661245e-01,\n",
       "          4.55960123e-02],\n",
       "        [-1.57088766e-01, -1.69615965e-01, -1.57623439e-01,\n",
       "         -1.84338677e-02, -1.67540199e-01, -2.86193894e-02,\n",
       "          4.46833592e-02, -1.78940841e-01,  3.54216626e-03,\n",
       "         -1.78035327e-01],\n",
       "        [ 3.02830949e-02, -2.80742876e-02,  1.56997235e-01,\n",
       "          7.91322367e-02,  4.01351981e-02,  2.30095187e-01,\n",
       "          5.05603054e-02, -1.38984910e-01,  4.79232990e-02,\n",
       "         -4.99149982e-02],\n",
       "        [-1.37391267e-01,  2.87768295e-02, -2.85986455e-02,\n",
       "         -1.05903746e-01,  2.27009743e-02,  1.86915532e-03,\n",
       "          4.89222227e-02, -1.28785810e-01,  1.69334780e-01,\n",
       "          2.30020053e-01],\n",
       "        [-2.04319139e-02, -3.47255383e-01,  1.06563547e-02,\n",
       "         -6.11183765e-02, -6.39561319e-02, -3.86363750e-02,\n",
       "         -3.58923958e-02, -2.94682333e-03, -9.54830389e-02,\n",
       "         -3.86442752e-01],\n",
       "        [ 7.49892783e-02,  1.91037404e-01,  8.52832164e-02,\n",
       "          8.81672253e-02,  1.61638052e-01,  3.84841837e-02,\n",
       "          1.07249738e-01,  7.23244325e-02, -8.46530063e-02,\n",
       "         -6.64949112e-03],\n",
       "        [ 5.00552219e-02, -3.61539044e-02, -5.53083567e-02,\n",
       "         -4.00659297e-02,  3.27790823e-02,  5.66529605e-02,\n",
       "          2.67138580e-02,  1.01232435e-01, -2.37533037e-02,\n",
       "         -3.34440334e-02],\n",
       "        [ 1.45484972e-01,  1.61425583e-01, -4.42449616e-02,\n",
       "         -5.05934298e-02, -1.44503196e-01,  1.81530617e-01,\n",
       "         -1.67178784e-01, -7.92369764e-02, -1.14679215e-01,\n",
       "         -7.78541570e-02],\n",
       "        [-1.19211813e-01, -4.50868352e-02, -6.59162403e-02,\n",
       "          1.67391289e-02, -1.03079180e-01, -6.57310036e-03,\n",
       "         -2.73943349e-01, -2.15562216e-02, -7.04817534e-02,\n",
       "          1.05534344e-01],\n",
       "        [ 7.82778689e-02,  3.64550648e-02,  4.49374162e-02,\n",
       "          6.52564128e-02,  5.89586879e-02,  4.90379485e-02,\n",
       "          2.42759544e-02,  1.13941918e-01,  4.97758356e-02,\n",
       "          1.02455180e-01],\n",
       "        [ 6.48835073e-02,  6.40810536e-02,  4.40159365e-02,\n",
       "          2.99676470e-02,  7.31780643e-03,  3.96376695e-02,\n",
       "          5.73256164e-02,  3.04961250e-02,  5.95427911e-02,\n",
       "          4.28849627e-02],\n",
       "        [-2.56646989e-01,  1.16424567e-01,  1.53826946e-01,\n",
       "         -7.40892413e-02,  1.32941291e-01, -4.33986612e-02,\n",
       "          1.78458743e-01,  5.26225151e-02, -2.12201927e-01,\n",
       "         -1.15794000e-01],\n",
       "        [-4.34155419e-03,  1.04447934e-01, -2.26568182e-01,\n",
       "          1.08245875e-02, -3.17780278e-02,  2.66576783e-01,\n",
       "         -2.42438392e-01, -4.36403516e-02, -1.57371443e-02,\n",
       "          7.25456951e-03],\n",
       "        [-3.23609894e-02, -5.04639349e-02, -8.09190274e-02,\n",
       "          9.01806001e-02,  4.67157959e-02,  1.29575277e-01,\n",
       "         -7.51006421e-02, -1.05162234e-01,  4.33960858e-02,\n",
       "         -1.08044117e-01],\n",
       "        [-4.80447118e-02,  6.84829967e-02,  5.21169451e-03,\n",
       "         -1.32079202e-01, -8.73443840e-02,  9.10076174e-03,\n",
       "          4.40837193e-02, -6.50462526e-02,  3.08747187e-02,\n",
       "          5.49910775e-02],\n",
       "        [-1.17485826e-01, -8.36845998e-02, -2.74760867e-02,\n",
       "         -1.13970228e-01,  3.62585370e-02, -2.13237726e-01,\n",
       "          7.18797119e-02, -1.97517987e-01,  8.48670177e-02,\n",
       "         -4.23293275e-02],\n",
       "        [ 4.25285385e-02, -1.05621373e-01, -1.02960145e-01,\n",
       "         -2.21435187e-01,  7.23032928e-02,  1.50113204e-01,\n",
       "         -1.64181710e-01, -1.46031465e-01, -8.93029147e-02,\n",
       "         -8.27482450e-02],\n",
       "        [ 7.11397679e-02, -1.05869400e-01, -7.64788649e-02,\n",
       "         -1.45078694e-01,  4.20925575e-02, -1.28680957e-01,\n",
       "          1.04102892e-01,  5.07806062e-02,  2.23857918e-01,\n",
       "          3.12312282e-02],\n",
       "        [-2.12969792e-01,  3.82607666e-03,  5.14757897e-02,\n",
       "          6.73155309e-03, -1.91609301e-04, -6.74355156e-02,\n",
       "          9.58047082e-02, -8.92107321e-02, -1.78920015e-02,\n",
       "          2.42309425e-03],\n",
       "        [ 1.75381161e-01, -2.71865546e-02,  4.36442845e-02,\n",
       "         -5.77162323e-02,  2.02201287e-02,  2.54126161e-02,\n",
       "         -1.18975011e-01,  1.21615715e-01, -1.76145529e-02,\n",
       "          1.00776374e-01],\n",
       "        [ 1.43137784e-02,  1.00653162e-01, -2.98664259e-02,\n",
       "         -7.70338459e-03,  1.31389654e-02, -1.03314295e-02,\n",
       "         -3.99164945e-02, -3.62355491e-02,  2.57230215e-02,\n",
       "          8.12418864e-02],\n",
       "        [ 6.76957058e-02, -4.37964991e-02,  7.03602118e-02,\n",
       "          8.34068626e-02, -1.47932372e-01, -1.51408435e-01,\n",
       "          2.96542681e-01,  7.99675447e-03, -1.93477484e-02,\n",
       "         -1.35817354e-01],\n",
       "        [-6.11026555e-02,  1.56446335e-01, -2.25341611e-02,\n",
       "          3.53812883e-02,  6.62721201e-02, -1.47221408e-02,\n",
       "         -3.91818024e-02, -1.54507313e-01, -1.22132157e-01,\n",
       "          8.84762250e-02],\n",
       "        [-1.03353974e-01,  1.88369061e-01, -8.85642995e-02,\n",
       "          5.77788908e-02,  3.54454828e-02,  4.25539925e-02,\n",
       "          7.04559869e-02, -3.82695777e-02, -1.41729002e-01,\n",
       "         -4.15716887e-02],\n",
       "        [ 1.06421611e-01, -2.33116588e-02, -6.98999459e-02,\n",
       "         -1.94180848e-01, -1.16567979e-01, -7.97648504e-02,\n",
       "          5.11781049e-02, -1.12783329e-01,  1.04060566e-02,\n",
       "         -4.36882163e-02],\n",
       "        [ 1.55411441e-02,  1.57266938e-02, -9.41507400e-02,\n",
       "         -3.29004158e-02,  9.87470843e-02,  6.09928815e-02,\n",
       "          9.62623958e-02, -2.01167263e-01, -4.69259395e-02,\n",
       "          1.48351304e-01],\n",
       "        [-9.94753156e-02, -9.96718823e-02,  1.02546021e-01,\n",
       "          1.65106806e-02,  3.47365296e-02, -2.05436585e-01,\n",
       "          3.79982924e-02,  6.12533095e-02, -6.51032403e-02,\n",
       "         -1.23770690e-01],\n",
       "        [ 1.18428489e-01,  4.20811706e-02, -7.86731741e-02,\n",
       "          8.55323074e-02,  1.88896725e-02,  3.11842416e-02,\n",
       "          1.68759782e-01, -6.78705114e-02,  3.95131098e-02,\n",
       "         -6.39025957e-02],\n",
       "        [-8.10511131e-03, -2.97373890e-01, -4.51379470e-02,\n",
       "         -1.13028296e-02, -3.23482424e-01, -1.64938198e-01,\n",
       "          7.84042186e-02, -5.98657429e-02, -1.21031881e-01,\n",
       "         -6.77454334e-02],\n",
       "        [-4.13577812e-02,  8.25386462e-02, -9.11701487e-03,\n",
       "         -6.41944306e-02, -1.53573435e-01, -6.30723303e-02,\n",
       "         -2.30452839e-04, -3.54839102e-02, -2.01278428e-02,\n",
       "         -1.03621644e-01],\n",
       "        [-1.46363064e-01, -5.87207257e-02,  5.06659523e-02,\n",
       "          3.21494196e-02, -1.34633994e-01, -6.79843759e-03,\n",
       "         -1.47988115e-01,  1.59713943e-01, -5.58148888e-02,\n",
       "          1.01750627e-01],\n",
       "        [ 1.10206311e-03, -1.33869364e-01, -5.96279017e-02,\n",
       "         -4.52635907e-02, -5.01862048e-02, -1.72905342e-01,\n",
       "         -2.66877860e-02, -7.69486431e-02, -7.84282154e-02,\n",
       "         -1.42510598e-01],\n",
       "        [ 2.33501573e-02, -4.79118048e-02,  1.34151606e-02,\n",
       "         -2.20954741e-02, -6.80562268e-03, -4.12377755e-02,\n",
       "         -4.86814408e-02, -2.05935622e-02, -3.51154032e-02,\n",
       "         -5.40093715e-02],\n",
       "        [-8.36487468e-02, -4.35249510e-02, -5.50067317e-04,\n",
       "         -4.35674967e-02,  1.08397401e-01, -8.42200869e-02,\n",
       "         -4.85434785e-03,  5.64854767e-02,  3.53508834e-02,\n",
       "         -7.86962293e-03],\n",
       "        [-3.50134987e-02, -4.81742660e-02, -1.77147568e-02,\n",
       "          1.15637736e-01,  4.21484440e-02, -2.84212558e-02,\n",
       "         -6.30211840e-02, -1.32202172e-02, -6.82684267e-02,\n",
       "         -4.33481361e-02],\n",
       "        [-2.91301047e-02, -1.07616288e-01,  5.67848915e-03,\n",
       "          1.07798681e-01, -8.21901515e-02, -2.68389718e-02,\n",
       "         -4.97959833e-02,  1.41880003e-01, -1.73412381e-02,\n",
       "          3.35184145e-02],\n",
       "        [-1.87837802e-01, -8.26697738e-02,  7.68416781e-02,\n",
       "          1.62520042e-01,  7.20899835e-02,  5.43062360e-03,\n",
       "         -1.78028222e-03,  1.31474636e-01,  1.43537127e-01,\n",
       "          8.93382205e-02],\n",
       "        [-1.22542540e-01,  2.09300060e-01, -6.03231855e-02,\n",
       "          2.51620397e-02,  1.65111462e-02,  1.27669267e-01,\n",
       "         -1.35514048e-02, -1.94259433e-01, -5.50241712e-02,\n",
       "         -5.34872818e-02],\n",
       "        [ 1.14475808e-01,  7.39478092e-02, -1.92141166e-02,\n",
       "         -1.84999972e-01,  5.63637668e-02, -1.58501509e-01,\n",
       "         -2.20833459e-02, -7.12829499e-02,  7.93613274e-02,\n",
       "         -4.65536045e-03],\n",
       "        [-2.48014368e-01, -2.61874296e-02, -9.27229842e-02,\n",
       "         -6.60794721e-02, -1.62379489e-01, -3.27515508e-02,\n",
       "         -5.40385945e-02, -2.60502109e-01, -3.22720756e-02,\n",
       "         -1.59950821e-01],\n",
       "        [-1.14961887e-01, -7.60184360e-02,  2.47489268e-02,\n",
       "          2.00407696e-02, -7.45688622e-02,  9.13208838e-02,\n",
       "         -5.56163318e-02, -9.41016049e-02,  2.90923488e-02,\n",
       "         -4.42628332e-02],\n",
       "        [-2.09019450e-01, -2.64400420e-02, -8.70667249e-02,\n",
       "         -5.23519737e-02,  9.21860765e-02, -3.53373403e-02,\n",
       "          3.49441183e-02,  1.31624810e-02,  9.85852018e-02,\n",
       "         -1.40460336e-01],\n",
       "        [ 5.40160215e-02,  6.66330770e-02,  1.37382184e-01,\n",
       "         -4.62608299e-02,  2.84364873e-01, -7.34811121e-02,\n",
       "          2.37528181e-01, -8.64185137e-02, -1.38201619e-02,\n",
       "         -7.98819789e-03],\n",
       "        [ 1.28723179e-02,  6.69454920e-02, -1.03477643e-01,\n",
       "         -9.43493435e-02,  5.29071147e-02, -1.05121319e-01,\n",
       "         -1.52365383e-02, -7.65371245e-02, -1.79737279e-01,\n",
       "         -5.88481049e-02],\n",
       "        [ 9.18290422e-03, -2.21456600e-02, -2.12075113e-01,\n",
       "         -1.05753449e-01, -8.48595594e-02, -1.43287999e-01,\n",
       "         -2.52796288e-01, -4.15055081e-03, -1.96599823e-03,\n",
       "         -1.23046486e-01],\n",
       "        [ 1.74877733e-01,  2.08947386e-01, -1.83222236e-01,\n",
       "          9.59895973e-02,  4.05436984e-02, -4.73881583e-02,\n",
       "          1.71842532e-01, -1.53701389e-02,  8.55651222e-02,\n",
       "          1.26751259e-01],\n",
       "        [-6.69022623e-02, -1.62453448e-01,  3.42084687e-02,\n",
       "          4.52698073e-02, -1.33051860e-01, -1.06785225e-01,\n",
       "         -9.71393810e-02, -1.34129188e-01,  1.09905169e-02,\n",
       "         -9.76425219e-02],\n",
       "        [ 9.17293789e-03, -1.31455726e-01,  6.17771645e-02,\n",
       "         -6.91518905e-02, -8.64812329e-02, -1.09144034e-01,\n",
       "          2.58063039e-02,  5.44989799e-02,  1.10049229e-01,\n",
       "          9.13665163e-02],\n",
       "        [ 1.42715356e-01, -5.40662609e-02, -3.62870020e-02,\n",
       "          1.13155577e-02, -5.14099517e-02, -5.07125324e-02,\n",
       "         -1.21633255e-01,  8.05991382e-02, -1.56933674e-01,\n",
       "         -8.62073469e-02],\n",
       "        [-8.15741618e-02, -1.28942179e-01, -3.64013051e-02,\n",
       "          5.24948783e-02, -1.58307237e-02, -4.47096597e-03,\n",
       "          8.16284384e-02,  9.18505318e-02, -1.35120794e-01,\n",
       "         -4.04046226e-02]]),\n",
       " 'b1': array([-0.05017847, -0.45911152, -0.65679482, -0.45833828, -0.10676417,\n",
       "        -0.00908169, -0.33902025, -0.33390304,  0.39749124,  0.15155095,\n",
       "        -0.51106986, -0.37910615,  0.00131264,  0.42673697, -0.13243915,\n",
       "        -0.0614703 , -0.19274571, -0.24622106, -0.31399258, -0.62052409,\n",
       "        -0.12494729, -0.58854126, -0.20323073, -0.07571677, -0.13507324,\n",
       "         0.2517428 , -0.26470292,  0.06002935, -0.04509614, -0.46312186,\n",
       "        -0.05470185, -0.14984346, -0.40246313, -0.4479029 , -0.40861875,\n",
       "         0.17569705, -0.63898116, -0.48583382, -0.41689639, -0.09620608,\n",
       "        -0.65167383,  0.1313733 , -0.41662477, -0.35883136, -0.26204312,\n",
       "        -0.4532436 ,  0.10720442,  0.08204393, -0.06018089,  0.08667869,\n",
       "         0.17762062,  0.22524221, -0.73385747, -0.5136288 , -0.12598139,\n",
       "        -0.22166112,  0.19298128,  0.08378941, -0.21045873, -0.34400407,\n",
       "         0.18447607, -0.0708532 , -0.19472634, -0.07099797, -0.11668203,\n",
       "        -0.18633367,  0.17101418, -0.55745635, -0.19867801, -0.35062448,\n",
       "        -0.24209648, -0.28299457, -0.01353543, -0.34672817, -0.33314512,\n",
       "        -0.60744749,  0.0221461 , -0.50721061, -0.08592063, -0.15439757,\n",
       "        -0.33138845,  0.19472522, -0.05990158, -0.50439019, -0.16019584,\n",
       "         0.11918285,  0.40841559, -0.25992566, -0.39776627, -0.27931008,\n",
       "        -0.45686907, -0.12973087,  0.123109  ,  0.05688205,  0.26502945,\n",
       "         0.37962107,  0.12940779,  0.22364014, -0.10984159, -0.10586679,\n",
       "        -0.06100748, -0.24782973, -0.7019441 , -0.22515519, -0.01660604,\n",
       "        -0.20070149, -0.28412929, -0.17874444, -0.43585581, -0.15402727,\n",
       "        -0.0057451 , -0.04257832,  0.47185671, -0.15475141, -0.1000336 ,\n",
       "        -0.06504859, -0.21646384, -0.26326439, -0.38099944,  0.28329505,\n",
       "        -0.04007577, -0.54498464, -0.45206308,  0.40625884,  0.10914464,\n",
       "         0.11641375, -0.31465007,  0.00912824,  0.00997184, -0.15988635,\n",
       "         0.23578019, -0.53046484, -0.36839997,  0.02140819,  0.0200842 ,\n",
       "         0.10396001, -0.13639686, -0.24759472,  0.27979096, -0.45641502,\n",
       "        -0.37020059,  0.2088729 , -0.43437401, -0.11560938,  0.21689292,\n",
       "        -0.46509045, -0.03651911, -0.20809454, -0.07376984, -0.61798623,\n",
       "        -0.36681645, -0.12904683, -0.2910074 , -0.30940485, -0.51337172,\n",
       "        -0.04771491, -0.4868199 , -0.25287697, -0.01924638, -0.25682551,\n",
       "         0.04088849,  0.31526147, -0.4020977 , -0.49279483, -0.16667623,\n",
       "         0.14541819,  0.03386849, -0.15568538, -0.49138743, -0.04590331,\n",
       "         0.10862299, -0.11068583,  0.17647325,  0.13307297, -0.18653867,\n",
       "        -0.437194  , -0.06567807, -0.47173393,  0.19588772,  0.12273049,\n",
       "        -0.20607901, -0.01444836, -0.14685374, -0.2762749 ,  0.14986504,\n",
       "         0.05859409, -0.14304431, -0.28056388, -0.38008635, -0.31058675,\n",
       "        -0.53322988, -0.07014327,  0.27804336,  0.39208147, -0.18335288,\n",
       "         0.17101446, -0.16467115,  0.22159623, -0.25650898,  0.10025095]),\n",
       " 'b2': array([-0.09341183,  0.11898077,  0.05842885,  0.28969159, -0.33698838,\n",
       "         0.12568443, -0.00285182, -0.21573326,  0.08677849, -0.05671719,\n",
       "         0.01310435,  0.07322622, -0.22825503, -0.01847012, -0.04469519,\n",
       "        -0.11093986,  0.04532127,  0.07203473, -0.01400595, -0.01252776,\n",
       "         0.04746817, -0.10515884, -0.06928511, -0.08121453, -0.16735335,\n",
       "         0.04294179, -0.01573786, -0.24566884,  0.09977069,  0.18234179,\n",
       "         0.10780818,  0.44576006, -0.19617129, -0.0859786 , -0.33942331,\n",
       "        -0.16844388,  0.02841052, -0.13141908, -0.03716909, -0.14705367,\n",
       "         0.12661434, -0.12043721,  0.00428939, -0.06200817,  0.01535056,\n",
       "         0.06923828, -0.08169584, -0.04127153,  0.25191815, -0.06857637,\n",
       "        -0.03821658,  0.23414246, -0.03063979,  0.11206529, -0.40163909,\n",
       "        -0.36446397,  0.42612032, -0.06046551, -0.09370573,  0.20266912,\n",
       "        -0.04413278,  0.10625267,  0.15086418,  0.05244511,  0.09368852,\n",
       "        -0.09374549,  0.06588766, -0.20984911,  0.19083353, -0.0521126 ,\n",
       "         0.06329894, -0.06982881,  0.22545593, -0.050759  ,  0.08207332,\n",
       "        -0.184095  , -0.09868846,  0.10312973,  0.03019103, -0.03868835,\n",
       "         0.07302191, -0.07069581, -0.03291076,  0.04965956, -0.05963735,\n",
       "         0.01700804, -0.21952751, -0.4157272 ,  0.045621  , -0.26985666,\n",
       "        -0.12322916,  0.00945064, -0.19357424, -0.1182115 , -0.00252032,\n",
       "        -0.07892061,  0.1578259 , -0.0704131 , -0.0077809 ,  0.13238993,\n",
       "        -0.12789084, -0.0192793 ,  0.05376374, -0.2427037 ,  0.69478119,\n",
       "         0.10240216, -0.20924838, -0.24450132, -0.12593484,  0.16231462,\n",
       "         0.03122312, -0.59426048, -0.29008762, -0.01652874, -0.20570618,\n",
       "         0.02897688,  0.14217712, -0.07781442, -0.00482719, -0.14765343,\n",
       "         0.10834438, -0.08196786, -0.09395232,  0.01974502,  0.07494803,\n",
       "        -0.01314406,  0.25816124,  0.01601406, -0.15196676, -0.08181995,\n",
       "         0.03483863, -0.18010695, -0.05078506, -0.22519664, -0.02014989,\n",
       "         0.20009978,  0.35644028, -0.05351467,  0.12678336,  0.03886308,\n",
       "        -0.00707703, -0.29433554,  0.10197578,  0.00538316,  0.52767967,\n",
       "         0.26125947, -0.16938778,  0.09410233,  0.02497243, -0.50658555]),\n",
       " 'b3': array([-0.0861805 , -0.08540359, -0.17809454, -0.10599144, -0.15097308,\n",
       "        -0.09071561, -0.04497109, -0.03499164, -0.02880945, -0.27899498,\n",
       "        -0.11982994, -0.07783929,  0.00429733, -0.03984932, -0.02366167,\n",
       "        -0.00677823, -0.11495677, -0.07376957, -0.0694982 , -0.08546564,\n",
       "         0.03097804, -0.09495605,  0.19422699, -0.05257972, -0.07164366,\n",
       "         0.04271783, -0.08165093, -0.05839956, -0.04585482,  0.00915075,\n",
       "        -0.16736675, -0.01839099,  0.33896128, -0.09745674,  0.14796714,\n",
       "        -0.04310926, -0.09641479, -0.05680038, -0.01206615,  0.2924428 ,\n",
       "        -0.10196816, -0.13299856, -0.0241709 , -0.05867916, -0.23818697,\n",
       "        -0.14355921, -0.16316484, -0.03068864, -0.09033668,  0.05102953,\n",
       "        -0.04590089, -0.11001685, -0.107532  , -0.03694163,  0.12228961,\n",
       "        -0.08987654,  0.01462326,  0.47983281, -0.0626783 , -0.05863811,\n",
       "         0.64294169, -0.07639609,  0.12100896, -0.11019216, -0.0357937 ,\n",
       "        -0.02543869, -0.08428967, -0.11026206, -0.03185997, -0.00692373,\n",
       "        -0.04837242,  0.1255581 ,  0.54661196, -0.08977178, -0.12405458,\n",
       "        -0.03928964, -0.13627772, -0.04492762, -0.03471736, -0.0553163 ,\n",
       "        -0.07240812, -0.01626232, -0.03622915, -0.11547825,  0.06752416,\n",
       "        -0.07537739,  0.14487502,  0.00452889,  0.2302958 , -0.10853308,\n",
       "        -0.03680498,  0.00940502, -0.06500824, -0.12107493, -0.05895484,\n",
       "        -0.06164674, -0.11669692, -0.09030859, -0.1674997 , -0.06149835,\n",
       "        -0.15986478, -0.1008439 ,  0.50433822, -0.12785158, -0.06203235,\n",
       "        -0.05549548, -0.71797063,  0.08565255,  0.11540007, -0.05558725,\n",
       "        -0.0743789 ,  0.07289205, -0.09371235,  0.0388405 , -0.09641216,\n",
       "         0.12413091, -0.09058009, -0.04257218, -0.04104394, -0.11030968,\n",
       "        -0.0879436 , -0.06644149, -0.01694972,  0.02821437, -0.06702694,\n",
       "         0.1384411 , -0.00475487,  0.09018205,  0.05866679, -0.21615426,\n",
       "         0.02788037, -0.03382799, -0.12451081, -0.19732898, -0.01720379,\n",
       "        -0.07251395, -0.05506506,  0.25220074, -0.07891008,  0.02863159,\n",
       "        -0.05899584,  0.23115052, -0.04242038, -0.00121834, -0.04440338,\n",
       "         0.02010683, -0.13645866, -0.09674165, -0.13225242, -0.04883382]),\n",
       " 'b4': array([-0.06259586, -0.07303598, -0.02129115, -0.03545116, -0.03905319,\n",
       "        -0.05323059, -0.10094877, -0.08124373, -0.076976  , -0.08918853,\n",
       "        -0.10916681, -0.05009711, -0.09636549, -0.08424179,  0.67738073,\n",
       "        -0.05289279, -0.07920153, -0.06338461, -0.10336541, -0.15458451,\n",
       "         0.15309291, -0.10232423, -0.10662342, -0.04009874, -0.05233918,\n",
       "        -0.07305871, -0.10042158, -0.09116915, -0.08694058, -0.02691085,\n",
       "        -0.02979853, -0.07547461, -0.07966899, -0.099946  , -0.05884897,\n",
       "        -0.06886456, -0.09319766, -0.0735587 ,  0.66920502, -0.04663062,\n",
       "        -0.04908844, -0.07258401, -0.06727121, -0.04034287, -0.09937973,\n",
       "        -0.0478752 , -0.21440849,  0.02803951, -0.04713162, -0.09273011,\n",
       "        -0.04393807, -0.0486498 , -0.09175549, -0.1100367 ,  0.02611905,\n",
       "        -0.10149834, -0.10281638, -0.06205687, -0.13875247, -0.23462211,\n",
       "         0.03888826, -0.07880019, -0.08301544, -0.06518442, -0.12605991,\n",
       "        -0.02975735, -0.1235634 , -0.0836038 , -0.00561785, -0.07071943,\n",
       "        -0.55895655, -0.09207773, -0.081193  , -0.04927601, -0.07850972,\n",
       "        -0.02582059, -0.07876951, -0.03380446, -0.05755178, -0.08916943,\n",
       "        -0.11166786, -0.0829498 ,  0.42806671, -0.05026597, -0.11210277,\n",
       "        -0.09011452, -0.02949373, -0.07156938, -0.09308415, -0.13230916,\n",
       "        -0.0332982 , -0.0842106 , -0.04449012, -0.08683978, -0.07398188,\n",
       "        -0.05845183, -0.05039478, -0.11334475, -0.11299053, -0.09997445]),\n",
       " 'b5': array([-0.00273642, -0.51061834,  0.62324703, -0.19180134,  0.37378359,\n",
       "        -0.30906847,  0.68266072, -0.36429007,  0.02999596, -0.33950755])}"
      ]
     },
     "execution_count": 217,
     "metadata": {},
     "output_type": "execute_result"
    }
   ],
   "source": [
    "# solver.model.params"
   ]
  },
  {
   "cell_type": "code",
   "execution_count": 219,
   "metadata": {
    "ExecuteTime": {
     "end_time": "2018-01-18T11:15:12.268286Z",
     "start_time": "2018-01-18T11:15:12.256084Z"
    }
   },
   "outputs": [],
   "source": [
    "best_model = model"
   ]
  },
  {
   "cell_type": "markdown",
   "metadata": {},
   "source": [
    "# Test you model\n",
    "Run your best model on the validation and test sets. You should achieve above 50% accuracy on the validation set."
   ]
  },
  {
   "cell_type": "code",
   "execution_count": 220,
   "metadata": {
    "ExecuteTime": {
     "end_time": "2018-01-18T11:15:13.460915Z",
     "start_time": "2018-01-18T11:15:13.302468Z"
    }
   },
   "outputs": [
    {
     "name": "stdout",
     "output_type": "stream",
     "text": [
      "Validation set accuracy:  0.516\n",
      "Test set accuracy:  0.494\n"
     ]
    }
   ],
   "source": [
    "y_test_pred = np.argmax(best_model.loss(data['X_test']), axis=1)\n",
    "y_val_pred = np.argmax(best_model.loss(data['X_val']), axis=1)\n",
    "print('Validation set accuracy: ', (y_val_pred == data['y_val']).mean())\n",
    "print('Test set accuracy: ', (y_test_pred == data['y_test']).mean())"
   ]
  }
 ],
 "metadata": {
  "kernelspec": {
   "display_name": "Python 3",
   "language": "python",
   "name": "python3"
  },
  "language_info": {
   "codemirror_mode": {
    "name": "ipython",
    "version": 3
   },
   "file_extension": ".py",
   "mimetype": "text/x-python",
   "name": "python",
   "nbconvert_exporter": "python",
   "pygments_lexer": "ipython3",
   "version": "3.6.3"
  }
 },
 "nbformat": 4,
 "nbformat_minor": 1
}
